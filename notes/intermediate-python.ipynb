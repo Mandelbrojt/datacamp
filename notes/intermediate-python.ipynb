{
 "cells": [
  {
   "cell_type": "markdown",
   "id": "1edd25bb-8102-4e3b-afea-51305669309b",
   "metadata": {},
   "source": [
    "# Intermediate Python"
   ]
  },
  {
   "cell_type": "code",
   "execution_count": 3,
   "id": "a062f79d-84b8-4e92-bb89-2fdca01644e3",
   "metadata": {},
   "outputs": [],
   "source": [
    "import pandas as pd\n",
    "\n",
    "# Store the World Bank data about global population and gdp\n",
    "pop_and_gdp = pd.read_csv(\"/Users/luismoreno/Documents/Python/python-datacamp/intermediate/datasets/population_and_gdp.csv\")"
   ]
  },
  {
   "cell_type": "code",
   "execution_count": 44,
   "id": "dd637bd3-272c-4db3-8dba-6a4f2758ff03",
   "metadata": {},
   "outputs": [
    {
     "name": "stdout",
     "output_type": "stream",
     "text": [
      "Index(['year', 'country_name', 'continent', 'country_code', 'gdp_usd',\n",
      "       'total_pop', 'gdp_per_capita'],\n",
      "      dtype='object')\n"
     ]
    }
   ],
   "source": [
    "print(pop_and_gdp.columns)"
   ]
  },
  {
   "cell_type": "code",
   "execution_count": 65,
   "id": "d2c1ba47-c51b-4b7f-a7c0-8b14cda19e32",
   "metadata": {},
   "outputs": [
    {
     "name": "stdout",
     "output_type": "stream",
     "text": [
      "year              False\n",
      "country_name      False\n",
      "continent         False\n",
      "country_code      False\n",
      "gdp_usd           False\n",
      "total_pop         False\n",
      "gdp_per_capita    False\n",
      "dtype: bool\n"
     ]
    }
   ],
   "source": [
    "# Delete NA values from the dataset\n",
    "pop_and_gdp = pop_and_gdp.dropna()\n",
    "\n",
    "# Verify if the dataset contains missing values\n",
    "print(pop_and_gdp.isna().any())"
   ]
  },
  {
   "cell_type": "code",
   "execution_count": 66,
   "id": "38e79b36-64bd-4e0a-be99-918229a32b41",
   "metadata": {},
   "outputs": [],
   "source": [
    "usa = pop_and_gdp[pop_and_gdp[\"country_name\"] == \"United States\"]\n",
    "mex = pop_and_gdp[pop_and_gdp[\"country_name\"] == \"Mexico\"]\n",
    "\n",
    "# Store population, GDP and the year into for Mexico into variables\n",
    "mex_pop = mex[\"total_pop\"]\n",
    "mex_gdp = mex[\"gdp_usd\"]\n",
    "mex_year = mex[\"year\"]\n",
    "\n",
    "# Store population, GDP and the year into for United States into variables\n",
    "usa_pop = mex[\"total_pop\"]\n",
    "usa_gdp = mex[\"gdp_usd\"]\n",
    "usa_year = mex[\"year\"]"
   ]
  },
  {
   "cell_type": "markdown",
   "id": "013d8c16-fd1b-4b04-8bde-19b637131c10",
   "metadata": {},
   "source": [
    "## Matplotlib"
   ]
  },
  {
   "cell_type": "markdown",
   "id": "45f20101-fa6a-41f9-8022-4894ec690900",
   "metadata": {},
   "source": [
    "### Line Plot"
   ]
  },
  {
   "cell_type": "code",
   "execution_count": 67,
   "id": "98450189-4810-4102-8203-3bd9a42267c0",
   "metadata": {},
   "outputs": [
    {
     "data": {
      "image/png": "[encoded data removed]",
      "text/plain": [
       "<Figure size 432x288 with 1 Axes>"
      ]
     },
     "metadata": {
      "needs_background": "light"
     },
     "output_type": "display_data"
    }
   ],
   "source": [
    "# Import matplotlib.pyplot as plt\n",
    "import matplotlib.pyplot as plt\n",
    "\n",
    "# Make a line plot: year on the x-axis, pop on the y-axis\n",
    "plt.plot(mex_year, mex_pop)\n",
    "\n",
    "# Display the plot with plt.show()\n",
    "plt.show()"
   ]
  },
  {
   "cell_type": "markdown",
   "id": "35e4bcd5-e31b-479b-8919-406a7841c1bd",
   "metadata": {},
   "source": [
    "### Scatter Plot"
   ]
  },
  {
   "cell_type": "code",
   "execution_count": 71,
   "id": "49f04b59-ef0c-4cdf-a938-639270d015cc",
   "metadata": {},
   "outputs": [
    {
     "data": {
      "image/png": "[encoded data removed]",
      "text/plain": [
       "<Figure size 432x288 with 1 Axes>"
      ]
     },
     "metadata": {
      "needs_background": "light"
     },
     "output_type": "display_data"
    }
   ],
   "source": [
    "import matplotlib.pyplot as plt\n",
    "\n",
    "# Create a scatter plot to compare the relationship between gdp and population\n",
    "plt.scatter(usa_gdp, usa_pop)\n",
    "\n",
    "# Set the x-axis (gdp) on a logarithmic scale\n",
    "plt.xscale('log')\n",
    "\n",
    "# Show plot\n",
    "plt.show()"
   ]
  },
  {
   "cell_type": "markdown",
   "id": "9861156b-e82e-4071-bbcc-5a498efe388e",
   "metadata": {},
   "source": [
    "### Histogram"
   ]
  },
  {
   "cell_type": "markdown",
   "id": "1ac9d5fb-6857-4162-96c7-44baf77bfcd2",
   "metadata": {},
   "source": [
    "- The **number of bins** is pretty important. Too **few** bins will **oversimplify reality** and won't show you the details. Too **many** bins will **overcomplicate** reality and won't show the bigger picture."
   ]
  },
  {
   "cell_type": "code",
   "execution_count": 24,
   "id": "ca83d9e0-86ea-4f18-b225-8377b9cf48a3",
   "metadata": {},
   "outputs": [],
   "source": [
    "import pandas as pd\n",
    "life_exp = pd.read_csv(\"/Users/luismoreno/Documents/Python/python-datacamp/intermediate/datasets/life_expectancy_years.csv\")\n",
    "\n",
    "# Select life expectancy data for the year 2015\n",
    "life_exp_2019 = life_exp[\"2019\"]"
   ]
  },
  {
   "cell_type": "markdown",
   "id": "ad168fb6-0dc1-4d9f-a0dc-d03fba8bd47a",
   "metadata": {},
   "source": [
    "#### Setting Histogram Bins"
   ]
  },
  {
   "cell_type": "code",
   "execution_count": 26,
   "id": "10c44f7c-cfde-4c0d-a09b-7c455fda0cd8",
   "metadata": {},
   "outputs": [
    {
     "data": {
      "image/png": "[encoded data removed]",
      "text/plain": [
       "<Figure size 432x288 with 1 Axes>"
      ]
     },
     "metadata": {
      "needs_background": "light"
     },
     "output_type": "display_data"
    },
    {
     "data": {
      "image/png": "[encoded data removed]",
      "text/plain": [
       "<Figure size 432x288 with 1 Axes>"
      ]
     },
     "metadata": {
      "needs_background": "light"
     },
     "output_type": "display_data"
    },
    {
     "data": {
      "text/plain": [
       "<Figure size 432x288 with 0 Axes>"
      ]
     },
     "metadata": {},
     "output_type": "display_data"
    }
   ],
   "source": [
    "import matplotlib.pyplot as plt\n",
    "\n",
    "# Histogram of life expectancy in 2020 with 15 bins\n",
    "plt.hist(life_exp[\"2020\"], bins=15)\n",
    "\n",
    "# Show and clear plot\n",
    "plt.show()\n",
    "plt.clf()\n",
    "\n",
    "# Histogram of life expectancy in 2020 with 30 bins\n",
    "plt.hist(life_exp[\"2020\"], bins=30)\n",
    "\n",
    "# Show and clear plot again\n",
    "plt.show()\n",
    "plt.clf()"
   ]
  },
  {
   "cell_type": "markdown",
   "id": "ec0565df-0ca9-4c2e-b78b-2775a9e9686b",
   "metadata": {},
   "source": [
    "### Customize Plots"
   ]
  },
  {
   "cell_type": "markdown",
   "id": "b2beff3d-df00-456e-b4cb-eec6bb95c100",
   "metadata": {},
   "source": [
    "#### Labels"
   ]
  },
  {
   "cell_type": "markdown",
   "id": "4c1711a0-1bf1-4fa6-a676-9281664cc7db",
   "metadata": {},
   "source": [
    "- To add **axis labels** and a **title** to the plot, you can do this with the `xlabel()`, `ylabel()` and `title()` functions, available in matplotlib.pyplot."
   ]
  },
  {
   "cell_type": "code",
   "execution_count": 72,
   "id": "d040dd63-db97-491a-97d9-a283a78cb6d9",
   "metadata": {},
   "outputs": [
    {
     "data": {
      "image/png": "[encoded data removed]",
      "text/plain": [
       "<Figure size 432x288 with 1 Axes>"
      ]
     },
     "metadata": {
      "needs_background": "light"
     },
     "output_type": "display_data"
    }
   ],
   "source": [
    "# Basic scatter plot, log scale\n",
    "plt.scatter(mex_gdp, mex_pop)\n",
    "plt.xscale('log')\n",
    "plt.yscale('log')\n",
    "\n",
    "# Labels\n",
    "xlab = 'GDP [in USD]'\n",
    "ylab = 'Population [in millions]'\n",
    "title = 'Mexico Development'\n",
    "\n",
    "# Add axis labels\n",
    "plt.xlabel(xlab)\n",
    "plt.ylabel(ylab)\n",
    "\n",
    "# Add title\n",
    "plt.title(title)\n",
    "\n",
    "# Display the plot\n",
    "plt.show()"
   ]
  },
  {
   "cell_type": "markdown",
   "id": "18542c05-dc94-4286-8015-5622809c8f7a",
   "metadata": {},
   "source": [
    "#### Ticks"
   ]
  },
  {
   "cell_type": "code",
   "execution_count": 73,
   "id": "1b46aa8b-a770-482e-9fea-ffb43a90656f",
   "metadata": {},
   "outputs": [
    {
     "data": {
      "image/png": "[encoded data removed]",
      "text/plain": [
       "<Figure size 432x288 with 1 Axes>"
      ]
     },
     "metadata": {
      "needs_background": "light"
     },
     "output_type": "display_data"
    }
   ],
   "source": [
    "# Basic scatter plot, log scale\n",
    "plt.scatter(mex_gdp, mex_pop)\n",
    "plt.xscale('log')\n",
    "plt.yscale('log')\n",
    "\n",
    "# Labels\n",
    "xlab = 'GDP [in USD]'\n",
    "ylab = 'Population [in millions]'\n",
    "title = 'Mexico Development'\n",
    "\n",
    "# Add axis labels\n",
    "plt.xlabel(xlab)\n",
    "plt.ylabel(ylab)\n",
    "\n",
    "# Add title\n",
    "plt.title(title)\n",
    "\n",
    "# Definition of tick_val and tick_lab\n",
    "tick_val = [10000, 100000, 1000000]\n",
    "tick_lab = ['10k', '100k','1m']\n",
    "\n",
    "# Adapt the ticks on the x-axis\n",
    "plt.xticks(tick_val, tick_lab)\n",
    "\n",
    "plt.show()"
   ]
  },
  {
   "cell_type": "markdown",
   "id": "08255f3e-3a47-496f-b4ee-a32fe7586d75",
   "metadata": {},
   "source": [
    "#### Sizes"
   ]
  },
  {
   "cell_type": "code",
   "execution_count": 87,
   "id": "a0657a7c-afe4-49bc-957d-27f57754be1b",
   "metadata": {},
   "outputs": [
    {
     "data": {
      "image/png": "[encoded data removed]",
      "text/plain": [
       "<Figure size 432x288 with 1 Axes>"
      ]
     },
     "metadata": {
      "needs_background": "light"
     },
     "output_type": "display_data"
    }
   ],
   "source": [
    "# Basic scatter plot, log scale\n",
    "plt.scatter(mex_gdp, mex_pop, s=mex_pop)\n",
    "plt.xscale('log')\n",
    "\n",
    "# Labels\n",
    "xlab = 'GDP [in USD]'\n",
    "ylab = 'Population [in millions]'\n",
    "title = 'Mexico Development'\n",
    "\n",
    "# Add axis labels\n",
    "plt.xlabel(xlab)\n",
    "plt.ylabel(ylab)\n",
    "\n",
    "# Add title\n",
    "plt.title(title)\n",
    "\n",
    "# Definition of tick_val and tick_lab\n",
    "tick_val = [10000, 100000, 1000000]\n",
    "tick_lab = ['10k', '100k','1m']\n",
    "\n",
    "# Adapt the ticks on the x-axis\n",
    "plt.xticks(tick_val, tick_lab)\n",
    "\n",
    "plt.show()"
   ]
  },
  {
   "cell_type": "code",
   "execution_count": 104,
   "id": "f3eb4f6b-965e-4bc4-9d16-5875c0d8ec86",
   "metadata": {},
   "outputs": [
    {
     "data": {
      "image/png": "[encoded data removed]",
      "text/plain": [
       "<Figure size 432x288 with 1 Axes>"
      ]
     },
     "metadata": {
      "needs_background": "light"
     },
     "output_type": "display_data"
    }
   ],
   "source": [
    "# Create a list with color names\n",
    "color_names = [\"red\", \"black\", \"blue\", \n",
    "              \"orange\", \"green\", \"violet\"]\n",
    "\n",
    "# Create a list with color for each year in the dataset\n",
    "col = np.repeat(color_names, 10)\n",
    "\n",
    "# Basic scatter plot, log scale\n",
    "plt.scatter(mex_gdp, mex_pop, s=mex_pop, c=col)\n",
    "plt.xscale('log')\n",
    "\n",
    "# Labels\n",
    "xlab = 'GDP [in USD]'\n",
    "ylab = 'Population [in millions]'\n",
    "title = 'Mexico Development'\n",
    "\n",
    "# Add axis labels\n",
    "plt.xlabel(xlab)\n",
    "plt.ylabel(ylab)\n",
    "\n",
    "# Add title\n",
    "plt.title(title)\n",
    "\n",
    "# Definition of tick_val and tick_lab\n",
    "tick_val = [10000, 100000, 1000000]\n",
    "tick_lab = ['10k', '100k','1m']\n",
    "\n",
    "# Adapt the ticks on the x-axis\n",
    "plt.xticks(tick_val, tick_lab)\n",
    "\n",
    "# Additional customizations\n",
    "plt.text(mex_gdp.iloc[10], mex_pop.iloc[10], \"70's\")\n",
    "plt.text(mex_gdp.iloc[20], mex_pop.iloc[20], \"80's\")\n",
    "plt.text(mex_gdp.iloc[30], mex_pop.iloc[30], \"90's\")\n",
    "plt.text(mex_gdp.iloc[40], mex_pop.iloc[40], \"00's\")\n",
    "plt.text(mex_gdp.iloc[50], mex_pop.iloc[50], \"10's\")\n",
    "\n",
    "# Add grid() call\n",
    "plt.grid(True)\n",
    "\n",
    "plt.show()"
   ]
  },
  {
   "cell_type": "markdown",
   "id": "69af4048-17b0-499b-9c7f-61c965151c11",
   "metadata": {},
   "source": [
    "## Dictionaries and Pandas"
   ]
  },
  {
   "cell_type": "markdown",
   "id": "078ba924-c118-4df5-80e7-c57bc30029fe",
   "metadata": {},
   "source": [
    "## Logic, Control Flow and Filtering"
   ]
  },
  {
   "cell_type": "markdown",
   "id": "6c126fc4-45ff-4d79-9822-f36dac975091",
   "metadata": {},
   "source": [
    "## Loops"
   ]
  },
  {
   "cell_type": "markdown",
   "id": "51655d97-41b4-4a64-b0e9-be79f3244a09",
   "metadata": {},
   "source": [
    "## Case Study"
   ]
  }
 ],
 "metadata": {
  "kernelspec": {
   "display_name": "Python 3",
   "language": "python",
   "name": "python3"
  },
  "language_info": {
   "codemirror_mode": {
    "name": "ipython",
    "version": 3
   },
   "file_extension": ".py",
   "mimetype": "text/x-python",
   "name": "python",
   "nbconvert_exporter": "python",
   "pygments_lexer": "ipython3",
   "version": "3.8.8"
  }
 },
 "nbformat": 4,
 "nbformat_minor": 5
}
