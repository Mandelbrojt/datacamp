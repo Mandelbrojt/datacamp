{
 "cells": [
  {
   "cell_type": "markdown",
   "id": "44bdead5",
   "metadata": {},
   "source": [
    "# Python Data Types"
   ]
  },
  {
   "cell_type": "markdown",
   "id": "4d28b995",
   "metadata": {},
   "source": [
    "## [Lists](https://docs.python.org/3/tutorial/datastructures.html?highlight=list)\n",
    "\n",
    "- Use [`.append()`](https://docs.python.org/3/library/array.html?highlight=append#array.array.append) to **add** individual data elements to a list.\n",
    "\n",
    "- Use [`.extend()`](https://docs.python.org/3/library/array.html?highlight=append#array.array.extend) to **combine** a list with another array type (list, set, tuple).\n",
    "\n",
    "- Use [`.index()`](https://docs.python.org/3/library/array.html?highlight=append#array.array.index) to **find** the position of an item in a list.\n",
    "\n",
    "- Use [`.pop()`](https://docs.python.org/3/library/array.html?highlight=append#array.array.pop) to **remove** an item based on their index."
   ]
  },
  {
   "cell_type": "code",
   "execution_count": 1,
   "id": "da9752f3",
   "metadata": {},
   "outputs": [
    {
     "name": "stdout",
     "output_type": "stream",
     "text": [
      "['Ximena', 'Aliza', 'Ayden', 'Calvin', 'Rowen', 'Sandeep']\n",
      "['Ximena', 'Ayden', 'Calvin', 'Rowen', 'Sandeep']\n"
     ]
    }
   ],
   "source": [
    "# Create a list containing the names: baby_names\n",
    "baby_names = ['Ximena', 'Aliza', 'Ayden', 'Calvin']\n",
    "\n",
    "# Extend baby_names with 'Rowen' and 'Sandeep'\n",
    "baby_names.extend(['Rowen', 'Sandeep'])\n",
    "\n",
    "# Print baby_names\n",
    "print(baby_names)\n",
    "\n",
    "# Find the position of 'Aliza': position\n",
    "position = baby_names.index('Aliza')\n",
    "\n",
    "# Remove 'Aliza' from baby_names\n",
    "baby_names.pop(position)\n",
    "\n",
    "# Print baby_names\n",
    "print(baby_names)"
   ]
  },
  {
   "cell_type": "markdown",
   "id": "b796c78f",
   "metadata": {},
   "source": [
    "## Looping over lists\n",
    "- Use a `for` loop to iterate through all the items in a list.\n",
    "- Use [`sorted()` **function**](https://docs.python.org/3/library/functions.html#sorted) to sort the data in a list from lowest to highest (for numbers and strings). It **returns a new list** and it does not affect the list you passed into the function."
   ]
  },
  {
   "cell_type": "code",
   "execution_count": 2,
   "id": "e5e5fcb4",
   "metadata": {},
   "outputs": [
    {
     "name": "stdout",
     "output_type": "stream",
     "text": [
      "Aarya\n",
      "Abby\n",
      "Abigail\n",
      "Aisha\n",
      "Aiza\n",
      "Aleena\n"
     ]
    }
   ],
   "source": [
    "# List of list\n",
    "records = [['2014', 'FEMALE', 'ASIAN AND PACIFIC ISLANDER', 'Aarya', '10', '40'], \n",
    "           ['2014', 'FEMALE', 'ASIAN AND PACIFIC ISLANDER', 'Abby', '27', '23'], \n",
    "           ['2014', 'FEMALE', 'ASIAN AND PACIFIC ISLANDER', 'Abigail', '31', '19'], \n",
    "           ['2014', 'FEMALE', 'ASIAN AND PACIFIC ISLANDER', 'Aisha', '18', '32'], \n",
    "           ['2014', 'FEMALE', 'ASIAN AND PACIFIC ISLANDER', 'Aiza', '19', '31'], \n",
    "           ['2014', 'FEMALE', 'ASIAN AND PACIFIC ISLANDER', 'Aleena', '17', '33']]\n",
    "\n",
    "# Create the empty list: baby_names\n",
    "baby_names = []\n",
    "\n",
    "# Loop over records \n",
    "for row in records:\n",
    "    # Add the name to the list\n",
    "    baby_names.append(row[3])\n",
    "    \n",
    "# Sort the names in alphabetical order\n",
    "for name in sorted(baby_names):\n",
    "    # Print each name\n",
    "    print(name)"
   ]
  },
  {
   "cell_type": "markdown",
   "id": "5e88cf02",
   "metadata": {},
   "source": [
    "## [Tuples](https://docs.python.org/3/tutorial/datastructures.html?highlight=list#tuples-and-sequences)  \n",
    "\n",
    "- **Several items that cannot be modified** in any way.  \n",
    "\n",
    "- Used to represent data from a database.  \n",
    "\n",
    "- Tuples can be \"**unpacked**\" into multipe variables such as `type, count = ('chocolate chip cookies', 15)` that will set `type` to `'chocolate chip cookies'` and `count` to `15`.  \n",
    "\n",
    "- Use [`zip()` **function**](https://docs.python.org/3/library/functions.html#zip) to **pair up multiple array data types**. It returns a list of tuples containing one element from each list passed into zip().  \n",
    "\n",
    "- Use [`enumerate()` **function**](https://docs.python.org/3/library/functions.html#enumerate) to **track your position in the list**. It returns the index of the list item you are currently on in the list and list item itself.  \n"
   ]
  },
  {
   "cell_type": "code",
   "execution_count": 3,
   "id": "af3d2ccb",
   "metadata": {},
   "outputs": [
    {
     "name": "stdout",
     "output_type": "stream",
     "text": [
      "Rank 0: JADA and JOSIAH\n",
      "Rank 1: Emily and ETHAN\n",
      "Rank 2: Ava and Jayden\n",
      "Rank 3: SERENITY and MASON\n",
      "Rank 4: Claire and RYAN\n",
      "Rank 5: SOPHIA and CHRISTIAN\n"
     ]
    }
   ],
   "source": [
    "girl_names = ['JADA', 'Emily', 'Ava', 'SERENITY', 'Claire', 'SOPHIA', 'Sarah']\n",
    "boy_names = ['JOSIAH', 'ETHAN', 'Jayden', 'MASON', 'RYAN', 'CHRISTIAN']\n",
    "\n",
    "# Pair up the girl and boy names: pairs\n",
    "pairs = list(zip(girl_names, boy_names))\n",
    "\n",
    "# Iterate over pairs\n",
    "for idx, pair in enumerate(pairs):\n",
    "    # Unpack pair: girl_name, boy_name\n",
    "    girl_name, boy_name = pair\n",
    "    # Print the rank and names associated with each rank\n",
    "    print('Rank {}: {} and {}'.format(idx, girl_name, boy_name))"
   ]
  },
  {
   "cell_type": "markdown",
   "id": "08e9e5f5",
   "metadata": {},
   "source": [
    "## [Sets](https://docs.python.org/3/tutorial/datastructures.html?highlight=list#sets)  \n",
    "\n",
    "Main characteristics:  \n",
    "- Unique,  \n",
    "- Unordered,  \n",
    "- Mutable,  \n",
    "- Python's implementation of Set Theory from Mathematics.  \n",
    "\n",
    "\n",
    "\n",
    "- The `.union()` **method** returns a set of all the names found in the set you used the method on plus any sets passed as arguments to the method.\n",
    "- The `.intersection()` **method** looks for overlapping data in sets. It will return an empty set if nothing matches.\n",
    "- The `.difference()` **method** returns all the items found in one set but not another.\n",
    "- Use `add()` to add items to a set. A set will only add items that do not exist in the set.\n"
   ]
  },
  {
   "cell_type": "code",
   "execution_count": 2,
   "id": "a6535b1f",
   "metadata": {},
   "outputs": [
    {
     "name": "stdout",
     "output_type": "stream",
     "text": [
      "28\n",
      "12\n"
     ]
    }
   ],
   "source": [
    "baby_names_2011 = {'Lillian', 'Leyla', 'Lilly', 'Allison', \n",
    "                   'Nikolas', 'Jaylin', 'Samiya', 'Gemma', \n",
    "                   'Hayden', 'Isabel', 'Emanuel', 'Katelynn', \n",
    "                   'Alana', 'Londyn', 'Reid', 'Cole', \n",
    "                   'Gabriel', 'Luca', 'Tiffany', 'Ezekiel'}\n",
    "\n",
    "baby_names_2014 = {'Lillian', 'Leyla', 'Mae', 'Lilly', \n",
    "                   'Juniper', 'Allison', 'Jaylin', 'Monica', \n",
    "                   'Journee', 'Cormac', 'Trany', 'Gemma', \n",
    "                   'Hayden', 'Nashla', 'Isabel', 'Emanuel', \n",
    "                   'Phoenix', 'Alana', 'Londyn', 'Reid'}\n",
    "\n",
    "# Find the union: all_names\n",
    "all_names = baby_names_2011.union(baby_names_2014)\n",
    "\n",
    "# Print the count of names in all_names\n",
    "print(len(all_names))\n",
    "\n",
    "# Find the intersection: overlapping_names\n",
    "overlapping_names = baby_names_2011.intersection(baby_names_2014)\n",
    "\n",
    "# Print the count of names in overlapping_names\n",
    "print(len(overlapping_names))"
   ]
  },
  {
   "cell_type": "code",
   "execution_count": 18,
   "id": "876cc969",
   "metadata": {},
   "outputs": [
    {
     "name": "stdout",
     "output_type": "stream",
     "text": [
      "{'Isabela', 'Geraldine', 'Heidy', 'Ingrid', 'Hailey', 'Heaven', 'Izabella', 'Isabel', 'Iris', 'Hannah', 'Jade', 'Hayley', 'Jada', 'Jayda', 'Isis', 'Jayla', 'Gia', 'Irene', 'Jacqueline', 'Giselle', 'Helen', 'Gianna', 'Jasmine', 'Grace', 'Janelle', 'Jaylah', 'Heidi', 'Hazel', 'Haley', 'Jaelynn', 'Imani', 'Isabella', 'Jasmin', 'Itzel', 'Jaslene', 'Jamie', 'Haylee', 'Jaylene', 'Isabelle'}\n"
     ]
    }
   ],
   "source": [
    "baby_names_2014 = {'Yosef', 'Amira', 'Lauryn', 'Jayleen', 'Aydin', 'Finn', 'Michael', 'Uriel', \n",
    "                   'Adelaide', 'Sean', 'Valerie', 'Ibrahima', 'Montserrat', 'Guadalupe', 'Carina', 'Eddy', \n",
    "                   'Jesus', 'Joy', 'Ashton', 'Moses', 'Ezekiel', 'Brayden', 'Rocco', 'Arthur', \n",
    "                   'Kira', 'Ayleen', 'Alana', 'Bridget', 'Louisa', 'Selena', 'Aisha', 'Londyn', \n",
    "                   'Harper', 'Carmen', 'Raymond', 'Lev', 'Juliana', 'Alexa', 'Hadassah', 'Sergio', \n",
    "                   'Jimena', 'Cayden', 'Inaya', 'Nahla', 'Zion', 'Issac', 'Tzvi', 'Danna', \n",
    "                   'Annabella', 'Nikita', 'Kimi', 'Helena', 'Mason', 'Eden', 'Etty', 'Sophie', \n",
    "                   'Liv', 'Wolf', 'Kelly', 'Malachi', 'Fatou', 'Ahmed', 'Jeremy', 'Arlo', \n",
    "                   'Serenity', 'Gitty', 'Michaela', 'Ismael', 'Ashley', 'Emma', 'Kingsley', 'Adam', \n",
    "                   'Nathaly', 'Randy', 'Jazlyn', 'Yasmin', 'Jessica', 'Ali', 'Travis', 'Lailah', \n",
    "                   'Ian', 'Brian', 'Hersh', 'Yousef', 'Vanessa', 'Noor', 'Aniyah', 'Allyson', \n",
    "                   'Johnny', 'Brooklyn', 'Luka', 'Cora', 'Elisheva', 'Zoe', 'Alessia', 'Henry', \n",
    "                   'Hershy', 'Mindy', 'Sabrina', 'Jocelyn', 'Sylvia', 'Robert', 'Kylee', 'Iker', \n",
    "                   'Carolina', 'Avraham', 'Brandon', 'Kayden', 'Aileen', 'Elizabeth', 'Archer', \n",
    "                   'Yaseen', 'Syeda', 'Aaron', 'Lillian', 'Francis', 'Yidel', 'Salma', 'Reuben'}\n",
    "\n",
    "records = [['2011', 'FEMALE', 'HISPANIC', 'Geraldine', '13', '75'], \n",
    "           ['2011', 'FEMALE', 'HISPANIC', 'Gia', '21', '67'], \n",
    "           ['2011', 'FEMALE', 'HISPANIC', 'Gianna', '49', '42'], \n",
    "           ['2011', 'FEMALE', 'HISPANIC', 'Giselle', '38', '51'], \n",
    "           ['2011', 'FEMALE', 'HISPANIC', 'Grace', '36', '53'], \n",
    "           ['2011', 'FEMALE', 'HISPANIC', 'Guadalupe', '26', '62'], \n",
    "           ['2011', 'FEMALE', 'HISPANIC', 'Hailey', '126', '8'], \n",
    "           ['2011', 'FEMALE', 'HISPANIC', 'Haley', '14', '74'], \n",
    "           ['2011', 'FEMALE', 'HISPANIC', 'Hannah', '17', '71'], \n",
    "           ['2011', 'FEMALE', 'HISPANIC', 'Haylee', '17', '71'], \n",
    "           ['2011', 'FEMALE', 'HISPANIC', 'Hayley', '13', '75'], \n",
    "           ['2011', 'FEMALE', 'HISPANIC', 'Hazel', '10', '78'], \n",
    "           ['2011', 'FEMALE', 'HISPANIC', 'Heaven', '15', '73'], \n",
    "           ['2011', 'FEMALE', 'HISPANIC', 'Heidi', '15', '73'], \n",
    "           ['2011', 'FEMALE', 'HISPANIC', 'Heidy', '16', '72'], \n",
    "           ['2011', 'FEMALE', 'HISPANIC', 'Helen', '13', '75'], \n",
    "           ['2011', 'FEMALE', 'HISPANIC', 'Imani', '11', '77'], \n",
    "           ['2011', 'FEMALE', 'HISPANIC', 'Ingrid', '11', '77'], \n",
    "           ['2011', 'FEMALE', 'HISPANIC', 'Irene', '11', '77'], \n",
    "           ['2011', 'FEMALE', 'HISPANIC', 'Iris', '10', '78'], \n",
    "           ['2011', 'FEMALE', 'HISPANIC', 'Isabel', '28', '60'], \n",
    "           ['2011', 'FEMALE', 'HISPANIC', 'Isabela', '10', '78'], \n",
    "           ['2011', 'FEMALE', 'HISPANIC', 'Isabella', '331', '1'], \n",
    "           ['2011', 'FEMALE', 'HISPANIC', 'Isabelle', '18', '70'], \n",
    "           ['2011', 'FEMALE', 'HISPANIC', 'Isis', '13', '75'], \n",
    "           ['2011', 'FEMALE', 'HISPANIC', 'Itzel', '27', '61'], \n",
    "           ['2011', 'FEMALE', 'HISPANIC', 'Izabella', '23', '65'], \n",
    "           ['2011', 'FEMALE', 'HISPANIC', 'Jacqueline', '30', '58'], \n",
    "           ['2011', 'FEMALE', 'HISPANIC', 'Jada', '21', '67'], \n",
    "           ['2011', 'FEMALE', 'HISPANIC', 'Jade', '50', '41'], \n",
    "           ['2011', 'FEMALE', 'HISPANIC', 'Jaelynn', '11', '77'], \n",
    "           ['2011', 'FEMALE', 'HISPANIC', 'Jamie', '11', '77'], \n",
    "           ['2011', 'FEMALE', 'HISPANIC', 'Janelle', '12', '76'], \n",
    "           ['2011', 'FEMALE', 'HISPANIC', 'Jaslene', '11', '77'], \n",
    "           ['2011', 'FEMALE', 'HISPANIC', 'Jasmin', '20', '68'], \n",
    "           ['2011', 'FEMALE', 'HISPANIC', 'Jasmine', '41', '48'], \n",
    "           ['2011', 'FEMALE', 'HISPANIC', 'Jayda', '10', '78'], \n",
    "           ['2011', 'FEMALE', 'HISPANIC', 'Jayla', '33', '55'], \n",
    "           ['2011', 'FEMALE', 'HISPANIC', 'Jaylah', '12', '76'], \n",
    "           ['2011', 'FEMALE', 'HISPANIC', 'Jayleen', '51', '40'], \n",
    "           ['2011', 'FEMALE', 'HISPANIC', 'Jaylene', '22', '66']]\n",
    "\n",
    "# Create the empty set: baby_names_2011\n",
    "baby_names_2011 = set()\n",
    "\n",
    "# Loop over records and add the names from 2011 to the baby_names_2011 set\n",
    "for row in records:\n",
    "    # Check if the first column is '2011'\n",
    "    if row[0] == '2011':\n",
    "        # Add the fourth column to the set\n",
    "        baby_names_2011.add(row[3])\n",
    "\n",
    "# Find the difference between 2011 and 2014: differences\n",
    "differences = baby_names_2011.difference(baby_names_2014)\n",
    "\n",
    "# Print the differences\n",
    "print(differences)"
   ]
  },
  {
   "cell_type": "markdown",
   "id": "066bc308",
   "metadata": {},
   "source": [
    "## [Dictionaries](https://docs.python.org/3/tutorial/datastructures.html?highlight=list#dictionaries)  \n",
    "  \n",
    "Main characteristics:  \n",
    "- Dictionaries are **indexed by keys**, which can be any **immutable type**; **strings and numbers** can always be keys.\n",
    "- **Tuples** can be used as **keys** if they contain **only strings, numbers, or tuples**.  \n",
    "- You **can’t** use **lists as keys**, since lists can be modified in place using index assignments, slice assignments, or methods like `append()` and `extend()`.\n",
    "- Created a dictionary with `dict()`or `{}`.  \n",
    "- Dictionaries help to use key names to make reading the code and accessing the data easier to understand.  \n",
    "\n",
    "\n",
    "- Use `.get(key_name, 'optional_message')` **method** to access a key without error or exception handling.   \n",
    "- Use `.key()` **method** to show the keys for a given dictionary.  \n",
    "- Use [`sorted()` **function**](https://docs.python.org/3/library/functions.html#sorted) to organize data by sorting they keys of the dictionary. Reverse the order by passing `reverse = True` as keyword argument.  "
   ]
  },
  {
   "cell_type": "code",
   "execution_count": 2,
   "id": "03d30dd4",
   "metadata": {},
   "outputs": [
    {
     "name": "stdout",
     "output_type": "stream",
     "text": [
      "ALEXANDRA\n",
      "ABIGAIL\n",
      "ELIZABETH\n",
      "MAYA\n",
      "ISABELLA\n",
      "CHARLOTTE\n",
      "SARA\n",
      "MIA\n",
      "EMILY\n",
      "ELLA\n"
     ]
    }
   ],
   "source": [
    "# Create a dictionary with female baby names by rank\n",
    "female_baby_names_2012 = {1: 'EMMA', 2: 'LEAH', 3: 'SARAH', 4: 'SOPHIA',\n",
    "                     5: 'ESTHER', 6: 'RACHEL', 7: 'CHAYA', 8: 'AVA',\n",
    "                     9: 'CHANA', 10: 'MIRIAM', 11: 'ELLA', 12: 'EMILY',\n",
    "                     13: 'MIA', 14: 'SARA', 15: 'CHARLOTTE', 16: 'ISABELLA',\n",
    "                     17: 'MAYA', 18: 'ELIZABETH', 19: 'ABIGAIL', 20: 'ALEXANDRA'}\n",
    "\n",
    "# Create an empty dictionary: names_by_rank\n",
    "names_by_rank = dict()\n",
    "\n",
    "# Loop over the girl names\n",
    "for rank, name in female_baby_names_2012.items():\n",
    "    # Add each name to the names_by_rank dictionary using rank as the key\n",
    "    names_by_rank[rank] = name\n",
    "    \n",
    "# Sort the names_by_rank dict by rank in descending order and slice the first 10 items\n",
    "for rank in sorted(names_by_rank, reverse = True)[:10]:\n",
    "    # Print each item\n",
    "    print(names_by_rank[rank])"
   ]
  },
  {
   "cell_type": "code",
   "execution_count": 3,
   "id": "398ed156",
   "metadata": {
    "scrolled": true
   },
   "outputs": [
    {
     "name": "stdout",
     "output_type": "stream",
     "text": [
      "CHAYA\n",
      "<class 'NoneType'>\n",
      "Not Found\n"
     ]
    }
   ],
   "source": [
    "names = {1: 'EMMA', 2: 'LEAH', 3: 'SARAH', 4: 'SOPHIA',\n",
    "                     5: 'ESTHER', 6: 'RACHEL', 7: 'CHAYA', 8: 'AVA',\n",
    "                     9: 'CHANA', 10: 'MIRIAM', 11: 'ELLA', 12: 'EMILY',\n",
    "                     13: 'MIA', 14: 'SARA', 15: 'CHARLOTTE', 16: 'ISABELLA',\n",
    "                     17: 'MAYA', 18: 'ELIZABETH', 19: 'ABIGAIL', 20: 'ALEXANDRA'}\n",
    "\n",
    "# Safely print rank 7 from the names dictionary\n",
    "print(names.get(7))\n",
    "\n",
    "# Safely print the type of rank 100 from the names dictionary\n",
    "print(type(names.get(100)))\n",
    "\n",
    "# Safely print rank 105 from the names dictionary or 'Not Found'\n",
    "print((names.get(105, 'Not Found')))"
   ]
  },
  {
   "cell_type": "markdown",
   "id": "b51d828c",
   "metadata": {},
   "source": [
    "### Nested Dictionaries  \n",
    "\n",
    "- Dictionaries can contain another dictionary **as the value of a key**,  \n",
    "- It is a very common way to deal with **repeating data structures** such as yearly, monthly or weekly data,  \n",
    "- `dictonary_name[first_key_name][second_key_name]`.  \n",
    "\n",
    "**NOTE**: nested dictionaries can be accessed using multiple indices or the `.get()` method.  "
   ]
  },
  {
   "cell_type": "code",
   "execution_count": 1,
   "id": "c8cdd1d3",
   "metadata": {},
   "outputs": [
    {
     "name": "stdout",
     "output_type": "stream",
     "text": [
      "dict_keys([2012, 2013, 2014])\n",
      "dict_keys([1, 2, 3, 4, 5, 6, 7, 8, 9, 10])\n",
      "2012 Unknown\n",
      "2013 Michael\n",
      "2014 Michael\n"
     ]
    }
   ],
   "source": [
    "boy_names = {2012: {},\n",
    "             2013: {1: 'David', 2: 'Joseph', 3: 'Michael', 4: 'Moshe', 5: 'Daniel',\n",
    "                    6: 'Benjamin', 7: 'James', 8: 'Jacob', 9: 'Jack', 10: 'Alexander'},\n",
    "             2014: {1: 'Joseph', 2: 'David', 3: 'Michael', 4: 'Moshe', 5: 'Jacob',\n",
    "                    6: 'Benjamin', 7: 'Alexander', 8: 'Daniel', 9: 'Samuel', 10: 'Jack'}}\n",
    "\n",
    "# Print a list of keys from the boy_names dictionary\n",
    "print(boy_names.keys())\n",
    "\n",
    "# Print a list of keys from the boy_names dictionary for the year 2013\n",
    "print(boy_names[2013].keys())\n",
    "\n",
    "# Loop over the dictionary\n",
    "for year in boy_names:\n",
    "    # Safely print the year and the third ranked name or 'Unknown'\n",
    "    print(year, boy_names[year].get(3, 'Unknown'))"
   ]
  },
  {
   "cell_type": "markdown",
   "id": "1fb58179",
   "metadata": {},
   "source": [
    "### Adding and extending dictionaries  \n",
    "\n",
    "- If the dictionary is nested, then all the keys in the data path must exist, and each key in the path must be assigned individually.  \n",
    "- Use the [`update()`**method**](https://docs.python.org/3/library/stdtypes.html?highlight=update#dict.update) to update a dictionary with keys and values from another dictionary, tuples or keyword arguments.  \n"
   ]
  },
  {
   "cell_type": "code",
   "execution_count": 3,
   "id": "dedf44a4",
   "metadata": {},
   "outputs": [
    {
     "name": "stdout",
     "output_type": "stream",
     "text": [
      "2012 Aiden\n",
      "2013 Alexander\n",
      "2014 Jack\n",
      "2011 Jack\n"
     ]
    }
   ],
   "source": [
    "boy_names = {2012: {}, \n",
    "             2013: {1: 'David', 2: 'Joseph', 3: 'Michael', 4: 'Moshe', 5: 'Daniel',\n",
    "                    6: 'Benjamin', 7: 'James', 8: 'Jacob', 9: 'Jack', 10: 'Alexander'},\n",
    "             2014: {1: 'Joseph', 2: 'David', 3: 'Michael', 4: 'Moshe', 5: 'Jacob',\n",
    "                    6: 'Benjamin', 7: 'Alexander', 8: 'Daniel', 9: 'Samuel', 10: 'Jack'}}\n",
    "\n",
    "names_2011 = {1: 'Michael', 2: 'Joseph', 3: 'Jacob', 4: 'David', 5: 'Benjamin', \n",
    "              6: 'Moshe', 7: 'Daniel', 8: 'Alexander', 9: 'Matthew', 10: 'Jack'}\n",
    "\n",
    "# Assign the names_2011 dictionary as the value to the 2011 key of boy_names\n",
    "boy_names[2011] = names_2011\n",
    "\n",
    "# Update the 2012 key in the boy_names dictionary\n",
    "boy_names[2012].update([(1, 'Casey'), (2, 'Aiden')])\n",
    "\n",
    "# Loop over the years in the boy_names dictionary \n",
    "for year in boy_names:\n",
    "    # Sort the data for each year by descending rank and get the lowest one\n",
    "    lowest_ranked =  sorted(boy_names[year], reverse=True)[0]\n",
    "    # Safely print the year and the least popular name or 'Not Available'\n",
    "    print(year, boy_names[year].get(lowest_ranked, 'Not Available'))"
   ]
  },
  {
   "cell_type": "markdown",
   "id": "19de2e37",
   "metadata": {},
   "source": [
    "### Popping and deleting dictionaries  \n",
    "- Use `del` to remove keys and values from a dictinary. It trhows a `KeyEerror` if the key does not exist.\n",
    "- Use `pop()` method to delete data into another variable for further processing. It helps to safely deal with missing keys.  "
   ]
  },
  {
   "cell_type": "code",
   "execution_count": 1,
   "id": "af9eae88",
   "metadata": {},
   "outputs": [
    {
     "name": "stdout",
     "output_type": "stream",
     "text": [
      "{2013: {1: 'Olivia', 2: 'Emma', 3: 'Esther', 4: 'Sophia', 5: 'Sarah', 6: 'Leah', 7: 'Rachel', 8: 'Chaya', 9: 'Miriam', 10: 'Chana'}, 2014: {1: 'Olivia', 2: 'Esther', 3: 'Rachel', 4: 'Leah', 5: 'Emma', 6: 'Chaya', 7: 'Sarah', 8: 'Sophia', 9: 'Ava', 10: 'Miriam'}}\n"
     ]
    }
   ],
   "source": [
    "female_names = {2011: {1: 'Olivia', 2: 'Esther', 3: 'Rachel', 4: 'Leah', 5: 'Emma',\n",
    "                       6: 'Chaya', 7: 'Sarah', 8: 'Sophia', 9: 'Ava', 10: 'Miriam'},\n",
    "                2012: {},\n",
    "                2013: {1: 'Olivia', 2: 'Emma', 3: 'Esther', 4: 'Sophia', 5: 'Sarah',\n",
    "                       6: 'Leah', 7: 'Rachel', 8: 'Chaya', 9: 'Miriam', 10: 'Chana'},\n",
    "                2014: {1: 'Olivia', 2: 'Esther', 3: 'Rachel', 4: 'Leah', 5: 'Emma',\n",
    "                       6: 'Chaya', 7: 'Sarah', 8: 'Sophia', 9: 'Ava', 10: 'Miriam'}}\n",
    "\n",
    "# Remove 2011 from female_names and store it: female_names_2011\n",
    "female_names_2011 = female_names.pop(2011)\n",
    "\n",
    "# Safely remove 2015 from female_names with an empty dictionary as the default: female_names_2015\n",
    "female_names_2015 = female_names.pop(2015,{})\n",
    "\n",
    "# Delete 2012 from female_names\n",
    "del(female_names[2012])\n",
    "\n",
    "# Print female_names\n",
    "print(female_names)"
   ]
  },
  {
   "cell_type": "code",
   "execution_count": 3,
   "id": "8a66701a",
   "metadata": {},
   "outputs": [
    {
     "name": "stdout",
     "output_type": "stream",
     "text": [
      "1 Joseph\n",
      "2 David\n",
      "3 Michael\n",
      "4 Moshe\n",
      "5 Jacob\n",
      "6 Benjamin\n",
      "7 Alexander\n",
      "8 Daniel\n",
      "9 Samuel\n",
      "10 Jack\n"
     ]
    }
   ],
   "source": [
    "baby_names = {2012: {},\n",
    "              2013: {1: 'David', 2: 'Joseph', 3: 'Michael', 4: 'Moshe', 5: 'Daniel',\n",
    "                     6: 'Benjamin', 7: 'James', 8: 'Jacob', 9: 'Jack', 10: 'Alexander'},\n",
    "              2014: {1: 'Joseph', 2: 'David', 3: 'Michael', 4: 'Moshe', 5: 'Jacob',\n",
    "                     6: 'Benjamin', 7: 'Alexander', 8: 'Daniel', 9: 'Samuel', 10: 'Jack'}}\n",
    "\n",
    "# Iterate over the 2014 nested dictionary\n",
    "for rank, name in baby_names[2014].items():\n",
    "    # Print rank and name\n",
    "    print(rank, name)\n",
    "    \n",
    "# Iterate over the 2012 nested dictionary\n",
    "for rank, name in baby_names[2012].items():\n",
    "    # Print rank and name\n",
    "    print(rank, name)"
   ]
  },
  {
   "cell_type": "markdown",
   "id": "da2020e2",
   "metadata": {},
   "source": [
    "**NOTE**: Using the `.items()` **method** to iterate over dictionaries is something you'll be doing very frequently in Python."
   ]
  },
  {
   "cell_type": "code",
   "execution_count": 2,
   "id": "01d2134f",
   "metadata": {},
   "outputs": [
    {
     "name": "stdout",
     "output_type": "stream",
     "text": [
      "Rank 1 missing from 2012\n",
      "Found Rank 5\n"
     ]
    }
   ],
   "source": [
    "baby_names = {2012: {},\n",
    "              2013: {1: 'David', 2: 'Joseph', 3: 'Michael', 4: 'Moshe', 5: 'Daniel',\n",
    "                     6: 'Benjamin', 7: 'James', 8: 'Jacob', 9: 'Jack', 10: 'Alexander'},\n",
    "              2014: {1: 'Joseph', 2: 'David', 3: 'Michael', 4: 'Moshe', 5: 'Jacob',\n",
    "                     6: 'Benjamin', 7: 'Alexander', 8: 'Daniel', 9: 'Samuel', 10: 'Jack'}}\n",
    "\n",
    "# Check to see if 2011 is in baby_names\n",
    "if 2011 in baby_names:\n",
    "    # Print 'Found 2011'\n",
    "    print('Found 2011')\n",
    "    \n",
    "# Check to see if rank 1 is in 2012\n",
    "if 1 in baby_names[2012]:\n",
    "    # Print 'Found Rank 1 in 2012' if found\n",
    "    print('Found Rank 1 in 2012')\n",
    "else:\n",
    "    # Print 'Rank 1 missing from 2012' if not found\n",
    "    print('Rank 1 missing from 2012')\n",
    "    \n",
    "# Check to see if Rank 5 is in 2013\n",
    "if 5 in baby_names[2013]:\n",
    "   # Print 'Found Rank 5'\n",
    "   print('Found Rank 5')"
   ]
  },
  {
   "cell_type": "markdown",
   "id": "8e51cd87",
   "metadata": {},
   "source": [
    "## [CSV Reader](https://docs.python.org/3/library/csv.html#module-csv)  \n",
    "\n",
    "- Use the `open()` **function** to create a Python file object, which accepts a **file name and a mode**. The mode is typically `'r'` for **read** or `'w'` for **write**.  \n",
    "\n",
    "- [`csv.reader()`](https://docs.python.org/3/library/csv.html#csv.reader) **method** of `csv` reads a Python file object and returns the lines from the file as **tuples**. Use it as you would any other **iterable**.  \n",
    "\n",
    "- CSV files may have a header row with field names, use slice notation such as `[1:]` to **skip the header row**.  \n",
    "\n",
    "- `.close()` **method** closes file objects.  "
   ]
  },
  {
   "cell_type": "code",
   "execution_count": 1,
   "id": "c28d47ab",
   "metadata": {
    "scrolled": true
   },
   "outputs": [
    {
     "name": "stdout",
     "output_type": "stream",
     "text": [
      "['BRITH_YEAR', 'GENDER', 'ETHNICTY', 'NAME', 'COUNT', 'RANK']\n",
      "['2011', 'FEMALE', 'ASIAN AND PACIFIC ISLANDER', 'GERALDINE', '13', '75']\n",
      "['2012', 'FEMALE', 'BLACK NON HISPANIC', 'GIA', '21', '67']\n",
      "['2011', 'FEMALE', 'WHITE NON HISP', 'GIANNA', '49', '42']\n",
      "['2012', 'FEMALE', 'WHITE NON HISPANIC', 'GISELLE', '38', '51']\n",
      "['2013', 'FEMALE', 'ASIAN AND PACIFIC ISLANDER', 'GRACE', '36', '53']\n",
      "['2014', 'FEMALE', 'BLACK NON HISPANIC', 'GUADALUPE', '26', '62']\n",
      "['2011', 'FEMALE', 'ASIAN AND PACI', 'HAILEY', '126', '8']\n",
      "['2011', 'FEMALE', 'BLACK NON HISP', 'HALEY', '14', '74']\n",
      "['2012', 'FEMALE', 'WHITE NON HISP', 'HANNAH', '17', '71']\n",
      "['2013', 'FEMALE', 'WHITE NON HISPANIC', 'HAYLEE', '17', '71']\n",
      "['2014', 'FEMALE', 'ASIAN AND PACIFIC ISLANDER', 'HAYLEY', '13', '75']\n",
      "['2012', 'FEMALE', 'ASIAN AND PACI', 'HAZEL', '10', '78']\n",
      "['2013', 'FEMALE', 'BLACK NON HISP', 'HEAVEN', '15', '73']\n",
      "['2014', 'FEMALE', 'HISPANIC', 'HEIDI', '15', '73']\n",
      "dict_keys(['RANK', '75', '67', '42', '51', '53', '62', '8', '74', '71', '78', '73'])\n"
     ]
    }
   ],
   "source": [
    "# Import the python CSV module\n",
    "import csv\n",
    "\n",
    "# Set the path of the csv file\n",
    "file_path = '/Users/luismoreno/Documents/R/datacamp/career tracks/python programmer/baby_names.csv'\n",
    "\n",
    "# Create a empty dictionary\n",
    "baby_names = {}\n",
    "\n",
    "# Create a python file object in read mode for the baby_names.csv file: csvfile\n",
    "csvfile = open(file_path, 'r')\n",
    "\n",
    "# Loop over a csv reader on the file object\n",
    "for row in csv.reader(csvfile):\n",
    "    # Print each row \n",
    "    print(row)\n",
    "    # Add the rank and name to the dictionary\n",
    "    baby_names[row[5]] = row[3]\n",
    "\n",
    "# Print the dictionary keys\n",
    "print(baby_names.keys())"
   ]
  },
  {
   "cell_type": "code",
   "execution_count": 4,
   "id": "2c050ac6",
   "metadata": {},
   "outputs": [
    {
     "name": "stdout",
     "output_type": "stream",
     "text": [
      "/Users/luismoreno/Documents/R/datacamp/career tracks/python programmer\n"
     ]
    }
   ],
   "source": [
    "import os\n",
    "print(os.getcwd())"
   ]
  },
  {
   "cell_type": "markdown",
   "id": "2d00d9b7",
   "metadata": {},
   "source": [
    "### [DictReader](https://docs.python.org/3/library/csv.html#csv.DictReader)  \n",
    "- Use `csv.DictReader` to directly create a dictionary from a CSV file.  \n",
    "- If the file has a **header row**, it will automatically be used as the keys for the dictionary. If not, a list of keys cabe supplied. "
   ]
  },
  {
   "cell_type": "code",
   "execution_count": 6,
   "id": "bf26e684",
   "metadata": {},
   "outputs": [
    {
     "name": "stdout",
     "output_type": "stream",
     "text": [
      "{'BRITH_YEAR': '2011', 'GENDER': 'FEMALE', 'ETHNICTY': 'ASIAN AND PACIFIC ISLANDER', 'NAME': 'GERALDINE', 'COUNT': '13', 'RANK': '75'}\n",
      "{'BRITH_YEAR': '2012', 'GENDER': 'FEMALE', 'ETHNICTY': 'BLACK NON HISPANIC', 'NAME': 'GIA', 'COUNT': '21', 'RANK': '67'}\n",
      "{'BRITH_YEAR': '2011', 'GENDER': 'FEMALE', 'ETHNICTY': 'WHITE NON HISP', 'NAME': 'GIANNA', 'COUNT': '49', 'RANK': '42'}\n",
      "{'BRITH_YEAR': '2012', 'GENDER': 'FEMALE', 'ETHNICTY': 'WHITE NON HISPANIC', 'NAME': 'GISELLE', 'COUNT': '38', 'RANK': '51'}\n",
      "{'BRITH_YEAR': '2013', 'GENDER': 'FEMALE', 'ETHNICTY': 'ASIAN AND PACIFIC ISLANDER', 'NAME': 'GRACE', 'COUNT': '36', 'RANK': '53'}\n",
      "{'BRITH_YEAR': '2014', 'GENDER': 'FEMALE', 'ETHNICTY': 'BLACK NON HISPANIC', 'NAME': 'GUADALUPE', 'COUNT': '26', 'RANK': '62'}\n",
      "{'BRITH_YEAR': '2011', 'GENDER': 'FEMALE', 'ETHNICTY': 'ASIAN AND PACI', 'NAME': 'HAILEY', 'COUNT': '126', 'RANK': '8'}\n",
      "{'BRITH_YEAR': '2011', 'GENDER': 'FEMALE', 'ETHNICTY': 'BLACK NON HISP', 'NAME': 'HALEY', 'COUNT': '14', 'RANK': '74'}\n",
      "{'BRITH_YEAR': '2012', 'GENDER': 'FEMALE', 'ETHNICTY': 'WHITE NON HISP', 'NAME': 'HANNAH', 'COUNT': '17', 'RANK': '71'}\n",
      "{'BRITH_YEAR': '2013', 'GENDER': 'FEMALE', 'ETHNICTY': 'WHITE NON HISPANIC', 'NAME': 'HAYLEE', 'COUNT': '17', 'RANK': '71'}\n",
      "{'BRITH_YEAR': '2014', 'GENDER': 'FEMALE', 'ETHNICTY': 'ASIAN AND PACIFIC ISLANDER', 'NAME': 'HAYLEY', 'COUNT': '13', 'RANK': '75'}\n",
      "{'BRITH_YEAR': '2012', 'GENDER': 'FEMALE', 'ETHNICTY': 'ASIAN AND PACI', 'NAME': 'HAZEL', 'COUNT': '10', 'RANK': '78'}\n",
      "{'BRITH_YEAR': '2013', 'GENDER': 'FEMALE', 'ETHNICTY': 'BLACK NON HISP', 'NAME': 'HEAVEN', 'COUNT': '15', 'RANK': '73'}\n",
      "{'BRITH_YEAR': '2014', 'GENDER': 'FEMALE', 'ETHNICTY': 'HISPANIC', 'NAME': 'HEIDI', 'COUNT': '15', 'RANK': '73'}\n",
      "dict_keys(['75', '67', '42', '51', '53', '62', '8', '74', '71', '78', '73'])\n"
     ]
    }
   ],
   "source": [
    "# Import the python CSV module\n",
    "import csv\n",
    "\n",
    "# Set the path of the csv file\n",
    "file_path = '/Users/luismoreno/Documents/R/datacamp/career tracks/python programmer/baby_names.csv'\n",
    "\n",
    "# Create a empty dictionary\n",
    "baby_names = {}\n",
    "\n",
    "# Create a python file object in read mode for the `baby_names.csv` file: csvfile\n",
    "csvfile = open('baby_names.csv', 'r')\n",
    "\n",
    "# Loop over a DictReader on the file\n",
    "for row in csv.DictReader(csvfile):\n",
    "    # Print each row \n",
    "    print(row)\n",
    "    # Add the rank and name to the dictionary: baby_names\n",
    "    baby_names[row['RANK']] = row['NAME']\n",
    "\n",
    "# Print the dictionary keys\n",
    "print(baby_names.keys())"
   ]
  },
  {
   "cell_type": "markdown",
   "id": "67dd3025",
   "metadata": {},
   "source": [
    "## [Collections Module](https://docs.python.org/3/library/collections.html)  \n",
    "\n",
    "- Implements **specialized container** datatypes providing alternatives to Python’s general purpose built-in containers, `dict`, `list`, `set`, and `tuple`.  "
   ]
  },
  {
   "cell_type": "markdown",
   "id": "d9d9ef29",
   "metadata": {},
   "source": [
    "### [Counter](https://docs.python.org/3/library/collections.html#collections.Counter)  \n",
    "\n",
    "- You can pass an iterable (list, set, tuple, dictionary) to the `Counter`.\n",
    "- Is a `dict` subclass for **counting** hashable objects.  \n",
    "- Is a collecetion where **elements** are stored as **dictionary keys** and their **counts** are stored as **dictionary values**.  \n",
    "- [`.most_common()`](https://docs.python.org/3/library/collections.html#collections.Counter.most_common) **method** returns the counter values in **descending order**."
   ]
  },
  {
   "cell_type": "code",
   "execution_count": 3,
   "id": "1da7ad47",
   "metadata": {
    "scrolled": true
   },
   "outputs": [
    {
     "name": "stdout",
     "output_type": "stream",
     "text": [
      "['stationname', 'Austin-Forest Park', 'Austin-Forest Park', 'Austin-Forest Park', 'Pulaski-Orange', 'Pulaski-Orange', 'Washington/Wells', 'Washington/Wells', 'Damen-Brown', 'Damen-Brown']\n",
      "Counter({'Austin-Forest Park': 3, 'Chicago/State': 3, 'Pulaski-Orange': 2, 'Washington/Wells': 2, 'Damen-Brown': 2, 'stationname': 1})\n",
      "[('Austin-Forest Park', 3), ('Chicago/State', 3), ('Pulaski-Orange', 2)]\n"
     ]
    }
   ],
   "source": [
    "stations = ['stationname', 'Austin-Forest Park', 'Austin-Forest Park', 'Austin-Forest Park',\n",
    "           'Pulaski-Orange', 'Pulaski-Orange', 'Washington/Wells', 'Washington/Wells',\n",
    "           'Damen-Brown', 'Damen-Brown', 'Chicago/State', 'Chicago/State', 'Chicago/State']\n",
    "\n",
    "# Import the Counter object\n",
    "from collections import Counter\n",
    "\n",
    "# Print the first ten items from the stations list\n",
    "print(stations[:10])\n",
    "\n",
    "# Create a Counter of the stations list: station_count\n",
    "station_count = Counter(stations)\n",
    "\n",
    "# Print the station_count\n",
    "print(station_count)\n",
    "\n",
    "# Find the 3 most common elements\n",
    "print(station_count.most_common(3))"
   ]
  },
  {
   "cell_type": "markdown",
   "id": "bc34492a",
   "metadata": {},
   "source": [
    "### [Defaultdict](https://docs.python.org/3/library/collections.html#collections.defaultdict)  \n",
    "\n",
    "- Use this when you need a structure to hold nested data, and you may not be certain that the keys will all actually exist.  \n",
    "- When working with dictionaries, you will need to initialize a data type before using it. For example, a list has to be initialized on each key before you can append to that list.  \n",
    "- A `defaultdict` allows you to define what each uninitialized key will contain.  \n",
    "- You must pass it the **type** you want it to be, such as a `list`, `tuple`, `set`, `int`, `string`, `dictionary` or any other valid type object.  \n"
   ]
  },
  {
   "cell_type": "code",
   "execution_count": 4,
   "id": "e3ca5b90",
   "metadata": {
    "scrolled": true
   },
   "outputs": [
    {
     "name": "stdout",
     "output_type": "stream",
     "text": [
      "Key Not Available\n"
     ]
    }
   ],
   "source": [
    "entries = [('01/01/2015', 'Austin-Forest Park', '587'),\n",
    "           ('01/02/2015', 'Austin-Forest Park', '1386'),\n",
    "           ('01/03/2015', 'Austin-Forest Park', '785'),\n",
    "           ('01/04/2015', 'Austin-Forest Park', '625'),\n",
    "           ('01/05/2015', 'Austin-Forest Park', '1752')]\n",
    "\n",
    "# Create an empty dictionary: ridership\n",
    "ridership = {}\n",
    "\n",
    "# Iterate over the entries\n",
    "for date, stop, riders in entries:\n",
    "    # Check to see if date is already in the ridership dictionary\n",
    "    if date not in ridership:\n",
    "        # Create an empty list for any missing date\n",
    "        ridership[date] = []\n",
    "    # Append the stop and riders as a tuple to the date keys list\n",
    "    ridership[date].append((stop,riders))\n",
    "    \n",
    "# Print the ridership for '03/09/2016'\n",
    "print(ridership.get('03/09/2016', 'Key Not Available'))"
   ]
  },
  {
   "cell_type": "code",
   "execution_count": null,
   "id": "f313f5d4",
   "metadata": {},
   "outputs": [],
   "source": [
    "# Import defaultdict\n",
    "from collections import defaultdict\n",
    "\n",
    "# Create a defaultdict with a default type of list: ridership\n",
    "ridership = defaultdict(list)\n",
    "\n",
    "# Iterate over the entries\n",
    "for date, stop, riders in entries:\n",
    "    # Use the stop as the key of ridership and append the riders to its value\n",
    "    ridership[stop].append(riders)\n",
    "    \n",
    "# Print the first 10 items of the ridership dictionary\n",
    "print(list(ridership.items())[:10])"
   ]
  },
  {
   "cell_type": "markdown",
   "id": "f3a4b200",
   "metadata": {},
   "source": [
    "### [OrderedDict](https://docs.python.org/3/library/collections.html#collections.OrderedDict)   \n",
    "\n",
    "-  In Python 3.6, dictionaries were made to maintain the order in which the keys were inserted; however, in all versions prior to that you need to use an OrderedDict to maintain insertion order.\n",
    "\n",
    "- Return an instance of a `dict` subclass that has methods specialized for **rearranging dictionary order**.  \n",
    "\n",
    "- [`.popitem()`](https://docs.python.org/3/library/collections.html#collections.OrderedDict.popitem) **method** returns items in reverse insertion order.  \n",
    "\n",
    "- Use `last=False` keyword argument to return the items in insertion order.  "
   ]
  },
  {
   "cell_type": "code",
   "execution_count": null,
   "id": "fe4e5c36",
   "metadata": {},
   "outputs": [],
   "source": [
    "# Import OrderedDict from collections\n",
    "from collections import OrderedDict\n",
    "\n",
    "# Create an OrderedDict called: ridership_date\n",
    "ridership_date = OrderedDict()\n",
    "\n",
    "# Iterate over the entries\n",
    "for date, riders in entries:\n",
    "    # If a key does not exist in ridership_date, set it to 0\n",
    "    if  date not in ridership_date:\n",
    "        ridership_date[date] = 0\n",
    "        \n",
    "    # Add riders to the date key in ridership_date\n",
    "    ridership_date[date] += riders\n",
    "    \n",
    "# Print the first 31 records\n",
    "print(list(ridership_date.items())[:31])"
   ]
  },
  {
   "cell_type": "code",
   "execution_count": 2,
   "id": "932e1230",
   "metadata": {},
   "outputs": [
    {
     "name": "stdout",
     "output_type": "stream",
     "text": [
      "01/01/2015\n",
      "('01/01/2015', 233956)\n",
      "01/07/2015\n",
      "('01/07/2015', 416984)\n"
     ]
    }
   ],
   "source": [
    "# Import OrderedDict from collections\n",
    "from collections import OrderedDict\n",
    "\n",
    "ridership_date = OrderedDict([('01/01/2015', 233956), ('01/02/2015', 432144),\n",
    "                              ('01/03/2015', 273207), ('01/04/2015', 217632),\n",
    "                              ('01/05/2015', 538868), ('01/06/2015', 556918),\n",
    "                              ('01/07/2015', 416984)])\n",
    "\n",
    "# Print the first key in ridership_date\n",
    "print(list(ridership_date.keys())[0])\n",
    "\n",
    "# Pop the first item from ridership_date and print it\n",
    "print(list(ridership_date.items())[0])\n",
    "\n",
    "# Print the last key in ridership_date\n",
    "print(list(ridership_date.keys())[-1])\n",
    "\n",
    "# Pop the last item from ridership_date and print it\n",
    "print(ridership_date.popitem())"
   ]
  },
  {
   "cell_type": "markdown",
   "id": "542cc692",
   "metadata": {},
   "source": [
    "### [namedtuple](https://docs.python.org/3/library/collections.html#collections.namedtuple)  \n",
    "\n",
    "- A tuple where each position (column) has a name.  \n",
    "- Returns a new tuple subclass named **typename**.  \n",
    "- It is an alternative to `pandas` DataFrame row.  \n",
    "- Capitalizing each word when naming `namedtuples` is a common practice.  \n",
    "- Each field is available as an attribute of the namedtuple."
   ]
  },
  {
   "cell_type": "code",
   "execution_count": 2,
   "id": "0ef18e06",
   "metadata": {
    "scrolled": true
   },
   "outputs": [
    {
     "name": "stdout",
     "output_type": "stream",
     "text": [
      "[DateDetails(date='01/01/2015', stop='Austin-Forest Park', riders='587'), DateDetails(date='01/02/2015', stop='Austin-Forest Park', riders='1386'), DateDetails(date='01/03/2015', stop='Austin-Forest Park', riders='785'), DateDetails(date='01/04/2015', stop='Austin-Forest Park', riders='625'), DateDetails(date='01/05/2015', stop='Austin-Forest Park', riders='1752')]\n",
      "Austin-Forest Park\n",
      "01/01/2015\n",
      "587\n",
      "Austin-Forest Park\n",
      "01/02/2015\n",
      "1386\n",
      "Austin-Forest Park\n",
      "01/03/2015\n",
      "785\n",
      "Austin-Forest Park\n",
      "01/04/2015\n",
      "625\n",
      "Austin-Forest Park\n",
      "01/05/2015\n",
      "1752\n"
     ]
    }
   ],
   "source": [
    "entries = [('01/01/2015', 'Austin-Forest Park', '587'),\n",
    "           ('01/02/2015', 'Austin-Forest Park', '1386'),\n",
    "           ('01/03/2015', 'Austin-Forest Park', '785'),\n",
    "           ('01/04/2015', 'Austin-Forest Park', '625'),\n",
    "           ('01/05/2015', 'Austin-Forest Park', '1752'),\n",
    "           ('01/06/2015', 'Austin-Forest Park', '1777'),\n",
    "           ('01/07/2015', 'Austin-Forest Park', '1269'),\n",
    "           ('01/08/2015', 'Austin-Forest Park', '1435'),\n",
    "           ('01/09/2015', 'Austin-Forest Park', '1631'),\n",
    "           ('01/10/2015', 'Austin-Forest Park', '771')]\n",
    "\n",
    "# Import namedtuple from collections\n",
    "from collections import namedtuple\n",
    "\n",
    "# Create the namedtuple: DateDetails\n",
    "DateDetails = namedtuple('DateDetails', ['date', 'stop', 'riders'])\n",
    "\n",
    "# Create the empty list: labeled_entries\n",
    "labeled_entries = []\n",
    "\n",
    "# Iterate over the entries list\n",
    "for date, stop, riders in entries:\n",
    "    # Append a new DateDetails namedtuple instance for each entry to labeled_entries\n",
    "    details = DateDetails(date, stop, riders)\n",
    "    labeled_entries.append(details)\n",
    "    \n",
    "# Print the first 5 items in labeled_entries\n",
    "print(labeled_entries[:5])\n",
    "\n",
    "# Iterate over the first five items in labeled_entries\n",
    "for item in labeled_entries[:5]:\n",
    "    # Print each item's stop\n",
    "    print(item.stop)\n",
    "\n",
    "    # Print each item's date\n",
    "    print(item.date)\n",
    "\n",
    "    # Print each item's riders\n",
    "    print(item.riders)"
   ]
  },
  {
   "cell_type": "markdown",
   "id": "2e4ef02a",
   "metadata": {},
   "source": [
    "## [datetime](https://docs.python.org/3/library/datetime.html#module-datetime)  \n",
    "\n",
    "- Use [**`.strptime()` method**](https://docs.python.org/3/library/datetime.html#datetime.datetime.strptime) to convert from a string object to datetime. A [**format**](https://docs.python.org/3/library/datetime.html#strftime-strptime-behavior) must be specified.  \n",
    "- Use [**`.strftime()` method**](https://docs.python.org/3/library/datetime.html#datetime.date.strftime) to convert from a datime object to a string. You must pass a format string.  \n"
   ]
  },
  {
   "cell_type": "code",
   "execution_count": 1,
   "id": "f144a45b",
   "metadata": {},
   "outputs": [
    {
     "name": "stdout",
     "output_type": "stream",
     "text": [
      "2001-02-19 00:00:00\n",
      "2001-04-10 00:00:00\n",
      "2001-05-30 00:00:00\n",
      "2001-07-19 00:00:00\n",
      "2001-09-07 00:00:00\n",
      "2001-10-27 00:00:00\n",
      "2001-12-16 00:00:00\n",
      "2002-02-04 00:00:00\n",
      "2002-03-26 00:00:00\n",
      "2002-05-15 00:00:00\n"
     ]
    }
   ],
   "source": [
    "# Import the datetime object from datetime\n",
    "from datetime import datetime\n",
    "\n",
    "dates_list = ['02/19/2001', '04/10/2001', '05/30/2001', '07/19/2001', '09/07/2001',\n",
    "              '10/27/2001', '12/16/2001', '02/04/2002', '03/26/2002', '05/15/2002']\n",
    "\n",
    "# Iterate over the dates_list \n",
    "for date in dates_list:\n",
    "    # Convert each date to a datetime object: date_dt\n",
    "    date_dt = datetime.strptime(date, '%m/%d/%Y')\n",
    "    \n",
    "    # Print each date_dt\n",
    "    print(date_dt)"
   ]
  },
  {
   "cell_type": "code",
   "execution_count": 1,
   "id": "e3ee2d52",
   "metadata": {},
   "outputs": [
    {
     "name": "stdout",
     "output_type": "stream",
     "text": [
      "02/19/2001\n",
      "2001-02-19T00:00:00\n",
      "04/10/2001\n",
      "2001-04-10T00:00:00\n",
      "05/30/2001\n",
      "2001-05-30T00:00:00\n",
      "07/19/2001\n",
      "2001-07-19T00:00:00\n",
      "09/07/2001\n",
      "2001-09-07T00:00:00\n"
     ]
    }
   ],
   "source": [
    "# Import the datetime object from datetime\n",
    "from datetime import datetime\n",
    "\n",
    "datetimes_list = [datetime(2001, 2, 19, 0, 0), datetime(2001, 4, 10, 0, 0),\n",
    "                  datetime(2001, 5, 30, 0, 0), datetime(2001, 7, 19, 0, 0),\n",
    "                  datetime(2001, 9, 7, 0, 0), datetime(2001, 10, 27, 0, 0),\n",
    "                  datetime(2001, 12, 16, 0, 0), datetime(2002, 2, 4, 0, 0),\n",
    "                  datetime(2002, 3, 26, 0, 0), datetime(2002, 5, 15, 0, 0)]\n",
    "\n",
    "# Loop over the first 5 items of the datetimes_list\n",
    "for item in datetimes_list[:5]:\n",
    "    # Print out the record as a string in the format of 'MM/DD/YYYY'\n",
    "    print(item.strftime('%m/%d/%Y'))\n",
    "    \n",
    "    # Print out the record as an ISO standard string\n",
    "    print(item.isoformat())"
   ]
  },
  {
   "cell_type": "code",
   "execution_count": 4,
   "id": "78a047e0",
   "metadata": {},
   "outputs": [
    {
     "name": "stdout",
     "output_type": "stream",
     "text": [
      "defaultdict(<class 'int'>, {1: 12055714})\n"
     ]
    }
   ],
   "source": [
    "# Import required modules\n",
    "from collections import defaultdict\n",
    "from datetime import datetime\n",
    "\n",
    "daily_summaries = [('01/01/2001', 'U', '297192', '126455', '423647'),\n",
    "                   ('01/02/2001', 'W', '780827', '501952', '1282779'),\n",
    "                   ('01/03/2001', 'W', '824923', '536432', '1361355'),\n",
    "                   ('01/04/2001', 'W', '870021', '550011', '1420032'),\n",
    "                   ('01/05/2001', 'W', '890426', '557917', '1448343'),\n",
    "                   ('01/06/2001', 'A', '577401', '255356', '832757'),\n",
    "                   ('01/07/2001', 'U', '375831', '169825', '545656'),\n",
    "                   ('01/08/2001', 'W', '985221', '590706', '1575927'),\n",
    "                   ('01/09/2001', 'W', '978377', '599905', '1578282'),\n",
    "                   ('01/10/2001', 'W', '984884', '602052', '1586936')]\n",
    "\n",
    "# Create a defaultdict of an integer: monthly_total_rides\n",
    "monthly_total_rides = defaultdict(int)\n",
    "\n",
    "# Loop over the list daily_summaries\n",
    "for daily_summary in daily_summaries:\n",
    "    # Convert the service_date to a datetime object\n",
    "    service_datetime = datetime.strptime(daily_summary[0], '%m/%d/%Y')\n",
    "\n",
    "    # Add the total rides to the current amount for the month\n",
    "    monthly_total_rides[service_datetime.month] += int(daily_summary[4])\n",
    "    \n",
    "# Print monthly_total_rides\n",
    "print(monthly_total_rides)"
   ]
  },
  {
   "cell_type": "markdown",
   "id": "7b217d4c",
   "metadata": {},
   "source": [
    "- Use `datetime` now functions to work on windows or ranges that start from the current date and time.  \n",
    "- The [**`.now()` method**](https://docs.python.org/3/library/datetime.html#datetime.datetime.now) on the `datetime` object returns the current local date and time.  \n",
    "- The [**`.utcnow()` method**](https://docs.python.org/3/library/datetime.html#datetime.datetime.utcnow) on the `datetime` object returns the current UTC date and time.  "
   ]
  },
  {
   "cell_type": "code",
   "execution_count": 5,
   "id": "e12319bc",
   "metadata": {},
   "outputs": [
    {
     "name": "stdout",
     "output_type": "stream",
     "text": [
      "2021-07-20 20:33:33.148132\n",
      "2021-07-21 01:33:33.148423\n"
     ]
    }
   ],
   "source": [
    "# Import datetime from the datetime module\n",
    "from datetime import datetime\n",
    "\n",
    "# Compute the local datetime: local_dt\n",
    "local_dt = datetime.now()\n",
    "\n",
    "# Print the local datetime\n",
    "print(local_dt)\n",
    "\n",
    "# Compute the UTC datetime: utc_dt\n",
    "utc_dt = datetime.utcnow()\n",
    "\n",
    "# Print the UTC datetime\n",
    "print(utc_dt)"
   ]
  },
  {
   "cell_type": "markdown",
   "id": "50018756",
   "metadata": {},
   "source": [
    "- Import the `timezone` object from the `pytz` module. Then use the `timezone` constructor and pass it a name of a timezone.  \n",
    "- A full list of timezone names can be retrieved at [Wikipedia](https://en.wikipedia.org/wiki/List_of_tz_database_time_zones).  \n",
    "- Make a `datetime` object **\"aware\"** by passing a timezone as the `tzinfo` keyword argument to the `.replace()` method on a datetime instance.  \n",
    "- An **\"aware\"** datetime object has an `.astimezone()` method that accepts a `timezone` object and returns a new datetime object in the desired timezone. If the tzinfo is not set for the datetime object it assumes the timezone of the computer you are working on.  "
   ]
  },
  {
   "cell_type": "code",
   "execution_count": 5,
   "id": "36bec699",
   "metadata": {
    "scrolled": true
   },
   "outputs": [
    {
     "name": "stdout",
     "output_type": "stream",
     "text": [
      "Chicago: 2001-01-01 07:08:00-05:51, NY: 2001-01-01 07:59:00-05:00, Ridership: 126455\n",
      "Chicago: 2001-01-02 22:56:00-05:51, NY: 2001-01-02 23:47:00-05:00, Ridership: 501952\n",
      "Chicago: 2001-01-03 11:43:00-05:51, NY: 2001-01-03 12:34:00-05:00, Ridership: 536432\n",
      "Chicago: 2001-01-04 06:49:00-05:51, NY: 2001-01-04 07:40:00-05:00, Ridership: 550011\n",
      "Chicago: 2001-01-05 22:54:00-05:51, NY: 2001-01-05 23:45:00-05:00, Ridership: 557917\n"
     ]
    }
   ],
   "source": [
    "# Import required modules\n",
    "from datetime import datetime\n",
    "from pytz import timezone\n",
    "\n",
    "daily_summaries = [(datetime(2001, 1, 1, 7, 8), '126455'),\n",
    "                   (datetime(2001, 1, 2, 22, 56), '501952'),\n",
    "                   (datetime(2001, 1, 3, 11, 43), '536432'),\n",
    "                   (datetime(2001, 1, 4, 6, 49), '550011'),\n",
    "                   (datetime(2001, 1, 5, 22, 54), '557917')]\n",
    "\n",
    "# Create a Timezone object for Chicago\n",
    "chicago_usa_tz = timezone('US/Central')\n",
    "\n",
    "# Create a Timezone object for New York\n",
    "ny_usa_tz = timezone('US/Eastern')\n",
    "\n",
    "# Iterate over the daily_summaries list\n",
    "for orig_dt, ridership in daily_summaries:\n",
    "\n",
    "    # Make the orig_dt timezone \"aware\" for Chicago\n",
    "    chicago_dt = orig_dt.replace(tzinfo=chicago_usa_tz)\n",
    "    \n",
    "    # Convert chicago_dt to the New York Timezone\n",
    "    ny_dt = chicago_dt.astimezone(ny_usa_tz)\n",
    "    \n",
    "    # Print the chicago_dt, ny_dt, and ridership\n",
    "    print('Chicago: %s, NY: %s, Ridership: %s' % (chicago_dt, ny_dt, ridership))"
   ]
  },
  {
   "cell_type": "markdown",
   "id": "db33b243",
   "metadata": {},
   "source": [
    "### [timedelta](https://docs.python.org/3/library/datetime.html#timedelta-objects)  \n",
    "\n",
    "- The `timedelta` object from the `datetime` module is used to represent differences in `datetime` objects.  \n",
    "- Create a `timedelta` by passing any number of **keyword arguments** such as **days**, **seconds**, **microseconds**, **milliseconds**, **minutes**, **hours**, and **weeks** to [**`timedelta()`**](https://docs.python.org/3/library/datetime.html#datetime.timedelta).  \n",
    "- When you have a `timedelta` object, you can add or subtract it from a `datetime` object to get a `datetime` object relative to the original `datetime` object.  "
   ]
  },
  {
   "cell_type": "code",
   "execution_count": null,
   "id": "9c75c71c",
   "metadata": {},
   "outputs": [],
   "source": [
    "# Import timedelta from the datetime module\n",
    "from datetime import timedelta\n",
    "\n",
    "# Build a timedelta of 30 days: glanceback\n",
    "glanceback = timedelta(days=30)\n",
    "\n",
    "# Iterate over the review_dates as date\n",
    "for date in review_dates:\n",
    "    # Calculate the date 30 days back: prior_period_dt\n",
    "    prior_period_dt = date - glanceback\n",
    "    \n",
    "    # Print the review_date, day_type and total_ridership\n",
    "    print('Date: %s, Type: %s, Total Ridership: %s' %\n",
    "         (date, \n",
    "          daily_summaries_dt[daily_summaries_dt][1], \n",
    "          daily_summaries_dt[daily_summaries_dt][2]))\n",
    "\n",
    "    # Print the prior_period_dt, day_type and total_ridership\n",
    "    print('Date: %s, Type: %s, Total Ridership: %s' %\n",
    "         (prior_period_dt, \n",
    "          daily_summaries_dt[daily_summaries_dt][1], \n",
    "          daily_summaries_dt[daily_summaries_dt][2]))"
   ]
  },
  {
   "cell_type": "markdown",
   "id": "ed23eb7e-93a7-463d-8354-488fb8af6f00",
   "metadata": {},
   "source": [
    "# Reading Data with DictReader  "
   ]
  },
  {
   "cell_type": "code",
   "execution_count": null,
   "id": "71c8870a-1f1d-4998-ad43-e5a2a8c83c9d",
   "metadata": {},
   "outputs": [],
   "source": [
    "# Create the CSV file: csvfile\n",
    "csvfile = open('crime_sampler.csv', 'r')\n",
    "\n",
    "# Create a dictionary that defaults to a list: crimes_by_district\n",
    "crimes_by_district = defaultdict(list)\n",
    "\n",
    "# Loop over a DictReader of the CSV file\n",
    "for row in csv.DictReader(csvfile):\n",
    "    # Pop the district from each row: district\n",
    "    district = row.pop('District')\n",
    "    # Append the rest of the data to the list for proper district in crimes_by_district\n",
    "    crimes_by_district[district].append(row)"
   ]
  },
  {
   "cell_type": "code",
   "execution_count": null,
   "id": "40e143d2-874f-404c-af4b-add25849e72d",
   "metadata": {},
   "outputs": [],
   "source": [
    "# Loop over the crimes_by_district using expansion as district and crimes\n",
    "for district, crimes in crimes_by_district.items():\n",
    "    # Print the district\n",
    "    print(district)\n",
    "    \n",
    "    # Create an empty Counter object: year_count\n",
    "    year_count = Counter()\n",
    "    \n",
    "    # Loop over the crimes:\n",
    "    for crime in crimes:\n",
    "        # If there was an arrest\n",
    "        if crime['Arrest'] == 'true':\n",
    "            # Convert the Date to a datetime and get the year\n",
    "            year = datetime.strptime(crime['Date'], '%m/%d/%Y %I:%M:%S %p').year\n",
    "            # Increment the Counter for the year\n",
    "            year_count[year] += 1\n",
    "            \n",
    "    # Print the counter\n",
    "    print(year_count)"
   ]
  },
  {
   "cell_type": "code",
   "execution_count": null,
   "id": "d99fc03b-e31e-4914-a6c1-745db965031b",
   "metadata": {},
   "outputs": [],
   "source": [
    "# Create a unique list of crimes for the first block: n_state_st_crimes\n",
    "n_state_st_crimes = set(crimes_by_block['001XX N STATE ST'])\n",
    "\n",
    "# Print the list\n",
    "print(n_state_st_crimes)\n",
    "\n",
    "# Create a unique list of crimes for the second block: w_terminal_st_crimes\n",
    "w_terminal_st_crimes = set(crimes_by_block['0000X W TERMINAL ST'])\n",
    "\n",
    "# Print the list\n",
    "print(w_terminal_st_crimes)\n",
    "\n",
    "# Find the differences between the two blocks: crime_differences\n",
    "crime_differences = set.difference(n_state_st_crimes, w_terminal_st_crimes)\n",
    "\n",
    "# Print the differences\n",
    "print(crime_differences)"
   ]
  }
 ],
 "metadata": {
  "kernelspec": {
   "display_name": "Python 3",
   "language": "python",
   "name": "python3"
  },
  "language_info": {
   "codemirror_mode": {
    "name": "ipython",
    "version": 3
   },
   "file_extension": ".py",
   "mimetype": "text/x-python",
   "name": "python",
   "nbconvert_exporter": "python",
   "pygments_lexer": "ipython3",
   "version": "3.8.8"
  }
 },
 "nbformat": 4,
 "nbformat_minor": 5
}
