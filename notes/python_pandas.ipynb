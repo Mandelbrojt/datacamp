{
 "cells": [
  {
   "cell_type": "markdown",
   "id": "07310d87-6b70-4b01-b407-8314e8bcf9a2",
   "metadata": {},
   "source": [
    "# [Pandas](https://pandas.pydata.org/docs/user_guide/index.html)"
   ]
  },
  {
   "cell_type": "markdown",
   "id": "528a4c14-96e7-4d6d-b47e-cd1f0e091af3",
   "metadata": {},
   "source": [
    "## Transforming DataFrames"
   ]
  },
  {
   "cell_type": "markdown",
   "id": "f3b79a05-fdbc-44c1-a914-92d7b930239d",
   "metadata": {},
   "source": [
    "- Tabular data is the most common form for storing data for analysis.  \n",
    "- In pandas, rectangular data is represented as a `DataFrame` object.  \n",
    "- Every value within a column has the same data type, either text or numeric, but different columns can contain different data types.  \n"
   ]
  },
  {
   "cell_type": "markdown",
   "id": "c9963267-9754-4886-8e74-eeaa90b07c46",
   "metadata": {},
   "source": [
    "### Common Methods for Exploring DataFrames"
   ]
  },
  {
   "cell_type": "markdown",
   "id": "d2fecfe1-c894-4439-8d0f-07602c1033b6",
   "metadata": {},
   "source": [
    "- [`.head()`](https://pandas.pydata.org/docs/reference/api/pandas.DataFrame.head.html#pandas.DataFrame.head): return the first n rows of the DataFrame.  \n",
    "- [`.tail()`](https://pandas.pydata.org/docs/reference/api/pandas.DataFrame.tail.html?highlight=tail#pandas.DataFrame.tail): return the last n rows of the DataFrame.  \n",
    "- [`.info()`](https://pandas.pydata.org/docs/reference/api/pandas.DataFrame.info.html): print information about a DataFrame including the index dtype and columns, non-null values and memory usage.  \n",
    "- [`.shape`](https://pandas.pydata.org/docs/reference/api/pandas.DataFrame.shape.html): return a tuple representing the dimensionality of the DataFrame.    \n",
    "- [`.describe()`](https://pandas.pydata.org/docs/reference/api/pandas.DataFrame.describe.html?highlight=pandas%20dataframe%20describe#):  generate descriptive statistics.\n",
    "- [`.values`](https://pandas.pydata.org/docs/reference/api/pandas.DataFrame.values.html): return a Numpy representation of the DataFrame.  \n",
    "- [`.columns`](https://pandas.pydata.org/docs/reference/api/pandas.DataFrame.columns.html): return the column labels of the DataFrame.  \n",
    "- [`.index`](https://pandas.pydata.org/docs/reference/api/pandas.DataFrame.index.html): return the index (row labels) of the DataFrame.  "
   ]
  },
  {
   "cell_type": "code",
   "execution_count": 1,
   "id": "ccec3526-e157-4ff9-bc14-2cac35b74e1c",
   "metadata": {},
   "outputs": [],
   "source": [
    "# Import datetime library\n",
    "from datetime import datetime\n",
    "\n",
    "# Store todays date into \"today_is\"\n",
    "today_is = datetime.today()\n",
    "\n",
    "# Convert datetime objecto into a string\n",
    "today_is_str = datetime.strftime(today_is, '%d-%m-%y')\n",
    "\n",
    "# Create file path and store it as a string\n",
    "file_path = str('/Users/luismoreno/Documents/Python/python-datacamp/pandas/datasets/Monefy.Data.' + str(today_is_str) + '.csv')"
   ]
  },
  {
   "cell_type": "markdown",
   "id": "b62c0f5d-ae27-4aa8-bd00-f45427458beb",
   "metadata": {},
   "source": [
    "### Inspecting a DataFrame  "
   ]
  },
  {
   "cell_type": "code",
   "execution_count": 2,
   "id": "728c1707-4c00-4a5b-a905-62a2cbc62d60",
   "metadata": {},
   "outputs": [],
   "source": [
    "# Import pandas package with alias \"pd\"\n",
    "import pandas as pd\n",
    "\n",
    "# Read CSV file\n",
    "cash_flow = pd.read_csv(file_path)"
   ]
  },
  {
   "cell_type": "code",
   "execution_count": 3,
   "id": "673a0ac7-3df6-476c-9e59-27120a3b5194",
   "metadata": {},
   "outputs": [
    {
     "name": "stdout",
     "output_type": "stream",
     "text": [
      "         date   account         category  amount currency converted amount  \\\n",
      "0  01/08/2021  Ingresos         Despensa     -15      MXN              -15   \n",
      "1  01/08/2021  Ingresos  Restaurante/Bar     -50      MXN              -50   \n",
      "2  01/08/2021  Ingresos        Depósitos  610.02      MXN           610.02   \n",
      "\n",
      "  currency.1      description  \n",
      "0        MXN    Fruta cortada  \n",
      "1        MXN  1 Mazapán latte  \n",
      "2        MXN         Reservas  \n"
     ]
    }
   ],
   "source": [
    "# Print the first 3 rows of the DataFrame\n",
    "print(cash_flow.head(3))"
   ]
  },
  {
   "cell_type": "code",
   "execution_count": 4,
   "id": "28507a62-cf8b-4ff2-9763-7d98da591465",
   "metadata": {},
   "outputs": [
    {
     "name": "stdout",
     "output_type": "stream",
     "text": [
      "<class 'pandas.core.frame.DataFrame'>\n",
      "RangeIndex: 104 entries, 0 to 103\n",
      "Data columns (total 8 columns):\n",
      " #   Column            Non-Null Count  Dtype \n",
      "---  ------            --------------  ----- \n",
      " 0   date              104 non-null    object\n",
      " 1   account           104 non-null    object\n",
      " 2   category          104 non-null    object\n",
      " 3   amount            104 non-null    object\n",
      " 4   currency          104 non-null    object\n",
      " 5   converted amount  104 non-null    object\n",
      " 6   currency.1        104 non-null    object\n",
      " 7   description       102 non-null    object\n",
      "dtypes: object(8)\n",
      "memory usage: 6.6+ KB\n",
      "None\n"
     ]
    }
   ],
   "source": [
    "# Print information about the DataFrame\n",
    "print(cash_flow.info())"
   ]
  },
  {
   "cell_type": "code",
   "execution_count": 5,
   "id": "29a57a0a-1998-434b-ae05-9c4c54c0bd93",
   "metadata": {},
   "outputs": [
    {
     "name": "stdout",
     "output_type": "stream",
     "text": [
      "              date   account         category amount currency  \\\n",
      "count          104       104              104    104      104   \n",
      "unique          43         2               17     77        1   \n",
      "top     14/08/2021  Ingresos  Restaurante/Bar     -5      MXN   \n",
      "freq             9        97               36      7      104   \n",
      "\n",
      "       converted amount currency.1          description  \n",
      "count               104        104                  102  \n",
      "unique               77          1                   71  \n",
      "top                  -5        MXN  Reembolso de gastos  \n",
      "freq                  7        104                    7  \n"
     ]
    }
   ],
   "source": [
    "# Print descriptive statistics of the DataFrame\n",
    "print(cash_flow.describe())"
   ]
  },
  {
   "cell_type": "code",
   "execution_count": 6,
   "id": "d4e05112-7992-4cd1-8792-a77289d81f93",
   "metadata": {},
   "outputs": [
    {
     "name": "stdout",
     "output_type": "stream",
     "text": [
      "There are 8 columns\n",
      "There are 104 rows\n"
     ]
    }
   ],
   "source": [
    "# Print the dimensionality of the DataFrame\n",
    "print('There are '+ str(cash_flow.shape[1]) + ' columns')\n",
    "print('There are '+ str(cash_flow.shape[0]) + ' rows')"
   ]
  },
  {
   "cell_type": "markdown",
   "id": "4e03aaaa-c686-4490-be14-a418476d8f75",
   "metadata": {},
   "source": [
    "### DataFrame Main Components"
   ]
  },
  {
   "cell_type": "markdown",
   "id": "c637eeb7-3419-4713-8cea-7d8d4b668f3a",
   "metadata": {},
   "source": [
    "- `.values`: A two-dimensional `NumPy` array of values.\n",
    "- `.columns`: An index of columns: the column names.\n",
    "- `.index`: An index for the rows: either row numbers or row names."
   ]
  },
  {
   "cell_type": "code",
   "execution_count": 7,
   "id": "04b870eb-f6f2-4d01-9d77-94f6dfd9f0d5",
   "metadata": {
    "scrolled": true
   },
   "outputs": [
    {
     "name": "stdout",
     "output_type": "stream",
     "text": [
      "Index(['date', 'account', 'category', 'amount', 'currency', 'converted amount',\n",
      "       'currency.1', 'description'],\n",
      "      dtype='object')\n"
     ]
    }
   ],
   "source": [
    "print(cash_flow.columns)"
   ]
  },
  {
   "cell_type": "code",
   "execution_count": 8,
   "id": "ff824878-f3c1-4bf9-b2c3-4ac7223120cd",
   "metadata": {},
   "outputs": [
    {
     "name": "stdout",
     "output_type": "stream",
     "text": [
      "RangeIndex(start=0, stop=104, step=1)\n"
     ]
    }
   ],
   "source": [
    "print(cash_flow.index)"
   ]
  },
  {
   "cell_type": "markdown",
   "id": "40f05b85-0088-4b70-8470-510af92cb320",
   "metadata": {},
   "source": [
    "### Sorting Rows"
   ]
  },
  {
   "cell_type": "markdown",
   "id": "20005235-60b4-467b-b1de-1c7b76ec03d5",
   "metadata": {},
   "source": [
    "- Sort the rows by passing a column name to **[`.sort_values()`](https://pandas.pydata.org/docs/reference/api/pandas.DataFrame.sort_values.html)**.\n",
    "- When rows have the same value, break the ties by sorting on another column by passing a list of column names.\n",
    "- Combine `.sort_values()` with `.head()`, to answer questions in the form, **\"What are the top cases where…?\"**."
   ]
  },
  {
   "cell_type": "markdown",
   "id": "2fb5aab1-929b-4ad2-958a-cc96778c6921",
   "metadata": {},
   "source": [
    "|    Sort on...    |                    Syntax                    |\n",
    "|:----------------:|:--------------------------------------------:|\n",
    "|    one column    | `df.sort_values(\"col_name\")`                 |\n",
    "| multiple columns | `df.sort_values([\"col_name1\", \"col_name2\"])` |"
   ]
  },
  {
   "cell_type": "code",
   "execution_count": 9,
   "id": "727b60d0-0136-4783-afb3-5498d08f4071",
   "metadata": {
    "scrolled": true
   },
   "outputs": [
    {
     "name": "stdout",
     "output_type": "stream",
     "text": [
      "          date  account category    amount currency converted amount  \\\n",
      "39  15/08/2021  Ahorros  Ahorros  1,668.62      MXN         1,668.62   \n",
      "67  30/08/2021  Ahorros  Ahorros  1,668.62      MXN         1,668.62   \n",
      "96  17/09/2021  Ahorros  Ahorros  1,638.62      MXN         1,638.62   \n",
      "\n",
      "   currency.1           description  \n",
      "39        MXN      Ahorro 1Q Agosto  \n",
      "67        MXN      Ahorro 2Q Agosto  \n",
      "96        MXN  Ahorro 1Q Septiembre  \n"
     ]
    }
   ],
   "source": [
    "# Sort cash_flow by category, then descending amount\n",
    "cash_flow_cat_amnt = cash_flow.sort_values(['category', 'amount'], ascending = [True, False])\n",
    "\n",
    "# Print the top 3 rows\n",
    "print(cash_flow_cat_amnt.head(3))"
   ]
  },
  {
   "cell_type": "markdown",
   "id": "56f9e157",
   "metadata": {},
   "source": [
    "### Subsetting Columns"
   ]
  },
  {
   "cell_type": "markdown",
   "id": "50fdad16",
   "metadata": {},
   "source": [
    "- Use square brackets `[]` to select only the columns you need in a given order."
   ]
  },
  {
   "cell_type": "markdown",
   "id": "e71a189b",
   "metadata": {},
   "source": [
    "| Number of columns |      Correct Syntax      |\n",
    "|:-----------------:|:------------------------:|\n",
    "|     One column    |       `df[\"col_a\"]`      |\n",
    "|  Multiple columns | `df[[\"col_a\", \"col_b\"]]` |"
   ]
  },
  {
   "cell_type": "code",
   "execution_count": 10,
   "id": "caca579b",
   "metadata": {},
   "outputs": [
    {
     "name": "stdout",
     "output_type": "stream",
     "text": [
      "          category  amount currency\n",
      "0         Despensa     -15      MXN\n",
      "1  Restaurante/Bar     -50      MXN\n",
      "2        Depósitos  610.02      MXN\n"
     ]
    }
   ],
   "source": [
    "# Select category, amount and currency in that order from cash_flow\n",
    "cat_amnt_curr = cash_flow[['category', 'amount', 'currency']]\n",
    "\n",
    "# Print the top 3 rows\n",
    "print(cat_amnt_curr.head(3))"
   ]
  },
  {
   "cell_type": "markdown",
   "id": "26ac7ccd",
   "metadata": {},
   "source": [
    "### Subsetting Rows"
   ]
  },
  {
   "cell_type": "markdown",
   "id": "aac8ea26",
   "metadata": {},
   "source": [
    "- One of the most common way to subset a `DataFrame` is to use **relational operators** to return `True` or `False` for each row, then pass that inside square brackets.\n",
    "- Filter for multiple conditions at once by using the \"bitwise and\" operator, `&`."
   ]
  },
  {
   "cell_type": "code",
   "execution_count": 11,
   "id": "7c9aa9a9",
   "metadata": {},
   "outputs": [
    {
     "name": "stdout",
     "output_type": "stream",
     "text": [
      "          date  account    category amount currency converted amount  \\\n",
      "60  27/08/2021  Ahorros  Comisiones  1,722      MXN            1,722   \n",
      "94  16/09/2021  Ahorros  Comisiones    857      MXN              857   \n",
      "\n",
      "   currency.1             description  \n",
      "60        MXN  Ingreso por comisiones  \n",
      "94        MXN  Ingreso por comisiones  \n"
     ]
    }
   ],
   "source": [
    "# Filter for rows where account is Ahorros and category is Comisiones\n",
    "cf_aho_com = cash_flow[(cash_flow['account'] == 'Ahorros') & (cash_flow['category'] == 'Comisiones')]\n",
    "\n",
    "# Print the top 3 rows\n",
    "print(cf_aho_com.head(3))"
   ]
  },
  {
   "cell_type": "markdown",
   "id": "774e3b9c",
   "metadata": {},
   "source": [
    "#### Subsetting Rows by Categorical Variables"
   ]
  },
  {
   "cell_type": "markdown",
   "id": "cec49f82",
   "metadata": {},
   "source": [
    "- The **[`.isin()`](https://pandas.pydata.org/pandas-docs/stable/reference/api/pandas.DataFrame.isin.html?highlight=isin#pandas.DataFrame.isin)** method will allow you to select rows from multiple categories by writing one condition instead of separate ones."
   ]
  },
  {
   "cell_type": "code",
   "execution_count": 12,
   "id": "2b54a66d",
   "metadata": {},
   "outputs": [
    {
     "name": "stdout",
     "output_type": "stream",
     "text": [
      "          date   account  category   amount currency converted amount  \\\n",
      "0   01/08/2021  Ingresos  Despensa      -15      MXN              -15   \n",
      "6   02/08/2021  Ingresos  Despensa     -275      MXN             -275   \n",
      "10  04/08/2021  Ingresos  Despensa  -450.57      MXN          -450.57   \n",
      "\n",
      "   currency.1                                        description  \n",
      "0         MXN                                      Fruta cortada  \n",
      "6         MXN  900 gr queso panela, 1 kg frutos secos, 1 kg c...  \n",
      "10        MXN                                           Despensa  \n"
     ]
    }
   ],
   "source": [
    "# List of important categories\n",
    "imp_cat = ['Despensa', 'Ahorros']\n",
    "\n",
    "# Subset rows of important categories\n",
    "imp_cat_cash_flow = cash_flow[cash_flow['category'].isin(imp_cat)]\n",
    "\n",
    "# Print the top 3 rows\n",
    "print(imp_cat_cash_flow.head(3))"
   ]
  },
  {
   "cell_type": "markdown",
   "id": "32504e42-9b98-4d45-9cb2-fa4fa083bd04",
   "metadata": {},
   "source": [
    "### Adding New Columns"
   ]
  },
  {
   "cell_type": "code",
   "execution_count": 13,
   "id": "c543e4f5-d38d-418c-afb1-2b1649f3179b",
   "metadata": {},
   "outputs": [
    {
     "name": "stdout",
     "output_type": "stream",
     "text": [
      "         date   account                    category  amount currency  \\\n",
      "0  01/08/2021  Ingresos                    Despensa     -15      MXN   \n",
      "1  01/08/2021  Ingresos             Restaurante/Bar     -50      MXN   \n",
      "2  01/08/2021  Ingresos                   Depósitos  610.02      MXN   \n",
      "3  01/08/2021  Ingresos  Initial balance 'Ingresos'   6,000      MXN   \n",
      "4  02/08/2021  Ingresos             Restaurante/Bar     -49      MXN   \n",
      "\n",
      "  converted amount currency.1      description  float_amount  \n",
      "0              -15        MXN    Fruta cortada        -110.0  \n",
      "1              -50        MXN  1 Mazapán latte        -110.0  \n",
      "2           610.02        MXN         Reservas        -110.0  \n",
      "3            6,000        MXN              NaN        -110.0  \n",
      "4              -49        MXN          Bionico        -110.0  \n"
     ]
    }
   ],
   "source": [
    "for amount in cash_flow['converted amount']:\n",
    "    # Delete commas of the string 'converted amount'\n",
    "    no_comma_amount = amount.replace(',',\"\")\n",
    "    cash_flow['float_amount'] = float(no_comma_amount)\n",
    "print(cash_flow.head(5))"
   ]
  },
  {
   "cell_type": "markdown",
   "id": "84b8f370-f593-43f7-a2d4-961858fc94d5",
   "metadata": {},
   "source": [
    "## Aggregating DataFrames"
   ]
  },
  {
   "cell_type": "code",
   "execution_count": 14,
   "id": "9708badb-e7c8-4946-8c14-20d2921f4d71",
   "metadata": {},
   "outputs": [],
   "source": [
    "import pandas as pd\n",
    "sales_file_path = '/Users/luismoreno/Documents/Python/python-datacamp/pandas/datasets/sales_subset.csv'\n",
    "sales = pd.read_csv(sales_file_path)"
   ]
  },
  {
   "cell_type": "markdown",
   "id": "0fe1b4ee-b8d4-4bd3-a1b4-82ff816dcef9",
   "metadata": {},
   "source": [
    "### Mean and Median"
   ]
  },
  {
   "cell_type": "code",
   "execution_count": 15,
   "id": "bf5d841c-c82e-4cab-bd68-a1bc4fd74db8",
   "metadata": {},
   "outputs": [
    {
     "name": "stdout",
     "output_type": "stream",
     "text": [
      "   Unnamed: 0  store type  department        date  weekly_sales  is_holiday  \\\n",
      "0           0      1    A           1  2010-02-05      24924.50       False   \n",
      "1           1      1    A           1  2010-03-05      21827.90       False   \n",
      "2           2      1    A           1  2010-04-02      57258.43       False   \n",
      "\n",
      "   temperature_c  fuel_price_usd_per_l  unemployment  \n",
      "0       5.727778              0.679451         8.106  \n",
      "1       8.055556              0.693452         8.106  \n",
      "2      16.816667              0.718284         7.808  \n"
     ]
    }
   ],
   "source": [
    "# Print the first 3 rows of the sales DataFrame\n",
    "print(sales.head(3))"
   ]
  },
  {
   "cell_type": "code",
   "execution_count": 16,
   "id": "fe7924f6-d0e3-4f76-8ef0-57ac41879325",
   "metadata": {},
   "outputs": [
    {
     "name": "stdout",
     "output_type": "stream",
     "text": [
      "<class 'pandas.core.frame.DataFrame'>\n",
      "RangeIndex: 10774 entries, 0 to 10773\n",
      "Data columns (total 10 columns):\n",
      " #   Column                Non-Null Count  Dtype  \n",
      "---  ------                --------------  -----  \n",
      " 0   Unnamed: 0            10774 non-null  int64  \n",
      " 1   store                 10774 non-null  int64  \n",
      " 2   type                  10774 non-null  object \n",
      " 3   department            10774 non-null  int64  \n",
      " 4   date                  10774 non-null  object \n",
      " 5   weekly_sales          10774 non-null  float64\n",
      " 6   is_holiday            10774 non-null  bool   \n",
      " 7   temperature_c         10774 non-null  float64\n",
      " 8   fuel_price_usd_per_l  10774 non-null  float64\n",
      " 9   unemployment          10774 non-null  float64\n",
      "dtypes: bool(1), float64(4), int64(3), object(2)\n",
      "memory usage: 768.2+ KB\n",
      "None\n"
     ]
    }
   ],
   "source": [
    "# Print the info about the sales DataFrame\n",
    "print(sales.info())"
   ]
  },
  {
   "cell_type": "code",
   "execution_count": 17,
   "id": "f04e8346-6d97-41d3-9a86-b0053153f6ac",
   "metadata": {},
   "outputs": [
    {
     "name": "stdout",
     "output_type": "stream",
     "text": [
      "The avarege weekly sales is: 23843.95\n"
     ]
    }
   ],
   "source": [
    "# Print the mean of weekly_sales\n",
    "print('The avarege weekly sales is: ' + str(round(sales['weekly_sales'].mean(), 2)))"
   ]
  },
  {
   "cell_type": "code",
   "execution_count": 18,
   "id": "5d38e3e4-cb0f-449b-9216-611da6795a78",
   "metadata": {},
   "outputs": [
    {
     "name": "stdout",
     "output_type": "stream",
     "text": [
      "The avarege weekly sales is: 12049.06\n"
     ]
    }
   ],
   "source": [
    "# Print the median of weekly_sales\n",
    "print('The avarege weekly sales is: ' + str(round(sales['weekly_sales'].median(), 2)))"
   ]
  },
  {
   "cell_type": "markdown",
   "id": "dadb11ae-ebf5-4e12-af5d-71c1f83c99b8",
   "metadata": {},
   "source": [
    "### Summarizing Dates"
   ]
  },
  {
   "cell_type": "markdown",
   "id": "4758e7c6-2d18-41c3-9a01-aeb7f9ba62a4",
   "metadata": {},
   "source": [
    "Summary statistics can also be calculated on date columns that have values with the data type `datetime64`."
   ]
  },
  {
   "cell_type": "code",
   "execution_count": 19,
   "id": "e690e1f3-fb11-48a0-ba6f-8acb304b74d6",
   "metadata": {},
   "outputs": [
    {
     "name": "stdout",
     "output_type": "stream",
     "text": [
      "The earliest date of the \"sales\" DataFrame is: 2012-10-26\n"
     ]
    }
   ],
   "source": [
    "# Print the maximum of the date column\n",
    "earliest_date = sales['date'].max()\n",
    "print('The earliest date of the \"sales\" DataFrame is: ' + str(earliest_date))"
   ]
  },
  {
   "cell_type": "code",
   "execution_count": 20,
   "id": "c40d8676-0906-4d70-89ef-8c8c929e8ec0",
   "metadata": {},
   "outputs": [
    {
     "name": "stdout",
     "output_type": "stream",
     "text": [
      "The earliest date of the \"sales\" DataFrame is: 2010-02-05\n"
     ]
    }
   ],
   "source": [
    "# Print the minimum of the date column\n",
    "latest_date = sales['date'].min()\n",
    "print('The earliest date of the \"sales\" DataFrame is: ' + str(latest_date))"
   ]
  },
  {
   "cell_type": "markdown",
   "id": "50da9e15-0d90-4457-93a7-93393e70af75",
   "metadata": {},
   "source": [
    "### Efficient Summaries"
   ]
  },
  {
   "cell_type": "markdown",
   "id": "076528bd-9992-4d78-a1fb-65c1ac00ef03",
   "metadata": {},
   "source": [
    "The **[`.agg()`](https://pandas.pydata.org/pandas-docs/stable/reference/api/pandas.DataFrame.agg.html)** method allows you to apply your own custom functions to a DataFrame, as well as apply functions to more than one column of a DataFrame at once, making your aggregations super-efficient.  \n",
    "\n",
    "If your data contains **outliers**, an alternative to standard deviation is the **\"inter-quartile range\"**, which is the **75th percentile minus the 25th percentile**."
   ]
  },
  {
   "cell_type": "code",
   "execution_count": 21,
   "id": "a7ecf600-4a0d-4c1d-bb89-64afd1105190",
   "metadata": {},
   "outputs": [
    {
     "name": "stdout",
     "output_type": "stream",
     "text": [
      "temperature_c    16.583333\n",
      "dtype: float64\n"
     ]
    }
   ],
   "source": [
    "# A custom IQR function\n",
    "def iqr(column):\n",
    "    return column.quantile(0.75) - column.quantile(0.25)\n",
    "    \n",
    "# Print IQR of the temperature_c column\n",
    "print(sales[['temperature_c']].agg(iqr))"
   ]
  },
  {
   "cell_type": "code",
   "execution_count": 22,
   "id": "a4b37d53-dfc4-42d9-b81b-8d0187e50e7e",
   "metadata": {},
   "outputs": [
    {
     "name": "stdout",
     "output_type": "stream",
     "text": [
      "temperature_c           16.583333\n",
      "fuel_price_usd_per_l     0.073176\n",
      "unemployment             0.565000\n",
      "dtype: float64\n"
     ]
    }
   ],
   "source": [
    "# A custom IQR function\n",
    "def iqr(column):\n",
    "    return column.quantile(0.75) - column.quantile(0.25)\n",
    "\n",
    "# Update to print IQR of temperature_c, fuel_price_usd_per_l, & unemployment\n",
    "print(sales[['temperature_c', 'fuel_price_usd_per_l', 'unemployment']].agg(iqr))"
   ]
  },
  {
   "cell_type": "code",
   "execution_count": 23,
   "id": "f75d4f1e-15d2-49a3-bb6f-9a73b16d785e",
   "metadata": {},
   "outputs": [
    {
     "name": "stdout",
     "output_type": "stream",
     "text": [
      "        temperature_c  fuel_price_usd_per_l  unemployment\n",
      "iqr         16.583333              0.073176         0.565\n",
      "median      16.966667              0.743381         8.099\n"
     ]
    }
   ],
   "source": [
    "import numpy as np\n",
    "# Update to print IQR and median of temperature_c, fuel_price_usd_per_l, & unemployment\n",
    "print(sales[[\"temperature_c\", \"fuel_price_usd_per_l\", \"unemployment\"]].agg([iqr, np.median]))"
   ]
  },
  {
   "cell_type": "markdown",
   "id": "ba203d95-8757-4a85-9277-05413854c19f",
   "metadata": {},
   "source": [
    "### Cumulative Statistics"
   ]
  },
  {
   "cell_type": "code",
   "execution_count": 24,
   "id": "912b934b-ae1a-44e8-a310-3838ccd548ad",
   "metadata": {},
   "outputs": [],
   "source": [
    "# Create a DataFrame which contains the sales data for department 1 of store 1\n",
    "sales_1_1 = sales[(sales[\"department\"]) == 1 & (sales[\"store\"] == 1)]"
   ]
  },
  {
   "cell_type": "code",
   "execution_count": 25,
   "id": "c03562ec-cfca-4591-8b17-d18ebbab2b9e",
   "metadata": {},
   "outputs": [
    {
     "name": "stdout",
     "output_type": "stream",
     "text": [
      "          date  weekly_sales  cum_weekly_sales  cum_max_sales\n",
      "0   2010-02-05      24924.50          24924.50       24924.50\n",
      "1   2010-03-05      21827.90          46752.40       24924.50\n",
      "2   2010-04-02      57258.43         104010.83       57258.43\n",
      "3   2010-05-07      17413.94         121424.77       57258.43\n",
      "4   2010-06-04      17558.09         138982.86       57258.43\n",
      "5   2010-07-02      16333.14         155316.00       57258.43\n",
      "6   2010-08-06      17508.41         172824.41       57258.43\n",
      "7   2010-09-03      16241.78         189066.19       57258.43\n",
      "8   2010-10-01      20094.19         209160.38       57258.43\n",
      "9   2010-11-05      34238.88         243399.26       57258.43\n",
      "10  2010-12-03      22517.56         265916.82       57258.43\n",
      "11  2011-01-07      15984.24         281901.06       57258.43\n"
     ]
    }
   ],
   "source": [
    "# Sort sales_1_1 by date\n",
    "sales_1_1 = sales_1_1.sort_values(\"date\")\n",
    "\n",
    "# Get the cumulative sum of weekly_sales, add as cum_weekly_sales col\n",
    "sales_1_1[\"cum_weekly_sales\"] = sales_1_1[\"weekly_sales\"].cumsum()\n",
    "\n",
    "# Get the cumulative max of weekly_sales, add as cum_max_sales col\n",
    "sales_1_1[\"cum_max_sales\"] = sales_1_1[\"weekly_sales\"].cummax()\n",
    "\n",
    "# See the columns you calculated\n",
    "print(sales_1_1[[\"date\", \"weekly_sales\", \"cum_weekly_sales\", \"cum_max_sales\"]])"
   ]
  },
  {
   "cell_type": "markdown",
   "id": "e772cb6f-c6a1-4a53-a22c-af237c3210d3",
   "metadata": {},
   "source": [
    "### Dropping Duplicates"
   ]
  },
  {
   "cell_type": "code",
   "execution_count": 26,
   "id": "a8ffa0d1-3ec8-4bc5-a181-318b23ccd2a1",
   "metadata": {},
   "outputs": [
    {
     "name": "stdout",
     "output_type": "stream",
     "text": [
      "      Unnamed: 0  store type  department        date  weekly_sales  \\\n",
      "0              0      1    A           1  2010-02-05      24924.50   \n",
      "901          901      2    A           1  2010-02-05      35034.06   \n",
      "1798        1798      4    A           1  2010-02-05      38724.42   \n",
      "2699        2699      6    A           1  2010-02-05      25619.00   \n",
      "3593        3593     10    B           1  2010-02-05      40212.84   \n",
      "\n",
      "      is_holiday  temperature_c  fuel_price_usd_per_l  unemployment  \n",
      "0          False       5.727778              0.679451         8.106  \n",
      "901        False       4.550000              0.679451         8.324  \n",
      "1798       False       6.533333              0.686319         8.623  \n",
      "2699       False       4.683333              0.679451         7.259  \n",
      "3593       False      12.411111              0.782478         9.765  \n"
     ]
    }
   ],
   "source": [
    "# Drop duplicate store/type combinations\n",
    "store_types = sales.drop_duplicates(subset=[\"store\",\"type\"])\n",
    "print(store_types.head())"
   ]
  },
  {
   "cell_type": "code",
   "execution_count": 27,
   "id": "eff13a53-681e-448c-bd8e-cccc1eed0d8e",
   "metadata": {},
   "outputs": [
    {
     "name": "stdout",
     "output_type": "stream",
     "text": [
      "    Unnamed: 0  store type  department        date  weekly_sales  is_holiday  \\\n",
      "0            0      1    A           1  2010-02-05      24924.50       False   \n",
      "12          12      1    A           2  2010-02-05      50605.27       False   \n",
      "24          24      1    A           3  2010-02-05      13740.12       False   \n",
      "36          36      1    A           4  2010-02-05      39954.04       False   \n",
      "48          48      1    A           5  2010-02-05      32229.38       False   \n",
      "\n",
      "    temperature_c  fuel_price_usd_per_l  unemployment  \n",
      "0        5.727778              0.679451         8.106  \n",
      "12       5.727778              0.679451         8.106  \n",
      "24       5.727778              0.679451         8.106  \n",
      "36       5.727778              0.679451         8.106  \n",
      "48       5.727778              0.679451         8.106  \n"
     ]
    }
   ],
   "source": [
    "# Drop duplicate store/department combinations\n",
    "store_depts = sales.drop_duplicates(subset=[\"store\",\"department\"])\n",
    "print(store_depts.head())"
   ]
  },
  {
   "cell_type": "code",
   "execution_count": 28,
   "id": "cf9a7ec3-3805-4a76-add7-352053dc6a67",
   "metadata": {},
   "outputs": [
    {
     "name": "stdout",
     "output_type": "stream",
     "text": [
      "498     2010-09-10\n",
      "691     2011-11-25\n",
      "2315    2010-02-12\n",
      "6735    2012-09-07\n",
      "6810    2010-12-31\n",
      "6815    2012-02-10\n",
      "6820    2011-09-09\n",
      "Name: date, dtype: object\n"
     ]
    }
   ],
   "source": [
    "# Subset the rows where is_holiday is True and drop duplicate dates\n",
    "holiday_dates = sales[sales[\"is_holiday\"] == True].drop_duplicates(\"date\")\n",
    "\n",
    "# Print date col of holiday_dates\n",
    "print(holiday_dates[\"date\"])"
   ]
  },
  {
   "cell_type": "markdown",
   "id": "c15c8e04-7791-4201-af08-0db12e35888e",
   "metadata": {},
   "source": [
    "### Counting Categorical Variables"
   ]
  },
  {
   "cell_type": "code",
   "execution_count": 29,
   "id": "908467a3-3177-4b32-be1e-955f149b198f",
   "metadata": {},
   "outputs": [
    {
     "name": "stdout",
     "output_type": "stream",
     "text": [
      "A    11\n",
      "B     1\n",
      "Name: type, dtype: int64\n"
     ]
    }
   ],
   "source": [
    "# Count the number of stores of each type\n",
    "store_counts = store_types[\"type\"].value_counts()\n",
    "print(store_counts)"
   ]
  },
  {
   "cell_type": "code",
   "execution_count": 30,
   "id": "08766b1a-911b-4e93-8170-c5d2a3d2f1d1",
   "metadata": {},
   "outputs": [
    {
     "name": "stdout",
     "output_type": "stream",
     "text": [
      "A    0.916667\n",
      "B    0.083333\n",
      "Name: type, dtype: float64\n"
     ]
    }
   ],
   "source": [
    "# Get the proportion of stores of each type\n",
    "store_props = store_types[\"type\"].value_counts(normalize=True)\n",
    "print(store_props)"
   ]
  },
  {
   "cell_type": "code",
   "execution_count": 31,
   "id": "d57a83e4-22a1-43cf-9676-e4e1783043b0",
   "metadata": {},
   "outputs": [
    {
     "name": "stdout",
     "output_type": "stream",
     "text": [
      "1     12\n",
      "55    12\n",
      "72    12\n",
      "71    12\n",
      "67    12\n",
      "      ..\n",
      "37    10\n",
      "48     8\n",
      "50     6\n",
      "39     4\n",
      "43     2\n",
      "Name: department, Length: 80, dtype: int64\n"
     ]
    }
   ],
   "source": [
    "# Count the number of each department number and sort\n",
    "dept_counts_sorted = store_depts[\"department\"].value_counts(sort=True)\n",
    "print(dept_counts_sorted)"
   ]
  },
  {
   "cell_type": "code",
   "execution_count": 32,
   "id": "c2e1cc14-0b43-4930-bdaf-b88ab4e59886",
   "metadata": {},
   "outputs": [
    {
     "name": "stdout",
     "output_type": "stream",
     "text": [
      "1     0.012917\n",
      "55    0.012917\n",
      "72    0.012917\n",
      "71    0.012917\n",
      "67    0.012917\n",
      "        ...   \n",
      "37    0.010764\n",
      "48    0.008611\n",
      "50    0.006459\n",
      "39    0.004306\n",
      "43    0.002153\n",
      "Name: department, Length: 80, dtype: float64\n"
     ]
    }
   ],
   "source": [
    "# Get the proportion of departments of each number and sort\n",
    "dept_props_sorted = store_depts[\"department\"].value_counts(sort=True, normalize=True)\n",
    "print(dept_props_sorted)"
   ]
  },
  {
   "cell_type": "markdown",
   "id": "854131b2-a42d-4c95-82de-020af87a68f5",
   "metadata": {},
   "source": [
    "### Calculations by Subsets"
   ]
  },
  {
   "cell_type": "code",
   "execution_count": 33,
   "id": "8a6862e1-a889-482f-9591-548b3336739c",
   "metadata": {},
   "outputs": [
    {
     "name": "stdout",
     "output_type": "stream",
     "text": [
      "[0.9097747 0.0902253 0.       ]\n"
     ]
    }
   ],
   "source": [
    "# Calc total weekly sales\n",
    "sales_all = sales[\"weekly_sales\"].sum()\n",
    "\n",
    "# Subset for type A stores, calc total weekly sales\n",
    "sales_A = sales[sales[\"type\"] == \"A\"][\"weekly_sales\"].sum()\n",
    "\n",
    "# Subset for type B stores, calc total weekly sales\n",
    "sales_B = sales[sales[\"type\"] == \"B\"][\"weekly_sales\"].sum()\n",
    "\n",
    "# Subset for type C stores, calc total weekly sales\n",
    "sales_C = sales[sales[\"type\"] == \"C\"][\"weekly_sales\"].sum()\n",
    "\n",
    "# Get proportion for each type\n",
    "sales_propn_by_type = [sales_A, sales_B, sales_C] / sales_all\n",
    "print(sales_propn_by_type)"
   ]
  },
  {
   "cell_type": "markdown",
   "id": "6b4576d2-9eaa-4c7a-b7e8-839f1ad5cb6f",
   "metadata": {},
   "source": [
    "- About **91%** of sales occurred in stores of type **A**,\n",
    "- **9%** in stores of type **B**,\n",
    "- There are **no sales** records for stores of type **C**."
   ]
  },
  {
   "cell_type": "markdown",
   "id": "8fcf8327-3ed3-47b4-8c27-e1babd9a92d2",
   "metadata": {},
   "source": [
    "### Calculations by Group"
   ]
  },
  {
   "cell_type": "code",
   "execution_count": 34,
   "id": "37ace6a4-c21d-477d-9bba-92f4a75aa7f7",
   "metadata": {},
   "outputs": [
    {
     "name": "stdout",
     "output_type": "stream",
     "text": [
      "type\n",
      "A    0.909775\n",
      "B    0.090225\n",
      "Name: weekly_sales, dtype: float64\n"
     ]
    }
   ],
   "source": [
    "# Group by type; calc total weekly sales\n",
    "sales_by_type = sales.groupby(\"type\")[\"weekly_sales\"].sum()\n",
    "\n",
    "# Get proportion for each type\n",
    "sales_propn_by_type = sales_by_type / sum(sales[\"weekly_sales\"])\n",
    "print(sales_propn_by_type)"
   ]
  },
  {
   "cell_type": "code",
   "execution_count": 35,
   "id": "d52efef3-17f6-4658-ba42-e294b0227bb3",
   "metadata": {},
   "outputs": [
    {
     "name": "stdout",
     "output_type": "stream",
     "text": [
      "type  is_holiday\n",
      "A     False         2.336927e+08\n",
      "      True          2.360181e+04\n",
      "B     False         2.317678e+07\n",
      "      True          1.621410e+03\n",
      "Name: weekly_sales, dtype: float64\n"
     ]
    }
   ],
   "source": [
    "# Group by type and is_holiday; calc total weekly sales\n",
    "sales_by_type_is_holiday = sales.groupby([\"type\",\"is_holiday\"])[\"weekly_sales\"].sum()\n",
    "print(sales_by_type_is_holiday)"
   ]
  },
  {
   "cell_type": "markdown",
   "id": "5800194b-8879-46db-8eaf-3745052dcc81",
   "metadata": {},
   "source": [
    "### Multiple Grouped Summaries"
   ]
  },
  {
   "cell_type": "code",
   "execution_count": 36,
   "id": "c1beb257-f83d-4827-b56d-238f6828ca88",
   "metadata": {},
   "outputs": [
    {
     "name": "stdout",
     "output_type": "stream",
     "text": [
      "        amin       amax          mean    median\n",
      "type                                           \n",
      "A    -1098.0  293966.05  23674.667242  11943.92\n",
      "B     -798.0  232558.51  25696.678370  13336.08\n"
     ]
    }
   ],
   "source": [
    "# Import numpy with the alias np\n",
    "import numpy as np\n",
    "\n",
    "# For each store type, aggregate weekly_sales: get min, max, mean, and median\n",
    "sales_stats = sales.groupby(\"type\")[\"weekly_sales\"].agg([np.min,np.max,np.mean,np.median])\n",
    "\n",
    "# Print sales_stats\n",
    "print(sales_stats)"
   ]
  },
  {
   "cell_type": "code",
   "execution_count": 37,
   "id": "2692af35-11ec-48ce-9fd5-c34c20eecf7e",
   "metadata": {},
   "outputs": [
    {
     "name": "stdout",
     "output_type": "stream",
     "text": [
      "     unemployment                         fuel_price_usd_per_l            \\\n",
      "             amin   amax      mean median                 amin      amax   \n",
      "type                                                                       \n",
      "A           3.879  8.992  7.972611  8.067             0.664129  1.107410   \n",
      "B           7.170  9.765  9.279323  9.199             0.760023  1.107674   \n",
      "\n",
      "                          \n",
      "          mean    median  \n",
      "type                      \n",
      "A     0.744619  0.735455  \n",
      "B     0.805858  0.803348  \n"
     ]
    },
    {
     "name": "stderr",
     "output_type": "stream",
     "text": [
      "<ipython-input-37-b28676b22355>:2: FutureWarning: Indexing with multiple keys (implicitly converted to a tuple of keys) will be deprecated, use a list instead.\n",
      "  unemp_fuel_stats = sales.groupby(\"type\")[\"unemployment\",\"fuel_price_usd_per_l\"].agg([np.min,np.max,np.mean,np.median])\n"
     ]
    }
   ],
   "source": [
    "# For each store type, aggregate unemployment and fuel_price_usd_per_l: get min, max, mean, and median\n",
    "unemp_fuel_stats = sales.groupby(\"type\")[\"unemployment\",\"fuel_price_usd_per_l\"].agg([np.min,np.max,np.mean,np.median])\n",
    "\n",
    "# Print unemp_fuel_stats\n",
    "print(unemp_fuel_stats)"
   ]
  },
  {
   "cell_type": "markdown",
   "id": "736bb6d7-7c87-4f72-959d-c7e9042e7ba1",
   "metadata": {},
   "source": [
    "### Pivot Table with Pandas"
   ]
  },
  {
   "cell_type": "markdown",
   "id": "51e30a44-a046-40ac-9efb-37d58618c8da",
   "metadata": {},
   "source": [
    "**Pivot tables** are essentially just another way of performing **grouped calculations**.\n",
    "\n",
    "The [**`.pivot_table()`**](https://pandas.pydata.org/pandas-docs/stable/reference/api/pandas.pivot_table.html) method is just an **alternative** to `.groupby()`.\n",
    "\n",
    "Some useful arguments for pivot tables are:\n",
    "- `fill_value`: replaces missing values with a real value (known as imputation). The simplest thing to do for missing values is to substitute them with a dummy value.\n",
    "\n",
    "- `margins`: is a shortcut for when you pivoted by two variables, but also wanted to pivot by each of those variables separately: it gives the row and column totals of the pivot table contents."
   ]
  },
  {
   "cell_type": "code",
   "execution_count": 38,
   "id": "87e28725-5de5-49be-98fe-d68aef5c0775",
   "metadata": {},
   "outputs": [
    {
     "name": "stdout",
     "output_type": "stream",
     "text": [
      "              mean       median\n",
      "      weekly_sales weekly_sales\n",
      "type                           \n",
      "A     23674.667242     11943.92\n",
      "B     25696.678370     13336.08\n"
     ]
    }
   ],
   "source": [
    "# Import NumPy as np\n",
    "import numpy as np\n",
    "\n",
    "# Pivot for mean and median weekly_sales for each store type\n",
    "mean_med_sales_by_type = sales.pivot_table(values=\"weekly_sales\", index=\"type\", aggfunc=[np.mean, np.median])\n",
    "\n",
    "# Print mean_med_sales_by_type\n",
    "print(mean_med_sales_by_type)"
   ]
  },
  {
   "cell_type": "code",
   "execution_count": 39,
   "id": "a5d06823-cfb1-4ffd-b1ec-8b73095d2b69",
   "metadata": {},
   "outputs": [
    {
     "name": "stdout",
     "output_type": "stream",
     "text": [
      "is_holiday         False      True \n",
      "type                               \n",
      "A           23768.583523  590.04525\n",
      "B           25751.980533  810.70500\n"
     ]
    }
   ],
   "source": [
    "# Pivot for mean weekly_sales by store type and holiday \n",
    "mean_sales_by_type_holiday = sales.pivot_table(values=\"weekly_sales\", index=\"type\", columns=\"is_holiday\")\n",
    "\n",
    "# Print mean_sales_by_type_holiday\n",
    "print(mean_sales_by_type_holiday)"
   ]
  },
  {
   "cell_type": "code",
   "execution_count": 41,
   "id": "0a3e2024-6013-46a8-9945-576712da86e3",
   "metadata": {},
   "outputs": [
    {
     "name": "stdout",
     "output_type": "stream",
     "text": [
      "type                   A              B           All\n",
      "department                                           \n",
      "1           30961.725379   44050.626667  32052.467153\n",
      "2           67600.158788  112958.526667  71380.022778\n",
      "3           17160.002955   30580.655000  18278.390625\n",
      "4           44285.399091   51219.654167  44863.253681\n",
      "5           34821.011364   63236.875000  37189.000000\n",
      "...                  ...            ...           ...\n",
      "96          21367.042857    9528.538333  20337.607681\n",
      "97          28471.266970    5828.873333  26584.400833\n",
      "98          12875.423182     217.428333  11820.590278\n",
      "99            379.123659       0.000000    379.123659\n",
      "All         23674.667242   25696.678370  23843.950149\n",
      "\n",
      "[81 rows x 3 columns]\n"
     ]
    }
   ],
   "source": [
    "# Print the mean weekly_sales by department and type; fill missing values with 0s; sum all rows and cols\n",
    "print(sales.pivot_table(values=\"weekly_sales\", index=\"department\", columns=\"type\", fill_value=0, margins=True))"
   ]
  },
  {
   "cell_type": "markdown",
   "id": "9edd9a8d-60f4-4542-bb27-6047c85ba7a7",
   "metadata": {},
   "source": [
    "## Slicing and Indexing DataFrames"
   ]
  },
  {
   "cell_type": "markdown",
   "id": "735166bc-b789-497a-ac9b-ed80d9f70545",
   "metadata": {},
   "source": [
    "### Setting and Removing Indexes"
   ]
  },
  {
   "cell_type": "markdown",
   "id": "dd852668-7338-417d-b652-06f1004f9f74",
   "metadata": {},
   "source": [
    "pandas allows you to designate **columns as an index**. This enables cleaner code when taking subsets (as well as providing more efficient lookup under some circumstances)."
   ]
  },
  {
   "cell_type": "code",
   "execution_count": 16,
   "id": "e303a901-dd60-49d1-bfdd-d4a74e960fc9",
   "metadata": {},
   "outputs": [],
   "source": [
    "import pandas as pd\n",
    "\n",
    "temperatures_file_path = '/Users/luismoreno/Documents/Python/python-datacamp/pandas/datasets/temperatures.csv'\n",
    "\n",
    "temperatures = pd.read_csv(temperatures_file_path)"
   ]
  },
  {
   "cell_type": "code",
   "execution_count": 3,
   "id": "a3c69c18-acd4-4564-9cb2-69e2c545a5d0",
   "metadata": {},
   "outputs": [
    {
     "name": "stdout",
     "output_type": "stream",
     "text": [
      "   Unnamed: 0        date     city        country  avg_temp_c\n",
      "0           0  2000-01-01  Abidjan  Côte D'Ivoire      27.293\n",
      "1           1  2000-02-01  Abidjan  Côte D'Ivoire      27.685\n",
      "2           2  2000-03-01  Abidjan  Côte D'Ivoire      29.061\n",
      "3           3  2000-04-01  Abidjan  Côte D'Ivoire      28.162\n",
      "4           4  2000-05-01  Abidjan  Côte D'Ivoire      27.547\n"
     ]
    }
   ],
   "source": [
    "# Look at the first 5 rows of temperatures DataFrame\n",
    "print(temperatures.head(5))"
   ]
  },
  {
   "cell_type": "code",
   "execution_count": 4,
   "id": "bf572cf8-fc35-4775-82df-64beff75fc2f",
   "metadata": {},
   "outputs": [
    {
     "name": "stdout",
     "output_type": "stream",
     "text": [
      "         Unnamed: 0        date        country  avg_temp_c\n",
      "city                                                      \n",
      "Abidjan           0  2000-01-01  Côte D'Ivoire      27.293\n",
      "Abidjan           1  2000-02-01  Côte D'Ivoire      27.685\n",
      "Abidjan           2  2000-03-01  Côte D'Ivoire      29.061\n",
      "Abidjan           3  2000-04-01  Côte D'Ivoire      28.162\n",
      "Abidjan           4  2000-05-01  Côte D'Ivoire      27.547\n"
     ]
    }
   ],
   "source": [
    "# Index temperatures DataFrame by city\n",
    "temperatures_ind = temperatures.set_index(\"city\")\n",
    "\n",
    "# Look at the first 5 rows of temperatures_ind\n",
    "print(temperatures_ind.head(5))"
   ]
  },
  {
   "cell_type": "code",
   "execution_count": 5,
   "id": "ddc49d3c-68fd-457d-b856-3c5caf4c7ba7",
   "metadata": {},
   "outputs": [
    {
     "name": "stdout",
     "output_type": "stream",
     "text": [
      "      city  Unnamed: 0        date        country  avg_temp_c\n",
      "0  Abidjan           0  2000-01-01  Côte D'Ivoire      27.293\n",
      "1  Abidjan           1  2000-02-01  Côte D'Ivoire      27.685\n",
      "2  Abidjan           2  2000-03-01  Côte D'Ivoire      29.061\n",
      "3  Abidjan           3  2000-04-01  Côte D'Ivoire      28.162\n",
      "4  Abidjan           4  2000-05-01  Côte D'Ivoire      27.547\n"
     ]
    }
   ],
   "source": [
    "# Reset the index, keeping its contents\n",
    "print(temperatures_ind.reset_index().head(5))"
   ]
  },
  {
   "cell_type": "code",
   "execution_count": 6,
   "id": "35794bd3-3600-450b-884b-e47ce41379a6",
   "metadata": {},
   "outputs": [
    {
     "name": "stdout",
     "output_type": "stream",
     "text": [
      "   Unnamed: 0        date        country  avg_temp_c\n",
      "0           0  2000-01-01  Côte D'Ivoire      27.293\n",
      "1           1  2000-02-01  Côte D'Ivoire      27.685\n",
      "2           2  2000-03-01  Côte D'Ivoire      29.061\n",
      "3           3  2000-04-01  Côte D'Ivoire      28.162\n",
      "4           4  2000-05-01  Côte D'Ivoire      27.547\n"
     ]
    }
   ],
   "source": [
    "# Reset the index, dropping its contents\n",
    "print(temperatures_ind.reset_index(drop=True).head(5))"
   ]
  },
  {
   "cell_type": "markdown",
   "id": "42e4c97b-e8c8-4abf-8f2e-6cdd52fd33d2",
   "metadata": {},
   "source": [
    "### Subsetting with `.loc`"
   ]
  },
  {
   "cell_type": "markdown",
   "id": "0dbbf2c3-e917-41a0-91a2-e64fcb199fa5",
   "metadata": {},
   "source": [
    "- `.loc[]` is a **subsetting method** that accepts index values. When you pass it a single argument, it will take a subset of rows.\n",
    "\n",
    "- The code for subsetting using `.loc[]` can be easier to read than standard square bracket subsetting, which can make your code less burdensome to maintain."
   ]
  },
  {
   "cell_type": "code",
   "execution_count": 7,
   "id": "37c54034-41ef-4123-b8be-ce96615531f9",
   "metadata": {},
   "outputs": [],
   "source": [
    "# Make a list of cities to subset on\n",
    "cities = [\"Moscow\", \"Saint Petersburg\"]"
   ]
  },
  {
   "cell_type": "code",
   "execution_count": 8,
   "id": "59ed61a6-e208-4f5c-9021-f3f6fec2653e",
   "metadata": {},
   "outputs": [
    {
     "name": "stdout",
     "output_type": "stream",
     "text": [
      "       Unnamed: 0        date              city country  avg_temp_c\n",
      "10725       10725  2000-01-01            Moscow  Russia      -7.313\n",
      "10726       10726  2000-02-01            Moscow  Russia      -3.551\n",
      "10727       10727  2000-03-01            Moscow  Russia      -1.661\n",
      "10728       10728  2000-04-01            Moscow  Russia      10.096\n",
      "10729       10729  2000-05-01            Moscow  Russia      10.357\n",
      "...           ...         ...               ...     ...         ...\n",
      "13360       13360  2013-05-01  Saint Petersburg  Russia      12.355\n",
      "13361       13361  2013-06-01  Saint Petersburg  Russia      17.185\n",
      "13362       13362  2013-07-01  Saint Petersburg  Russia      17.234\n",
      "13363       13363  2013-08-01  Saint Petersburg  Russia      17.153\n",
      "13364       13364  2013-09-01  Saint Petersburg  Russia         NaN\n",
      "\n",
      "[330 rows x 5 columns]\n"
     ]
    }
   ],
   "source": [
    "# Subset temperatures using square brackets\n",
    "print(temperatures[temperatures[\"city\"].isin(cities)])"
   ]
  },
  {
   "cell_type": "code",
   "execution_count": 9,
   "id": "fc47c6e4-1b4a-4244-aa6c-094234a90b32",
   "metadata": {},
   "outputs": [
    {
     "name": "stdout",
     "output_type": "stream",
     "text": [
      "                  Unnamed: 0        date country  avg_temp_c\n",
      "city                                                        \n",
      "Moscow                 10725  2000-01-01  Russia      -7.313\n",
      "Moscow                 10726  2000-02-01  Russia      -3.551\n",
      "Moscow                 10727  2000-03-01  Russia      -1.661\n",
      "Moscow                 10728  2000-04-01  Russia      10.096\n",
      "Moscow                 10729  2000-05-01  Russia      10.357\n",
      "...                      ...         ...     ...         ...\n",
      "Saint Petersburg       13360  2013-05-01  Russia      12.355\n",
      "Saint Petersburg       13361  2013-06-01  Russia      17.185\n",
      "Saint Petersburg       13362  2013-07-01  Russia      17.234\n",
      "Saint Petersburg       13363  2013-08-01  Russia      17.153\n",
      "Saint Petersburg       13364  2013-09-01  Russia         NaN\n",
      "\n",
      "[330 rows x 4 columns]\n"
     ]
    }
   ],
   "source": [
    "# Subset temperatures_ind using .loc[]\n",
    "print(temperatures_ind.loc[cities])"
   ]
  },
  {
   "cell_type": "markdown",
   "id": "d93bc9bb-ac0a-4b13-8d7d-5863e9a0fd00",
   "metadata": {},
   "source": [
    "### Setting Multi-Level Indexes"
   ]
  },
  {
   "cell_type": "markdown",
   "id": "32054c7a-c84d-4337-b20c-0b2fb3be049f",
   "metadata": {},
   "source": [
    "- **Indexes** can also be made out of **multiple columns**, forming a **multi-level index** (sometimes called a hierarchical index).\n",
    "\n",
    "\n",
    "- Multi-level indexes make it **more natural** to reason about nested categorical variables.\n",
    "\n",
    "\n",
    "- The **main downside** is that the code for manipulating indexes is different from the code for manipulating columns, so you have to learn two syntaxes and keep track of how your data is represented."
   ]
  },
  {
   "cell_type": "code",
   "execution_count": 10,
   "id": "f088c2ec-f043-4c0a-8213-a99af9925674",
   "metadata": {},
   "outputs": [
    {
     "name": "stdout",
     "output_type": "stream",
     "text": [
      "                         Unnamed: 0        date  avg_temp_c\n",
      "country  city                                              \n",
      "Brazil   Rio De Janeiro       12540  2000-01-01      25.974\n",
      "         Rio De Janeiro       12541  2000-02-01      26.699\n",
      "         Rio De Janeiro       12542  2000-03-01      26.270\n",
      "         Rio De Janeiro       12543  2000-04-01      25.750\n",
      "         Rio De Janeiro       12544  2000-05-01      24.356\n",
      "...                             ...         ...         ...\n",
      "Pakistan Lahore                8575  2013-05-01      33.457\n",
      "         Lahore                8576  2013-06-01      34.456\n",
      "         Lahore                8577  2013-07-01      33.279\n",
      "         Lahore                8578  2013-08-01      31.511\n",
      "         Lahore                8579  2013-09-01         NaN\n",
      "\n",
      "[330 rows x 3 columns]\n"
     ]
    }
   ],
   "source": [
    "# Index temperatures by country & city\n",
    "temperatures_ind = temperatures.set_index([\"country\",\"city\"])\n",
    "\n",
    "# List of tuples: Brazil, Rio De Janeiro & Pakistan, Lahore\n",
    "rows_to_keep = [(\"Brazil\",\"Rio De Janeiro\"),(\"Pakistan\",\"Lahore\")]\n",
    "\n",
    "# Subset for rows to keep\n",
    "print(temperatures_ind.loc[rows_to_keep])"
   ]
  },
  {
   "cell_type": "markdown",
   "id": "1dc6be23-0527-40ea-9d32-14f4bad95245",
   "metadata": {},
   "source": [
    "### Sorting by Index Values"
   ]
  },
  {
   "cell_type": "code",
   "execution_count": 11,
   "id": "990c4c20-b59d-4d2c-bfad-58c1eaf76264",
   "metadata": {},
   "outputs": [
    {
     "name": "stdout",
     "output_type": "stream",
     "text": [
      "                    Unnamed: 0        date  avg_temp_c\n",
      "country     city                                      \n",
      "Afghanistan Kabul         7260  2000-01-01       3.326\n",
      "            Kabul         7261  2000-02-01       3.454\n",
      "            Kabul         7262  2000-03-01       9.612\n",
      "            Kabul         7263  2000-04-01      17.925\n",
      "            Kabul         7264  2000-05-01      24.658\n",
      "...                        ...         ...         ...\n",
      "Zimbabwe    Harare        5605  2013-05-01      18.298\n",
      "            Harare        5606  2013-06-01      17.020\n",
      "            Harare        5607  2013-07-01      16.299\n",
      "            Harare        5608  2013-08-01      19.232\n",
      "            Harare        5609  2013-09-01         NaN\n",
      "\n",
      "[16500 rows x 3 columns]\n"
     ]
    }
   ],
   "source": [
    "# Sort temperatures_ind by index values\n",
    "print(temperatures_ind.sort_index())"
   ]
  },
  {
   "cell_type": "code",
   "execution_count": 12,
   "id": "a610ecc8-9348-4279-93fd-6ace587c30ad",
   "metadata": {},
   "outputs": [
    {
     "name": "stdout",
     "output_type": "stream",
     "text": [
      "                       Unnamed: 0        date  avg_temp_c\n",
      "country       city                                       \n",
      "Côte D'Ivoire Abidjan           0  2000-01-01      27.293\n",
      "              Abidjan           1  2000-02-01      27.685\n",
      "              Abidjan           2  2000-03-01      29.061\n",
      "              Abidjan           3  2000-04-01      28.162\n",
      "              Abidjan           4  2000-05-01      27.547\n",
      "...                           ...         ...         ...\n",
      "China         Xian          16495  2013-05-01      18.979\n",
      "              Xian          16496  2013-06-01      23.522\n",
      "              Xian          16497  2013-07-01      25.251\n",
      "              Xian          16498  2013-08-01      24.528\n",
      "              Xian          16499  2013-09-01         NaN\n",
      "\n",
      "[16500 rows x 3 columns]\n"
     ]
    }
   ],
   "source": [
    "# Sort temperatures_ind by index values at the city level\n",
    "print(temperatures_ind.sort_index(level=[\"city\",\"country\"]))"
   ]
  },
  {
   "cell_type": "code",
   "execution_count": 13,
   "id": "b788d46f-58bf-4a97-85a4-ea3ed57fd2df",
   "metadata": {},
   "outputs": [
    {
     "name": "stdout",
     "output_type": "stream",
     "text": [
      "                    Unnamed: 0        date  avg_temp_c\n",
      "country     city                                      \n",
      "Afghanistan Kabul         7260  2000-01-01       3.326\n",
      "            Kabul         7261  2000-02-01       3.454\n",
      "            Kabul         7262  2000-03-01       9.612\n",
      "            Kabul         7263  2000-04-01      17.925\n",
      "            Kabul         7264  2000-05-01      24.658\n",
      "...                        ...         ...         ...\n",
      "Zimbabwe    Harare        5605  2013-05-01      18.298\n",
      "            Harare        5606  2013-06-01      17.020\n",
      "            Harare        5607  2013-07-01      16.299\n",
      "            Harare        5608  2013-08-01      19.232\n",
      "            Harare        5609  2013-09-01         NaN\n",
      "\n",
      "[16500 rows x 3 columns]\n"
     ]
    }
   ],
   "source": [
    "# Sort temperatures_ind by country then descending city\n",
    "print(temperatures_ind.sort_index(level=[\"country\",\"city\"], ascending=[True,False]))"
   ]
  },
  {
   "cell_type": "markdown",
   "id": "557c78e3",
   "metadata": {},
   "source": [
    "## Slicing and Indexing with [`.loc`](https://pandas.pydata.org/pandas-docs/stable/reference/api/pandas.DataFrame.loc.html) and [`.iloc`](https://pandas.pydata.org/pandas-docs/stable/reference/api/pandas.DataFrame.iloc.html)"
   ]
  },
  {
   "cell_type": "markdown",
   "id": "116b5b68",
   "metadata": {},
   "source": [
    "### Slicing Index Values"
   ]
  },
  {
   "cell_type": "markdown",
   "id": "c825ba41",
   "metadata": {},
   "source": [
    "- Slicing lets you **select consecutive elements** of an object using `first:last` **syntax**.\n",
    "\n",
    "\n",
    "- DataFrames can be **sliced by index values**, this involves slicing inside the `.loc[]` **method**."
   ]
  },
  {
   "cell_type": "markdown",
   "id": "1d8b1969",
   "metadata": {},
   "source": [
    "- You can only slice an index if the index is sorted (using `.sort_index()`).\n",
    "\n",
    "\n",
    "- To slice at the **outer level**, first and last can be **strings**.\n",
    "\n",
    "\n",
    "- To slice at **inner levels**, first and last should be **tuples**.\n",
    "\n",
    "\n",
    "- If you pass a single slice to `.loc[]`, it will slice the rows."
   ]
  },
  {
   "cell_type": "code",
   "execution_count": 14,
   "id": "5861784b",
   "metadata": {},
   "outputs": [
    {
     "name": "stdout",
     "output_type": "stream",
     "text": [
      "                           Unnamed: 0        date  avg_temp_c\n",
      "country  city                                                \n",
      "Pakistan Faisalabad              4785  2000-01-01      12.792\n",
      "         Faisalabad              4786  2000-02-01      14.339\n",
      "         Faisalabad              4787  2000-03-01      20.309\n",
      "         Faisalabad              4788  2000-04-01      29.072\n",
      "         Faisalabad              4789  2000-05-01      34.845\n",
      "...                               ...         ...         ...\n",
      "Russia   Saint Petersburg       13360  2013-05-01      12.355\n",
      "         Saint Petersburg       13361  2013-06-01      17.185\n",
      "         Saint Petersburg       13362  2013-07-01      17.234\n",
      "         Saint Petersburg       13363  2013-08-01      17.153\n",
      "         Saint Petersburg       13364  2013-09-01         NaN\n",
      "\n",
      "[1155 rows x 3 columns]\n"
     ]
    }
   ],
   "source": [
    "# Sort the index of temperatures_ind\n",
    "temperatures_srt = temperatures_ind.sort_index()\n",
    "\n",
    "# Subset rows from Pakistan to Russia\n",
    "print(temperatures_srt.loc[\"Pakistan\":\"Russia\"])"
   ]
  },
  {
   "cell_type": "code",
   "execution_count": 15,
   "id": "2efd030e",
   "metadata": {},
   "outputs": [
    {
     "name": "stdout",
     "output_type": "stream",
     "text": [
      "                    Unnamed: 0        date  avg_temp_c\n",
      "country city                                          \n",
      "Mexico  Mexico           10230  2000-01-01      12.694\n",
      "        Mexico           10231  2000-02-01      14.677\n",
      "        Mexico           10232  2000-03-01      17.376\n",
      "        Mexico           10233  2000-04-01      18.294\n",
      "        Mexico           10234  2000-05-01      18.562\n",
      "...                        ...         ...         ...\n",
      "Morocco Casablanca        3130  2013-05-01      19.217\n",
      "        Casablanca        3131  2013-06-01      23.649\n",
      "        Casablanca        3132  2013-07-01      27.488\n",
      "        Casablanca        3133  2013-08-01      27.952\n",
      "        Casablanca        3134  2013-09-01         NaN\n",
      "\n",
      "[330 rows x 3 columns]\n"
     ]
    }
   ],
   "source": [
    "# Try to subset rows from Lahore to Moscow\n",
    "print(temperatures_srt.loc[\"Lahore\":\"Moscow\"])"
   ]
  },
  {
   "cell_type": "code",
   "execution_count": 16,
   "id": "f3418f2c",
   "metadata": {},
   "outputs": [
    {
     "name": "stdout",
     "output_type": "stream",
     "text": [
      "                 Unnamed: 0        date  avg_temp_c\n",
      "country  city                                      \n",
      "Pakistan Lahore        8415  2000-01-01      12.792\n",
      "         Lahore        8416  2000-02-01      14.339\n",
      "         Lahore        8417  2000-03-01      20.309\n",
      "         Lahore        8418  2000-04-01      29.072\n",
      "         Lahore        8419  2000-05-01      34.845\n",
      "...                     ...         ...         ...\n",
      "Russia   Moscow       10885  2013-05-01      16.152\n",
      "         Moscow       10886  2013-06-01      18.718\n",
      "         Moscow       10887  2013-07-01      18.136\n",
      "         Moscow       10888  2013-08-01      17.485\n",
      "         Moscow       10889  2013-09-01         NaN\n",
      "\n",
      "[660 rows x 3 columns]\n"
     ]
    }
   ],
   "source": [
    "# Subset rows from Pakistan, Lahore to Russia, Moscow\n",
    "print(temperatures_srt.loc[(\"Pakistan\",\"Lahore\"):(\"Russia\",\"Moscow\")])"
   ]
  },
  {
   "cell_type": "markdown",
   "id": "5df5041f",
   "metadata": {},
   "source": [
    "- `DataFrames` are **two-dimensional objects**, it is often natural to **slice both dimensions at once** by passing two arguments to `.loc[]` you can subset by rows and columns in one go."
   ]
  },
  {
   "cell_type": "code",
   "execution_count": 17,
   "id": "46e07fc8",
   "metadata": {},
   "outputs": [
    {
     "name": "stdout",
     "output_type": "stream",
     "text": [
      "                   Unnamed: 0        date  avg_temp_c\n",
      "country city                                         \n",
      "India   Hyderabad        5940  2000-01-01      23.779\n",
      "        Hyderabad        5941  2000-02-01      25.826\n",
      "        Hyderabad        5942  2000-03-01      28.821\n",
      "        Hyderabad        5943  2000-04-01      32.698\n",
      "        Hyderabad        5944  2000-05-01      32.438\n",
      "...                       ...         ...         ...\n",
      "Iraq    Baghdad          1150  2013-05-01      28.673\n",
      "        Baghdad          1151  2013-06-01      33.803\n",
      "        Baghdad          1152  2013-07-01      36.392\n",
      "        Baghdad          1153  2013-08-01      35.463\n",
      "        Baghdad          1154  2013-09-01         NaN\n",
      "\n",
      "[2145 rows x 3 columns]\n"
     ]
    }
   ],
   "source": [
    "# Subset rows from India, Hyderabad to Iraq, Baghdad\n",
    "print(temperatures_srt.loc[(\"India\",\"Hyderabad\"):(\"Iraq\",\"Baghdad\")])"
   ]
  },
  {
   "cell_type": "code",
   "execution_count": 18,
   "id": "9b2958c6",
   "metadata": {},
   "outputs": [
    {
     "name": "stdout",
     "output_type": "stream",
     "text": [
      "                          date  avg_temp_c\n",
      "country     city                          \n",
      "Afghanistan Kabul   2000-01-01       3.326\n",
      "            Kabul   2000-02-01       3.454\n",
      "            Kabul   2000-03-01       9.612\n",
      "            Kabul   2000-04-01      17.925\n",
      "            Kabul   2000-05-01      24.658\n",
      "...                        ...         ...\n",
      "Zimbabwe    Harare  2013-05-01      18.298\n",
      "            Harare  2013-06-01      17.020\n",
      "            Harare  2013-07-01      16.299\n",
      "            Harare  2013-08-01      19.232\n",
      "            Harare  2013-09-01         NaN\n",
      "\n",
      "[16500 rows x 2 columns]\n"
     ]
    }
   ],
   "source": [
    "# Subset columns from date to avg_temp_c\n",
    "print(temperatures_srt.loc[:,\"date\":\"avg_temp_c\"])"
   ]
  },
  {
   "cell_type": "code",
   "execution_count": 19,
   "id": "426e1343",
   "metadata": {
    "scrolled": true
   },
   "outputs": [
    {
     "name": "stdout",
     "output_type": "stream",
     "text": [
      "                         date  avg_temp_c\n",
      "country city                             \n",
      "India   Hyderabad  2000-01-01      23.779\n",
      "        Hyderabad  2000-02-01      25.826\n",
      "        Hyderabad  2000-03-01      28.821\n",
      "        Hyderabad  2000-04-01      32.698\n",
      "        Hyderabad  2000-05-01      32.438\n",
      "...                       ...         ...\n",
      "Iraq    Baghdad    2013-05-01      28.673\n",
      "        Baghdad    2013-06-01      33.803\n",
      "        Baghdad    2013-07-01      36.392\n",
      "        Baghdad    2013-08-01      35.463\n",
      "        Baghdad    2013-09-01         NaN\n",
      "\n",
      "[2145 rows x 2 columns]\n"
     ]
    }
   ],
   "source": [
    "# Subset in both directions at once\n",
    "print(temperatures_srt.loc[(\"India\",\"Hyderabad\"):(\"Iraq\",\"Baghdad\"),\"date\":\"avg_temp_c\"])"
   ]
  },
  {
   "cell_type": "markdown",
   "id": "1706fc83",
   "metadata": {},
   "source": [
    "### Slicing Time Series"
   ]
  },
  {
   "cell_type": "markdown",
   "id": "fcd7542a",
   "metadata": {},
   "source": [
    "- Slicing is particularly useful to filter for data within a date range.\n",
    "\n",
    "\n",
    "- Add the **date** column to the **index**, then use `.loc[]` to perform the subsetting.\n",
    "\n",
    "\n",
    "- Keep your dates in `ISO 8601 format`, that is, `\"yyyy-mm-dd\"` for **year-month-day**, `\"yyyy-mm\"` for **year-month**, and `\"yyyy\"` for **year**.\n",
    "\n",
    "\n",
    "- You can combine multiple `Boolean` conditions using logical operators, such as `&`. To do so in one line of code, you'll need to **add** parentheses `()` **around each condition**."
   ]
  },
  {
   "cell_type": "code",
   "execution_count": 2,
   "id": "522f51c9",
   "metadata": {},
   "outputs": [
    {
     "name": "stdout",
     "output_type": "stream",
     "text": [
      "       Unnamed: 0        date     city        country  avg_temp_c\n",
      "120           120  2010-01-01  Abidjan  Côte D'Ivoire      28.270\n",
      "121           121  2010-02-01  Abidjan  Côte D'Ivoire      29.262\n",
      "122           122  2010-03-01  Abidjan  Côte D'Ivoire      29.596\n",
      "123           123  2010-04-01  Abidjan  Côte D'Ivoire      29.068\n",
      "124           124  2010-05-01  Abidjan  Côte D'Ivoire      28.258\n",
      "...           ...         ...      ...            ...         ...\n",
      "16474       16474  2011-08-01     Xian          China      23.069\n",
      "16475       16475  2011-09-01     Xian          China      16.775\n",
      "16476       16476  2011-10-01     Xian          China      12.587\n",
      "16477       16477  2011-11-01     Xian          China       7.543\n",
      "16478       16478  2011-12-01     Xian          China      -0.490\n",
      "\n",
      "[2400 rows x 5 columns]\n"
     ]
    }
   ],
   "source": [
    "# Use Boolean conditions to subset temperatures for rows in 2010 and 2011\n",
    "temperatures_bool = temperatures[(temperatures[\"date\"] >= \"2010-01-01\") & (temperatures[\"date\"] <= \"2011-12-01\")]\n",
    "print(temperatures_bool)"
   ]
  },
  {
   "cell_type": "code",
   "execution_count": 3,
   "id": "fc8312d9-57ea-4662-884d-f2b196d67dfb",
   "metadata": {},
   "outputs": [],
   "source": [
    "# Set date as the index and sort the index\n",
    "temperatures_ind = temperatures.set_index(\"date\").sort_index()"
   ]
  },
  {
   "cell_type": "code",
   "execution_count": 4,
   "id": "d0e77f6b-5731-43fe-98f8-e7b9b1bd762c",
   "metadata": {},
   "outputs": [
    {
     "name": "stdout",
     "output_type": "stream",
     "text": [
      "            Unnamed: 0        city    country  avg_temp_c\n",
      "date                                                     \n",
      "2010-01-01        4905  Faisalabad   Pakistan      11.810\n",
      "2010-01-01       10185   Melbourne  Australia      20.016\n",
      "2010-01-01        3750   Chongqing      China       7.921\n",
      "2010-01-01       13155   São Paulo     Brazil      23.738\n",
      "2010-01-01        5400   Guangzhou      China      14.136\n",
      "...                ...         ...        ...         ...\n",
      "2010-12-01        6896     Jakarta  Indonesia      26.602\n",
      "2010-12-01        5246       Gizeh      Egypt      16.530\n",
      "2010-12-01       11186      Nagpur      India      19.120\n",
      "2010-12-01       14981      Sydney  Australia      19.559\n",
      "2010-12-01       13496    Salvador     Brazil      26.265\n",
      "\n",
      "[1200 rows x 4 columns]\n"
     ]
    }
   ],
   "source": [
    "# Use .loc[] to subset temperatures_ind for rows in 2010 and 2011\n",
    "print(temperatures_ind.loc[\"2010\":\"2011\"])"
   ]
  },
  {
   "cell_type": "code",
   "execution_count": 5,
   "id": "3fd86a9d-11f5-42f8-a8bb-a5f616785681",
   "metadata": {},
   "outputs": [
    {
     "name": "stdout",
     "output_type": "stream",
     "text": [
      "            Unnamed: 0      city        country  avg_temp_c\n",
      "date                                                       \n",
      "2010-08-01        2602  Calcutta          India      30.226\n",
      "2010-08-01       12337      Pune          India      24.941\n",
      "2010-08-01        6562     Izmir         Turkey      28.352\n",
      "2010-08-01       15637   Tianjin          China      25.543\n",
      "2010-08-01        9862    Manila    Philippines      27.101\n",
      "...                ...       ...            ...         ...\n",
      "2011-02-01        7393     Kabul    Afghanistan       3.914\n",
      "2011-02-01        3598   Chicago  United States       0.276\n",
      "2011-02-01         628    Aleppo          Syria       8.246\n",
      "2011-02-01        4423     Delhi          India      18.136\n",
      "2011-02-01       12508   Rangoon          Burma      26.631\n",
      "\n",
      "[700 rows x 4 columns]\n"
     ]
    }
   ],
   "source": [
    "# Use .loc[] to subset temperatures_ind for rows from Aug 2010 to Feb 2011\n",
    "print(temperatures_ind.loc[\"2010-08-01\":\"2011-02-28\"])"
   ]
  },
  {
   "cell_type": "markdown",
   "id": "53b8dbab-7c3d-44bd-8f75-dad215d15b59",
   "metadata": {},
   "source": [
    "### Subsetting by row/column number"
   ]
  },
  {
   "cell_type": "markdown",
   "id": "a685bc4f-b6bc-4fac-8df6-62d6d2b8e3f1",
   "metadata": {},
   "source": [
    "The most **common ways to subset rows** are:\n",
    "- using a **Boolean condition**,\n",
    "- or by **index labels**.\n",
    "\n",
    "**Subsetting** rows can also be done **by** using **row numbers** with **[`.iloc`](https://pandas.pydata.org/pandas-docs/stable/reference/api/pandas.DataFrame.iloc.html)**, and it can take two arguments to let you subset by rows and columns."
   ]
  },
  {
   "cell_type": "code",
   "execution_count": 6,
   "id": "d6f926eb-1ade-482d-b2f9-c5ba5a34cd75",
   "metadata": {},
   "outputs": [
    {
     "name": "stdout",
     "output_type": "stream",
     "text": [
      "2001-11-01\n"
     ]
    }
   ],
   "source": [
    "# Get 23rd row, 2nd column (index 22, 1)\n",
    "print(temperatures.iloc[22,1])"
   ]
  },
  {
   "cell_type": "code",
   "execution_count": 7,
   "id": "8b175e4c-9e4a-425d-8e3e-cc90d1863b26",
   "metadata": {},
   "outputs": [
    {
     "name": "stdout",
     "output_type": "stream",
     "text": [
      "   Unnamed: 0        date     city        country  avg_temp_c\n",
      "0           0  2000-01-01  Abidjan  Côte D'Ivoire      27.293\n",
      "1           1  2000-02-01  Abidjan  Côte D'Ivoire      27.685\n",
      "2           2  2000-03-01  Abidjan  Côte D'Ivoire      29.061\n",
      "3           3  2000-04-01  Abidjan  Côte D'Ivoire      28.162\n",
      "4           4  2000-05-01  Abidjan  Côte D'Ivoire      27.547\n"
     ]
    }
   ],
   "source": [
    "# Use slicing to get the first 5 rows\n",
    "print(temperatures.iloc[0:5])"
   ]
  },
  {
   "cell_type": "code",
   "execution_count": 8,
   "id": "d6b411f9-4919-46a9-b1e9-c68af6bcf87a",
   "metadata": {},
   "outputs": [
    {
     "name": "stdout",
     "output_type": "stream",
     "text": [
      "          city        country\n",
      "0      Abidjan  Côte D'Ivoire\n",
      "1      Abidjan  Côte D'Ivoire\n",
      "2      Abidjan  Côte D'Ivoire\n",
      "3      Abidjan  Côte D'Ivoire\n",
      "4      Abidjan  Côte D'Ivoire\n",
      "...        ...            ...\n",
      "16495     Xian          China\n",
      "16496     Xian          China\n",
      "16497     Xian          China\n",
      "16498     Xian          China\n",
      "16499     Xian          China\n",
      "\n",
      "[16500 rows x 2 columns]\n"
     ]
    }
   ],
   "source": [
    "# Use slicing to get columns 3 to 4\n",
    "print(temperatures.iloc[:, 2:4])"
   ]
  },
  {
   "cell_type": "code",
   "execution_count": 10,
   "id": "53c12305-4182-45c7-a65f-0c9ed2f8f640",
   "metadata": {},
   "outputs": [
    {
     "name": "stdout",
     "output_type": "stream",
     "text": [
      "      city        country  avg_temp_c\n",
      "0  Abidjan  Côte D'Ivoire      27.293\n",
      "1  Abidjan  Côte D'Ivoire      27.685\n",
      "2  Abidjan  Côte D'Ivoire      29.061\n",
      "3  Abidjan  Côte D'Ivoire      28.162\n",
      "4  Abidjan  Côte D'Ivoire      27.547\n"
     ]
    }
   ],
   "source": [
    "# Use slicing to get the first 5 rows, columns 3 and 4.\n",
    "print(temperatures.iloc[0:5, 2:5])"
   ]
  },
  {
   "cell_type": "markdown",
   "id": "4f1d66ea-c53b-4714-935c-801fe8ee9de3",
   "metadata": {},
   "source": [
    "### Subsetting Pivot Tables"
   ]
  },
  {
   "cell_type": "code",
   "execution_count": 37,
   "id": "aec985ac-b048-46fb-8331-488b034a1eb8",
   "metadata": {},
   "outputs": [
    {
     "name": "stdout",
     "output_type": "stream",
     "text": [
      "year                                 2000       2001       2002       2003  \\\n",
      "country       city                                                           \n",
      "Afghanistan   Kabul             15.822667  15.847917  15.714583  15.132583   \n",
      "Angola        Luanda            24.410333  24.427083  24.790917  24.867167   \n",
      "Australia     Melbourne         14.320083  14.180000  14.075833  13.985583   \n",
      "              Sydney            17.567417  17.854500  17.733833  17.592333   \n",
      "Bangladesh    Dhaka             25.905250  25.931250  26.095000  25.927417   \n",
      "...                                   ...        ...        ...        ...   \n",
      "United States Chicago           11.089667  11.703083  11.532083  10.481583   \n",
      "              Los Angeles       16.643333  16.466250  16.430250  16.944667   \n",
      "              New York           9.969083  10.931000  11.252167   9.836000   \n",
      "Vietnam       Ho Chi Minh City  27.588917  27.831750  28.064750  27.827667   \n",
      "Zimbabwe      Harare            20.283667  20.861000  21.079333  20.889167   \n",
      "\n",
      "year                                 2004       2005       2006       2007  \\\n",
      "country       city                                                           \n",
      "Afghanistan   Kabul             16.128417  14.847500  15.798500  15.518000   \n",
      "Angola        Luanda            24.216167  24.414583  24.138417  24.241583   \n",
      "Australia     Melbourne         13.742083  14.378500  13.991083  14.991833   \n",
      "              Sydney            17.869667  18.028083  17.749500  18.020833   \n",
      "Bangladesh    Dhaka             26.136083  26.193333  26.440417  25.951333   \n",
      "...                                   ...        ...        ...        ...   \n",
      "United States Chicago           10.943417  11.583833  11.870500  11.448333   \n",
      "              Los Angeles       16.552833  16.431417  16.623083  16.699917   \n",
      "              New York          10.389500  10.681417  11.519250  10.627333   \n",
      "Vietnam       Ho Chi Minh City  27.686583  27.884000  28.044000  27.866667   \n",
      "Zimbabwe      Harare            20.307667  21.487417  20.699750  20.746250   \n",
      "\n",
      "year                                 2008       2009       2010       2011  \\\n",
      "country       city                                                           \n",
      "Afghanistan   Kabul             15.479250  15.093333  15.676000  15.812167   \n",
      "Angola        Luanda            24.266333  24.325083  24.440250  24.150750   \n",
      "Australia     Melbourne         14.110583  14.647417  14.231667  14.190917   \n",
      "              Sydney            17.321083  18.175833  17.999000  17.713333   \n",
      "Bangladesh    Dhaka             26.004500  26.535583  26.648167  25.803250   \n",
      "...                                   ...        ...        ...        ...   \n",
      "United States Chicago           10.242417  10.298333  11.815917  11.214250   \n",
      "              Los Angeles       17.014750  16.677000  15.887000  15.874833   \n",
      "              New York          10.641667  10.141833  11.357583  11.272250   \n",
      "Vietnam       Ho Chi Minh City  27.611417  27.853333  28.281750  27.675417   \n",
      "Zimbabwe      Harare            20.680500  20.523833  21.165833  20.781750   \n",
      "\n",
      "year                                 2012       2013  \n",
      "country       city                                    \n",
      "Afghanistan   Kabul             14.510333  16.206125  \n",
      "Angola        Luanda            24.240083  24.553875  \n",
      "Australia     Melbourne         14.268667  14.741500  \n",
      "              Sydney            17.474333  18.089750  \n",
      "Bangladesh    Dhaka             26.283583  26.587000  \n",
      "...                                   ...        ...  \n",
      "United States Chicago           12.821250  11.586889  \n",
      "              Los Angeles       17.089583  18.120667  \n",
      "              New York          11.971500  12.163889  \n",
      "Vietnam       Ho Chi Minh City  28.248750  28.455000  \n",
      "Zimbabwe      Harare            20.523333  19.756500  \n",
      "\n",
      "[100 rows x 14 columns]\n"
     ]
    }
   ],
   "source": [
    "# Parse the \"date\" column into datetime\n",
    "temperatures[\"date\"] = pd.to_datetime(temperatures[\"date\"],format=\"%Y-%m-%d\")\n",
    "\n",
    "# Add a year column to temperatures\n",
    "temperatures[\"year\"] = temperatures[\"date\"].dt.year\n",
    "\n",
    "# Pivot avg_temp_c by country and city vs year\n",
    "temp_by_country_city_vs_year = temperatures.pivot_table(values=\"avg_temp_c\", index=[\"country\",\"city\"], columns=\"year\")\n",
    "\n",
    "# See the result\n",
    "print(temp_by_country_city_vs_year)"
   ]
  },
  {
   "cell_type": "markdown",
   "id": "8f65a031-1388-4646-9868-bec6ee9d574f",
   "metadata": {},
   "source": [
    "- A **pivot table is just a DataFrame with sorted indexes**, so the techniques you have learned already can be used to subset them. \n",
    "- In particular, the `.loc[]` **+ slicing** combination is often helpful."
   ]
  },
  {
   "cell_type": "code",
   "execution_count": 38,
   "id": "601f0cde-b87a-4697-94cd-6963d4890a8e",
   "metadata": {},
   "outputs": [
    {
     "data": {
      "text/html": [
       "<div>\n",
       "<style scoped>\n",
       "    .dataframe tbody tr th:only-of-type {\n",
       "        vertical-align: middle;\n",
       "    }\n",
       "\n",
       "    .dataframe tbody tr th {\n",
       "        vertical-align: top;\n",
       "    }\n",
       "\n",
       "    .dataframe thead th {\n",
       "        text-align: right;\n",
       "    }\n",
       "</style>\n",
       "<table border=\"1\" class=\"dataframe\">\n",
       "  <thead>\n",
       "    <tr style=\"text-align: right;\">\n",
       "      <th></th>\n",
       "      <th>year</th>\n",
       "      <th>2000</th>\n",
       "      <th>2001</th>\n",
       "      <th>2002</th>\n",
       "      <th>2003</th>\n",
       "      <th>2004</th>\n",
       "      <th>2005</th>\n",
       "      <th>2006</th>\n",
       "      <th>2007</th>\n",
       "      <th>2008</th>\n",
       "      <th>2009</th>\n",
       "      <th>2010</th>\n",
       "      <th>2011</th>\n",
       "      <th>2012</th>\n",
       "      <th>2013</th>\n",
       "    </tr>\n",
       "    <tr>\n",
       "      <th>country</th>\n",
       "      <th>city</th>\n",
       "      <th></th>\n",
       "      <th></th>\n",
       "      <th></th>\n",
       "      <th></th>\n",
       "      <th></th>\n",
       "      <th></th>\n",
       "      <th></th>\n",
       "      <th></th>\n",
       "      <th></th>\n",
       "      <th></th>\n",
       "      <th></th>\n",
       "      <th></th>\n",
       "      <th></th>\n",
       "      <th></th>\n",
       "    </tr>\n",
       "  </thead>\n",
       "  <tbody>\n",
       "    <tr>\n",
       "      <th rowspan=\"3\" valign=\"top\">Egypt</th>\n",
       "      <th>Alexandria</th>\n",
       "      <td>20.744500</td>\n",
       "      <td>21.454583</td>\n",
       "      <td>21.456167</td>\n",
       "      <td>21.221417</td>\n",
       "      <td>21.064167</td>\n",
       "      <td>21.082333</td>\n",
       "      <td>21.148167</td>\n",
       "      <td>21.507750</td>\n",
       "      <td>21.739000</td>\n",
       "      <td>21.670500</td>\n",
       "      <td>22.459583</td>\n",
       "      <td>21.181500</td>\n",
       "      <td>21.552583</td>\n",
       "      <td>21.438500</td>\n",
       "    </tr>\n",
       "    <tr>\n",
       "      <th>Cairo</th>\n",
       "      <td>21.486167</td>\n",
       "      <td>22.330833</td>\n",
       "      <td>22.414083</td>\n",
       "      <td>22.170500</td>\n",
       "      <td>22.081917</td>\n",
       "      <td>22.006500</td>\n",
       "      <td>22.050000</td>\n",
       "      <td>22.361000</td>\n",
       "      <td>22.644500</td>\n",
       "      <td>22.625000</td>\n",
       "      <td>23.718250</td>\n",
       "      <td>21.986917</td>\n",
       "      <td>22.484250</td>\n",
       "      <td>22.907000</td>\n",
       "    </tr>\n",
       "    <tr>\n",
       "      <th>Gizeh</th>\n",
       "      <td>21.486167</td>\n",
       "      <td>22.330833</td>\n",
       "      <td>22.414083</td>\n",
       "      <td>22.170500</td>\n",
       "      <td>22.081917</td>\n",
       "      <td>22.006500</td>\n",
       "      <td>22.050000</td>\n",
       "      <td>22.361000</td>\n",
       "      <td>22.644500</td>\n",
       "      <td>22.625000</td>\n",
       "      <td>23.718250</td>\n",
       "      <td>21.986917</td>\n",
       "      <td>22.484250</td>\n",
       "      <td>22.907000</td>\n",
       "    </tr>\n",
       "    <tr>\n",
       "      <th>Ethiopia</th>\n",
       "      <th>Addis Abeba</th>\n",
       "      <td>18.241250</td>\n",
       "      <td>18.296417</td>\n",
       "      <td>18.469750</td>\n",
       "      <td>18.320917</td>\n",
       "      <td>18.292750</td>\n",
       "      <td>18.312833</td>\n",
       "      <td>18.427083</td>\n",
       "      <td>18.142583</td>\n",
       "      <td>18.165000</td>\n",
       "      <td>18.765333</td>\n",
       "      <td>18.298250</td>\n",
       "      <td>18.606750</td>\n",
       "      <td>18.448583</td>\n",
       "      <td>19.539000</td>\n",
       "    </tr>\n",
       "    <tr>\n",
       "      <th>France</th>\n",
       "      <th>Paris</th>\n",
       "      <td>11.739667</td>\n",
       "      <td>11.371250</td>\n",
       "      <td>11.871333</td>\n",
       "      <td>11.909500</td>\n",
       "      <td>11.338833</td>\n",
       "      <td>11.552917</td>\n",
       "      <td>11.788500</td>\n",
       "      <td>11.750833</td>\n",
       "      <td>11.278250</td>\n",
       "      <td>11.464083</td>\n",
       "      <td>10.409833</td>\n",
       "      <td>12.325750</td>\n",
       "      <td>11.219917</td>\n",
       "      <td>11.011625</td>\n",
       "    </tr>\n",
       "    <tr>\n",
       "      <th>Germany</th>\n",
       "      <th>Berlin</th>\n",
       "      <td>10.963667</td>\n",
       "      <td>9.690250</td>\n",
       "      <td>10.264417</td>\n",
       "      <td>10.065750</td>\n",
       "      <td>9.822583</td>\n",
       "      <td>9.919083</td>\n",
       "      <td>10.545333</td>\n",
       "      <td>10.883167</td>\n",
       "      <td>10.657750</td>\n",
       "      <td>10.062500</td>\n",
       "      <td>8.606833</td>\n",
       "      <td>10.556417</td>\n",
       "      <td>9.964333</td>\n",
       "      <td>10.121500</td>\n",
       "    </tr>\n",
       "    <tr>\n",
       "      <th rowspan=\"14\" valign=\"top\">India</th>\n",
       "      <th>Ahmadabad</th>\n",
       "      <td>27.436000</td>\n",
       "      <td>27.198083</td>\n",
       "      <td>27.719083</td>\n",
       "      <td>27.403833</td>\n",
       "      <td>27.628333</td>\n",
       "      <td>26.828083</td>\n",
       "      <td>27.282833</td>\n",
       "      <td>27.511167</td>\n",
       "      <td>27.048500</td>\n",
       "      <td>28.095833</td>\n",
       "      <td>28.017833</td>\n",
       "      <td>27.290417</td>\n",
       "      <td>27.027250</td>\n",
       "      <td>27.608625</td>\n",
       "    </tr>\n",
       "    <tr>\n",
       "      <th>Bangalore</th>\n",
       "      <td>25.337917</td>\n",
       "      <td>25.528167</td>\n",
       "      <td>25.755333</td>\n",
       "      <td>25.924750</td>\n",
       "      <td>25.252083</td>\n",
       "      <td>25.476500</td>\n",
       "      <td>25.418250</td>\n",
       "      <td>25.464333</td>\n",
       "      <td>25.352583</td>\n",
       "      <td>25.725750</td>\n",
       "      <td>25.705250</td>\n",
       "      <td>25.362083</td>\n",
       "      <td>26.042333</td>\n",
       "      <td>26.610500</td>\n",
       "    </tr>\n",
       "    <tr>\n",
       "      <th>Bombay</th>\n",
       "      <td>27.203667</td>\n",
       "      <td>27.243667</td>\n",
       "      <td>27.628667</td>\n",
       "      <td>27.578417</td>\n",
       "      <td>27.318750</td>\n",
       "      <td>27.035750</td>\n",
       "      <td>27.381500</td>\n",
       "      <td>27.634667</td>\n",
       "      <td>27.177750</td>\n",
       "      <td>27.844500</td>\n",
       "      <td>27.765417</td>\n",
       "      <td>27.384917</td>\n",
       "      <td>27.192500</td>\n",
       "      <td>26.713000</td>\n",
       "    </tr>\n",
       "    <tr>\n",
       "      <th>Calcutta</th>\n",
       "      <td>26.491333</td>\n",
       "      <td>26.515167</td>\n",
       "      <td>26.703917</td>\n",
       "      <td>26.561333</td>\n",
       "      <td>26.634333</td>\n",
       "      <td>26.729167</td>\n",
       "      <td>26.986250</td>\n",
       "      <td>26.584583</td>\n",
       "      <td>26.522333</td>\n",
       "      <td>27.153250</td>\n",
       "      <td>27.288833</td>\n",
       "      <td>26.406917</td>\n",
       "      <td>26.935083</td>\n",
       "      <td>27.369250</td>\n",
       "    </tr>\n",
       "    <tr>\n",
       "      <th>Delhi</th>\n",
       "      <td>26.048333</td>\n",
       "      <td>25.862917</td>\n",
       "      <td>26.634333</td>\n",
       "      <td>25.721083</td>\n",
       "      <td>26.239917</td>\n",
       "      <td>25.716083</td>\n",
       "      <td>26.365917</td>\n",
       "      <td>26.145667</td>\n",
       "      <td>25.675000</td>\n",
       "      <td>26.554250</td>\n",
       "      <td>26.520250</td>\n",
       "      <td>25.629500</td>\n",
       "      <td>25.889417</td>\n",
       "      <td>26.709250</td>\n",
       "    </tr>\n",
       "    <tr>\n",
       "      <th>Hyderabad</th>\n",
       "      <td>27.231833</td>\n",
       "      <td>27.555167</td>\n",
       "      <td>27.665167</td>\n",
       "      <td>27.844583</td>\n",
       "      <td>27.228500</td>\n",
       "      <td>27.488833</td>\n",
       "      <td>27.471000</td>\n",
       "      <td>27.545333</td>\n",
       "      <td>27.446667</td>\n",
       "      <td>28.026500</td>\n",
       "      <td>27.693417</td>\n",
       "      <td>27.408833</td>\n",
       "      <td>28.018583</td>\n",
       "      <td>28.851250</td>\n",
       "    </tr>\n",
       "    <tr>\n",
       "      <th>Jaipur</th>\n",
       "      <td>26.430250</td>\n",
       "      <td>26.023000</td>\n",
       "      <td>27.031667</td>\n",
       "      <td>26.027417</td>\n",
       "      <td>26.642167</td>\n",
       "      <td>25.772250</td>\n",
       "      <td>26.429833</td>\n",
       "      <td>26.267000</td>\n",
       "      <td>25.877583</td>\n",
       "      <td>26.919500</td>\n",
       "      <td>26.818417</td>\n",
       "      <td>25.916500</td>\n",
       "      <td>25.884500</td>\n",
       "      <td>26.844125</td>\n",
       "    </tr>\n",
       "    <tr>\n",
       "      <th>Kanpur</th>\n",
       "      <td>25.353917</td>\n",
       "      <td>25.326500</td>\n",
       "      <td>26.116833</td>\n",
       "      <td>25.409083</td>\n",
       "      <td>25.586500</td>\n",
       "      <td>25.621500</td>\n",
       "      <td>25.848833</td>\n",
       "      <td>25.436083</td>\n",
       "      <td>25.109750</td>\n",
       "      <td>25.987083</td>\n",
       "      <td>26.021750</td>\n",
       "      <td>25.062083</td>\n",
       "      <td>25.445417</td>\n",
       "      <td>26.121250</td>\n",
       "    </tr>\n",
       "    <tr>\n",
       "      <th>Lakhnau</th>\n",
       "      <td>25.353917</td>\n",
       "      <td>25.326500</td>\n",
       "      <td>26.116833</td>\n",
       "      <td>25.409083</td>\n",
       "      <td>25.586500</td>\n",
       "      <td>25.621500</td>\n",
       "      <td>25.848833</td>\n",
       "      <td>25.436083</td>\n",
       "      <td>25.109750</td>\n",
       "      <td>25.987083</td>\n",
       "      <td>26.021750</td>\n",
       "      <td>25.062083</td>\n",
       "      <td>25.445417</td>\n",
       "      <td>26.121250</td>\n",
       "    </tr>\n",
       "    <tr>\n",
       "      <th>Madras</th>\n",
       "      <td>28.811667</td>\n",
       "      <td>29.162917</td>\n",
       "      <td>29.246500</td>\n",
       "      <td>29.273083</td>\n",
       "      <td>28.810917</td>\n",
       "      <td>29.099417</td>\n",
       "      <td>29.073250</td>\n",
       "      <td>28.970167</td>\n",
       "      <td>29.024083</td>\n",
       "      <td>29.417417</td>\n",
       "      <td>29.047333</td>\n",
       "      <td>29.063167</td>\n",
       "      <td>29.778417</td>\n",
       "      <td>30.411750</td>\n",
       "    </tr>\n",
       "    <tr>\n",
       "      <th>Nagpur</th>\n",
       "      <td>26.181417</td>\n",
       "      <td>26.321667</td>\n",
       "      <td>26.753000</td>\n",
       "      <td>26.503833</td>\n",
       "      <td>26.406333</td>\n",
       "      <td>26.229167</td>\n",
       "      <td>26.374833</td>\n",
       "      <td>26.393667</td>\n",
       "      <td>26.188000</td>\n",
       "      <td>27.138917</td>\n",
       "      <td>26.927000</td>\n",
       "      <td>26.004667</td>\n",
       "      <td>26.327917</td>\n",
       "      <td>27.112375</td>\n",
       "    </tr>\n",
       "    <tr>\n",
       "      <th>New Delhi</th>\n",
       "      <td>26.048333</td>\n",
       "      <td>25.862917</td>\n",
       "      <td>26.634333</td>\n",
       "      <td>25.721083</td>\n",
       "      <td>26.239917</td>\n",
       "      <td>25.716083</td>\n",
       "      <td>26.365917</td>\n",
       "      <td>26.145667</td>\n",
       "      <td>25.675000</td>\n",
       "      <td>26.554250</td>\n",
       "      <td>26.520250</td>\n",
       "      <td>25.629500</td>\n",
       "      <td>25.889417</td>\n",
       "      <td>26.709250</td>\n",
       "    </tr>\n",
       "    <tr>\n",
       "      <th>Pune</th>\n",
       "      <td>25.110917</td>\n",
       "      <td>25.337833</td>\n",
       "      <td>25.583000</td>\n",
       "      <td>25.748417</td>\n",
       "      <td>25.316167</td>\n",
       "      <td>25.085583</td>\n",
       "      <td>25.310167</td>\n",
       "      <td>25.584833</td>\n",
       "      <td>25.230250</td>\n",
       "      <td>25.868250</td>\n",
       "      <td>25.749167</td>\n",
       "      <td>25.161417</td>\n",
       "      <td>25.296833</td>\n",
       "      <td>25.847625</td>\n",
       "    </tr>\n",
       "    <tr>\n",
       "      <th>Surat</th>\n",
       "      <td>27.029000</td>\n",
       "      <td>26.897250</td>\n",
       "      <td>27.347750</td>\n",
       "      <td>27.230917</td>\n",
       "      <td>27.290583</td>\n",
       "      <td>26.724500</td>\n",
       "      <td>27.149417</td>\n",
       "      <td>27.311750</td>\n",
       "      <td>26.828750</td>\n",
       "      <td>27.819833</td>\n",
       "      <td>27.681667</td>\n",
       "      <td>27.016583</td>\n",
       "      <td>26.889250</td>\n",
       "      <td>27.437750</td>\n",
       "    </tr>\n",
       "  </tbody>\n",
       "</table>\n",
       "</div>"
      ],
      "text/plain": [
       "year                       2000       2001       2002       2003       2004  \\\n",
       "country  city                                                                 \n",
       "Egypt    Alexandria   20.744500  21.454583  21.456167  21.221417  21.064167   \n",
       "         Cairo        21.486167  22.330833  22.414083  22.170500  22.081917   \n",
       "         Gizeh        21.486167  22.330833  22.414083  22.170500  22.081917   \n",
       "Ethiopia Addis Abeba  18.241250  18.296417  18.469750  18.320917  18.292750   \n",
       "France   Paris        11.739667  11.371250  11.871333  11.909500  11.338833   \n",
       "Germany  Berlin       10.963667   9.690250  10.264417  10.065750   9.822583   \n",
       "India    Ahmadabad    27.436000  27.198083  27.719083  27.403833  27.628333   \n",
       "         Bangalore    25.337917  25.528167  25.755333  25.924750  25.252083   \n",
       "         Bombay       27.203667  27.243667  27.628667  27.578417  27.318750   \n",
       "         Calcutta     26.491333  26.515167  26.703917  26.561333  26.634333   \n",
       "         Delhi        26.048333  25.862917  26.634333  25.721083  26.239917   \n",
       "         Hyderabad    27.231833  27.555167  27.665167  27.844583  27.228500   \n",
       "         Jaipur       26.430250  26.023000  27.031667  26.027417  26.642167   \n",
       "         Kanpur       25.353917  25.326500  26.116833  25.409083  25.586500   \n",
       "         Lakhnau      25.353917  25.326500  26.116833  25.409083  25.586500   \n",
       "         Madras       28.811667  29.162917  29.246500  29.273083  28.810917   \n",
       "         Nagpur       26.181417  26.321667  26.753000  26.503833  26.406333   \n",
       "         New Delhi    26.048333  25.862917  26.634333  25.721083  26.239917   \n",
       "         Pune         25.110917  25.337833  25.583000  25.748417  25.316167   \n",
       "         Surat        27.029000  26.897250  27.347750  27.230917  27.290583   \n",
       "\n",
       "year                       2005       2006       2007       2008       2009  \\\n",
       "country  city                                                                 \n",
       "Egypt    Alexandria   21.082333  21.148167  21.507750  21.739000  21.670500   \n",
       "         Cairo        22.006500  22.050000  22.361000  22.644500  22.625000   \n",
       "         Gizeh        22.006500  22.050000  22.361000  22.644500  22.625000   \n",
       "Ethiopia Addis Abeba  18.312833  18.427083  18.142583  18.165000  18.765333   \n",
       "France   Paris        11.552917  11.788500  11.750833  11.278250  11.464083   \n",
       "Germany  Berlin        9.919083  10.545333  10.883167  10.657750  10.062500   \n",
       "India    Ahmadabad    26.828083  27.282833  27.511167  27.048500  28.095833   \n",
       "         Bangalore    25.476500  25.418250  25.464333  25.352583  25.725750   \n",
       "         Bombay       27.035750  27.381500  27.634667  27.177750  27.844500   \n",
       "         Calcutta     26.729167  26.986250  26.584583  26.522333  27.153250   \n",
       "         Delhi        25.716083  26.365917  26.145667  25.675000  26.554250   \n",
       "         Hyderabad    27.488833  27.471000  27.545333  27.446667  28.026500   \n",
       "         Jaipur       25.772250  26.429833  26.267000  25.877583  26.919500   \n",
       "         Kanpur       25.621500  25.848833  25.436083  25.109750  25.987083   \n",
       "         Lakhnau      25.621500  25.848833  25.436083  25.109750  25.987083   \n",
       "         Madras       29.099417  29.073250  28.970167  29.024083  29.417417   \n",
       "         Nagpur       26.229167  26.374833  26.393667  26.188000  27.138917   \n",
       "         New Delhi    25.716083  26.365917  26.145667  25.675000  26.554250   \n",
       "         Pune         25.085583  25.310167  25.584833  25.230250  25.868250   \n",
       "         Surat        26.724500  27.149417  27.311750  26.828750  27.819833   \n",
       "\n",
       "year                       2010       2011       2012       2013  \n",
       "country  city                                                     \n",
       "Egypt    Alexandria   22.459583  21.181500  21.552583  21.438500  \n",
       "         Cairo        23.718250  21.986917  22.484250  22.907000  \n",
       "         Gizeh        23.718250  21.986917  22.484250  22.907000  \n",
       "Ethiopia Addis Abeba  18.298250  18.606750  18.448583  19.539000  \n",
       "France   Paris        10.409833  12.325750  11.219917  11.011625  \n",
       "Germany  Berlin        8.606833  10.556417   9.964333  10.121500  \n",
       "India    Ahmadabad    28.017833  27.290417  27.027250  27.608625  \n",
       "         Bangalore    25.705250  25.362083  26.042333  26.610500  \n",
       "         Bombay       27.765417  27.384917  27.192500  26.713000  \n",
       "         Calcutta     27.288833  26.406917  26.935083  27.369250  \n",
       "         Delhi        26.520250  25.629500  25.889417  26.709250  \n",
       "         Hyderabad    27.693417  27.408833  28.018583  28.851250  \n",
       "         Jaipur       26.818417  25.916500  25.884500  26.844125  \n",
       "         Kanpur       26.021750  25.062083  25.445417  26.121250  \n",
       "         Lakhnau      26.021750  25.062083  25.445417  26.121250  \n",
       "         Madras       29.047333  29.063167  29.778417  30.411750  \n",
       "         Nagpur       26.927000  26.004667  26.327917  27.112375  \n",
       "         New Delhi    26.520250  25.629500  25.889417  26.709250  \n",
       "         Pune         25.749167  25.161417  25.296833  25.847625  \n",
       "         Surat        27.681667  27.016583  26.889250  27.437750  "
      ]
     },
     "execution_count": 38,
     "metadata": {},
     "output_type": "execute_result"
    }
   ],
   "source": [
    "# Subset for Egypt to India\n",
    "temp_by_country_city_vs_year.loc[\"Egypt\":\"India\"]"
   ]
  },
  {
   "cell_type": "code",
   "execution_count": 39,
   "id": "5569de55-e57b-43b5-bc40-f0872c16e8ea",
   "metadata": {},
   "outputs": [
    {
     "data": {
      "text/html": [
       "<div>\n",
       "<style scoped>\n",
       "    .dataframe tbody tr th:only-of-type {\n",
       "        vertical-align: middle;\n",
       "    }\n",
       "\n",
       "    .dataframe tbody tr th {\n",
       "        vertical-align: top;\n",
       "    }\n",
       "\n",
       "    .dataframe thead th {\n",
       "        text-align: right;\n",
       "    }\n",
       "</style>\n",
       "<table border=\"1\" class=\"dataframe\">\n",
       "  <thead>\n",
       "    <tr style=\"text-align: right;\">\n",
       "      <th></th>\n",
       "      <th>year</th>\n",
       "      <th>2000</th>\n",
       "      <th>2001</th>\n",
       "      <th>2002</th>\n",
       "      <th>2003</th>\n",
       "      <th>2004</th>\n",
       "      <th>2005</th>\n",
       "      <th>2006</th>\n",
       "      <th>2007</th>\n",
       "      <th>2008</th>\n",
       "      <th>2009</th>\n",
       "      <th>2010</th>\n",
       "      <th>2011</th>\n",
       "      <th>2012</th>\n",
       "      <th>2013</th>\n",
       "    </tr>\n",
       "    <tr>\n",
       "      <th>country</th>\n",
       "      <th>city</th>\n",
       "      <th></th>\n",
       "      <th></th>\n",
       "      <th></th>\n",
       "      <th></th>\n",
       "      <th></th>\n",
       "      <th></th>\n",
       "      <th></th>\n",
       "      <th></th>\n",
       "      <th></th>\n",
       "      <th></th>\n",
       "      <th></th>\n",
       "      <th></th>\n",
       "      <th></th>\n",
       "      <th></th>\n",
       "    </tr>\n",
       "  </thead>\n",
       "  <tbody>\n",
       "    <tr>\n",
       "      <th rowspan=\"2\" valign=\"top\">Egypt</th>\n",
       "      <th>Cairo</th>\n",
       "      <td>21.486167</td>\n",
       "      <td>22.330833</td>\n",
       "      <td>22.414083</td>\n",
       "      <td>22.170500</td>\n",
       "      <td>22.081917</td>\n",
       "      <td>22.006500</td>\n",
       "      <td>22.050000</td>\n",
       "      <td>22.361000</td>\n",
       "      <td>22.644500</td>\n",
       "      <td>22.625000</td>\n",
       "      <td>23.718250</td>\n",
       "      <td>21.986917</td>\n",
       "      <td>22.484250</td>\n",
       "      <td>22.907000</td>\n",
       "    </tr>\n",
       "    <tr>\n",
       "      <th>Gizeh</th>\n",
       "      <td>21.486167</td>\n",
       "      <td>22.330833</td>\n",
       "      <td>22.414083</td>\n",
       "      <td>22.170500</td>\n",
       "      <td>22.081917</td>\n",
       "      <td>22.006500</td>\n",
       "      <td>22.050000</td>\n",
       "      <td>22.361000</td>\n",
       "      <td>22.644500</td>\n",
       "      <td>22.625000</td>\n",
       "      <td>23.718250</td>\n",
       "      <td>21.986917</td>\n",
       "      <td>22.484250</td>\n",
       "      <td>22.907000</td>\n",
       "    </tr>\n",
       "    <tr>\n",
       "      <th>Ethiopia</th>\n",
       "      <th>Addis Abeba</th>\n",
       "      <td>18.241250</td>\n",
       "      <td>18.296417</td>\n",
       "      <td>18.469750</td>\n",
       "      <td>18.320917</td>\n",
       "      <td>18.292750</td>\n",
       "      <td>18.312833</td>\n",
       "      <td>18.427083</td>\n",
       "      <td>18.142583</td>\n",
       "      <td>18.165000</td>\n",
       "      <td>18.765333</td>\n",
       "      <td>18.298250</td>\n",
       "      <td>18.606750</td>\n",
       "      <td>18.448583</td>\n",
       "      <td>19.539000</td>\n",
       "    </tr>\n",
       "    <tr>\n",
       "      <th>France</th>\n",
       "      <th>Paris</th>\n",
       "      <td>11.739667</td>\n",
       "      <td>11.371250</td>\n",
       "      <td>11.871333</td>\n",
       "      <td>11.909500</td>\n",
       "      <td>11.338833</td>\n",
       "      <td>11.552917</td>\n",
       "      <td>11.788500</td>\n",
       "      <td>11.750833</td>\n",
       "      <td>11.278250</td>\n",
       "      <td>11.464083</td>\n",
       "      <td>10.409833</td>\n",
       "      <td>12.325750</td>\n",
       "      <td>11.219917</td>\n",
       "      <td>11.011625</td>\n",
       "    </tr>\n",
       "    <tr>\n",
       "      <th>Germany</th>\n",
       "      <th>Berlin</th>\n",
       "      <td>10.963667</td>\n",
       "      <td>9.690250</td>\n",
       "      <td>10.264417</td>\n",
       "      <td>10.065750</td>\n",
       "      <td>9.822583</td>\n",
       "      <td>9.919083</td>\n",
       "      <td>10.545333</td>\n",
       "      <td>10.883167</td>\n",
       "      <td>10.657750</td>\n",
       "      <td>10.062500</td>\n",
       "      <td>8.606833</td>\n",
       "      <td>10.556417</td>\n",
       "      <td>9.964333</td>\n",
       "      <td>10.121500</td>\n",
       "    </tr>\n",
       "    <tr>\n",
       "      <th rowspan=\"5\" valign=\"top\">India</th>\n",
       "      <th>Ahmadabad</th>\n",
       "      <td>27.436000</td>\n",
       "      <td>27.198083</td>\n",
       "      <td>27.719083</td>\n",
       "      <td>27.403833</td>\n",
       "      <td>27.628333</td>\n",
       "      <td>26.828083</td>\n",
       "      <td>27.282833</td>\n",
       "      <td>27.511167</td>\n",
       "      <td>27.048500</td>\n",
       "      <td>28.095833</td>\n",
       "      <td>28.017833</td>\n",
       "      <td>27.290417</td>\n",
       "      <td>27.027250</td>\n",
       "      <td>27.608625</td>\n",
       "    </tr>\n",
       "    <tr>\n",
       "      <th>Bangalore</th>\n",
       "      <td>25.337917</td>\n",
       "      <td>25.528167</td>\n",
       "      <td>25.755333</td>\n",
       "      <td>25.924750</td>\n",
       "      <td>25.252083</td>\n",
       "      <td>25.476500</td>\n",
       "      <td>25.418250</td>\n",
       "      <td>25.464333</td>\n",
       "      <td>25.352583</td>\n",
       "      <td>25.725750</td>\n",
       "      <td>25.705250</td>\n",
       "      <td>25.362083</td>\n",
       "      <td>26.042333</td>\n",
       "      <td>26.610500</td>\n",
       "    </tr>\n",
       "    <tr>\n",
       "      <th>Bombay</th>\n",
       "      <td>27.203667</td>\n",
       "      <td>27.243667</td>\n",
       "      <td>27.628667</td>\n",
       "      <td>27.578417</td>\n",
       "      <td>27.318750</td>\n",
       "      <td>27.035750</td>\n",
       "      <td>27.381500</td>\n",
       "      <td>27.634667</td>\n",
       "      <td>27.177750</td>\n",
       "      <td>27.844500</td>\n",
       "      <td>27.765417</td>\n",
       "      <td>27.384917</td>\n",
       "      <td>27.192500</td>\n",
       "      <td>26.713000</td>\n",
       "    </tr>\n",
       "    <tr>\n",
       "      <th>Calcutta</th>\n",
       "      <td>26.491333</td>\n",
       "      <td>26.515167</td>\n",
       "      <td>26.703917</td>\n",
       "      <td>26.561333</td>\n",
       "      <td>26.634333</td>\n",
       "      <td>26.729167</td>\n",
       "      <td>26.986250</td>\n",
       "      <td>26.584583</td>\n",
       "      <td>26.522333</td>\n",
       "      <td>27.153250</td>\n",
       "      <td>27.288833</td>\n",
       "      <td>26.406917</td>\n",
       "      <td>26.935083</td>\n",
       "      <td>27.369250</td>\n",
       "    </tr>\n",
       "    <tr>\n",
       "      <th>Delhi</th>\n",
       "      <td>26.048333</td>\n",
       "      <td>25.862917</td>\n",
       "      <td>26.634333</td>\n",
       "      <td>25.721083</td>\n",
       "      <td>26.239917</td>\n",
       "      <td>25.716083</td>\n",
       "      <td>26.365917</td>\n",
       "      <td>26.145667</td>\n",
       "      <td>25.675000</td>\n",
       "      <td>26.554250</td>\n",
       "      <td>26.520250</td>\n",
       "      <td>25.629500</td>\n",
       "      <td>25.889417</td>\n",
       "      <td>26.709250</td>\n",
       "    </tr>\n",
       "  </tbody>\n",
       "</table>\n",
       "</div>"
      ],
      "text/plain": [
       "year                       2000       2001       2002       2003       2004  \\\n",
       "country  city                                                                 \n",
       "Egypt    Cairo        21.486167  22.330833  22.414083  22.170500  22.081917   \n",
       "         Gizeh        21.486167  22.330833  22.414083  22.170500  22.081917   \n",
       "Ethiopia Addis Abeba  18.241250  18.296417  18.469750  18.320917  18.292750   \n",
       "France   Paris        11.739667  11.371250  11.871333  11.909500  11.338833   \n",
       "Germany  Berlin       10.963667   9.690250  10.264417  10.065750   9.822583   \n",
       "India    Ahmadabad    27.436000  27.198083  27.719083  27.403833  27.628333   \n",
       "         Bangalore    25.337917  25.528167  25.755333  25.924750  25.252083   \n",
       "         Bombay       27.203667  27.243667  27.628667  27.578417  27.318750   \n",
       "         Calcutta     26.491333  26.515167  26.703917  26.561333  26.634333   \n",
       "         Delhi        26.048333  25.862917  26.634333  25.721083  26.239917   \n",
       "\n",
       "year                       2005       2006       2007       2008       2009  \\\n",
       "country  city                                                                 \n",
       "Egypt    Cairo        22.006500  22.050000  22.361000  22.644500  22.625000   \n",
       "         Gizeh        22.006500  22.050000  22.361000  22.644500  22.625000   \n",
       "Ethiopia Addis Abeba  18.312833  18.427083  18.142583  18.165000  18.765333   \n",
       "France   Paris        11.552917  11.788500  11.750833  11.278250  11.464083   \n",
       "Germany  Berlin        9.919083  10.545333  10.883167  10.657750  10.062500   \n",
       "India    Ahmadabad    26.828083  27.282833  27.511167  27.048500  28.095833   \n",
       "         Bangalore    25.476500  25.418250  25.464333  25.352583  25.725750   \n",
       "         Bombay       27.035750  27.381500  27.634667  27.177750  27.844500   \n",
       "         Calcutta     26.729167  26.986250  26.584583  26.522333  27.153250   \n",
       "         Delhi        25.716083  26.365917  26.145667  25.675000  26.554250   \n",
       "\n",
       "year                       2010       2011       2012       2013  \n",
       "country  city                                                     \n",
       "Egypt    Cairo        23.718250  21.986917  22.484250  22.907000  \n",
       "         Gizeh        23.718250  21.986917  22.484250  22.907000  \n",
       "Ethiopia Addis Abeba  18.298250  18.606750  18.448583  19.539000  \n",
       "France   Paris        10.409833  12.325750  11.219917  11.011625  \n",
       "Germany  Berlin        8.606833  10.556417   9.964333  10.121500  \n",
       "India    Ahmadabad    28.017833  27.290417  27.027250  27.608625  \n",
       "         Bangalore    25.705250  25.362083  26.042333  26.610500  \n",
       "         Bombay       27.765417  27.384917  27.192500  26.713000  \n",
       "         Calcutta     27.288833  26.406917  26.935083  27.369250  \n",
       "         Delhi        26.520250  25.629500  25.889417  26.709250  "
      ]
     },
     "execution_count": 39,
     "metadata": {},
     "output_type": "execute_result"
    }
   ],
   "source": [
    "# Subset for Egypt, Cairo to India, Delhi\n",
    "temp_by_country_city_vs_year.loc[(\"Egypt\",\"Cairo\"):(\"India\",\"Delhi\")]"
   ]
  },
  {
   "cell_type": "code",
   "execution_count": 40,
   "id": "c74d55b6-6632-45b9-b699-65e1f4b6ee76",
   "metadata": {},
   "outputs": [
    {
     "data": {
      "text/html": [
       "<div>\n",
       "<style scoped>\n",
       "    .dataframe tbody tr th:only-of-type {\n",
       "        vertical-align: middle;\n",
       "    }\n",
       "\n",
       "    .dataframe tbody tr th {\n",
       "        vertical-align: top;\n",
       "    }\n",
       "\n",
       "    .dataframe thead th {\n",
       "        text-align: right;\n",
       "    }\n",
       "</style>\n",
       "<table border=\"1\" class=\"dataframe\">\n",
       "  <thead>\n",
       "    <tr style=\"text-align: right;\">\n",
       "      <th></th>\n",
       "      <th>year</th>\n",
       "      <th>2005</th>\n",
       "      <th>2006</th>\n",
       "      <th>2007</th>\n",
       "      <th>2008</th>\n",
       "      <th>2009</th>\n",
       "      <th>2010</th>\n",
       "    </tr>\n",
       "    <tr>\n",
       "      <th>country</th>\n",
       "      <th>city</th>\n",
       "      <th></th>\n",
       "      <th></th>\n",
       "      <th></th>\n",
       "      <th></th>\n",
       "      <th></th>\n",
       "      <th></th>\n",
       "    </tr>\n",
       "  </thead>\n",
       "  <tbody>\n",
       "    <tr>\n",
       "      <th rowspan=\"2\" valign=\"top\">Egypt</th>\n",
       "      <th>Cairo</th>\n",
       "      <td>22.006500</td>\n",
       "      <td>22.050000</td>\n",
       "      <td>22.361000</td>\n",
       "      <td>22.644500</td>\n",
       "      <td>22.625000</td>\n",
       "      <td>23.718250</td>\n",
       "    </tr>\n",
       "    <tr>\n",
       "      <th>Gizeh</th>\n",
       "      <td>22.006500</td>\n",
       "      <td>22.050000</td>\n",
       "      <td>22.361000</td>\n",
       "      <td>22.644500</td>\n",
       "      <td>22.625000</td>\n",
       "      <td>23.718250</td>\n",
       "    </tr>\n",
       "    <tr>\n",
       "      <th>Ethiopia</th>\n",
       "      <th>Addis Abeba</th>\n",
       "      <td>18.312833</td>\n",
       "      <td>18.427083</td>\n",
       "      <td>18.142583</td>\n",
       "      <td>18.165000</td>\n",
       "      <td>18.765333</td>\n",
       "      <td>18.298250</td>\n",
       "    </tr>\n",
       "    <tr>\n",
       "      <th>France</th>\n",
       "      <th>Paris</th>\n",
       "      <td>11.552917</td>\n",
       "      <td>11.788500</td>\n",
       "      <td>11.750833</td>\n",
       "      <td>11.278250</td>\n",
       "      <td>11.464083</td>\n",
       "      <td>10.409833</td>\n",
       "    </tr>\n",
       "    <tr>\n",
       "      <th>Germany</th>\n",
       "      <th>Berlin</th>\n",
       "      <td>9.919083</td>\n",
       "      <td>10.545333</td>\n",
       "      <td>10.883167</td>\n",
       "      <td>10.657750</td>\n",
       "      <td>10.062500</td>\n",
       "      <td>8.606833</td>\n",
       "    </tr>\n",
       "    <tr>\n",
       "      <th rowspan=\"5\" valign=\"top\">India</th>\n",
       "      <th>Ahmadabad</th>\n",
       "      <td>26.828083</td>\n",
       "      <td>27.282833</td>\n",
       "      <td>27.511167</td>\n",
       "      <td>27.048500</td>\n",
       "      <td>28.095833</td>\n",
       "      <td>28.017833</td>\n",
       "    </tr>\n",
       "    <tr>\n",
       "      <th>Bangalore</th>\n",
       "      <td>25.476500</td>\n",
       "      <td>25.418250</td>\n",
       "      <td>25.464333</td>\n",
       "      <td>25.352583</td>\n",
       "      <td>25.725750</td>\n",
       "      <td>25.705250</td>\n",
       "    </tr>\n",
       "    <tr>\n",
       "      <th>Bombay</th>\n",
       "      <td>27.035750</td>\n",
       "      <td>27.381500</td>\n",
       "      <td>27.634667</td>\n",
       "      <td>27.177750</td>\n",
       "      <td>27.844500</td>\n",
       "      <td>27.765417</td>\n",
       "    </tr>\n",
       "    <tr>\n",
       "      <th>Calcutta</th>\n",
       "      <td>26.729167</td>\n",
       "      <td>26.986250</td>\n",
       "      <td>26.584583</td>\n",
       "      <td>26.522333</td>\n",
       "      <td>27.153250</td>\n",
       "      <td>27.288833</td>\n",
       "    </tr>\n",
       "    <tr>\n",
       "      <th>Delhi</th>\n",
       "      <td>25.716083</td>\n",
       "      <td>26.365917</td>\n",
       "      <td>26.145667</td>\n",
       "      <td>25.675000</td>\n",
       "      <td>26.554250</td>\n",
       "      <td>26.520250</td>\n",
       "    </tr>\n",
       "  </tbody>\n",
       "</table>\n",
       "</div>"
      ],
      "text/plain": [
       "year                       2005       2006       2007       2008       2009  \\\n",
       "country  city                                                                 \n",
       "Egypt    Cairo        22.006500  22.050000  22.361000  22.644500  22.625000   \n",
       "         Gizeh        22.006500  22.050000  22.361000  22.644500  22.625000   \n",
       "Ethiopia Addis Abeba  18.312833  18.427083  18.142583  18.165000  18.765333   \n",
       "France   Paris        11.552917  11.788500  11.750833  11.278250  11.464083   \n",
       "Germany  Berlin        9.919083  10.545333  10.883167  10.657750  10.062500   \n",
       "India    Ahmadabad    26.828083  27.282833  27.511167  27.048500  28.095833   \n",
       "         Bangalore    25.476500  25.418250  25.464333  25.352583  25.725750   \n",
       "         Bombay       27.035750  27.381500  27.634667  27.177750  27.844500   \n",
       "         Calcutta     26.729167  26.986250  26.584583  26.522333  27.153250   \n",
       "         Delhi        25.716083  26.365917  26.145667  25.675000  26.554250   \n",
       "\n",
       "year                       2010  \n",
       "country  city                    \n",
       "Egypt    Cairo        23.718250  \n",
       "         Gizeh        23.718250  \n",
       "Ethiopia Addis Abeba  18.298250  \n",
       "France   Paris        10.409833  \n",
       "Germany  Berlin        8.606833  \n",
       "India    Ahmadabad    28.017833  \n",
       "         Bangalore    25.705250  \n",
       "         Bombay       27.765417  \n",
       "         Calcutta     27.288833  \n",
       "         Delhi        26.520250  "
      ]
     },
     "execution_count": 40,
     "metadata": {},
     "output_type": "execute_result"
    }
   ],
   "source": [
    "# Subset in both directions at once\n",
    "temp_by_country_city_vs_year.loc[(\"Egypt\",\"Cairo\"):(\"India\",\"Delhi\"),\"2005\":\"2010\"]"
   ]
  },
  {
   "cell_type": "markdown",
   "id": "4bfe27c7-dfc3-4ee5-be27-863a8d35c83e",
   "metadata": {},
   "source": [
    "### Calculating on Pivot Tables"
   ]
  },
  {
   "cell_type": "markdown",
   "id": "75ce555d-a8d0-4a00-a387-3a0d16d5189c",
   "metadata": {},
   "source": [
    "You can **subset** a `Series` or `DataFrame` to find rows of interest using a **logical condition** inside of square brackets.\n",
    "\n",
    "- For example: `series[series > value]`."
   ]
  },
  {
   "cell_type": "code",
   "execution_count": 41,
   "id": "f9105142-a68e-4416-9222-70f8e2739840",
   "metadata": {},
   "outputs": [
    {
     "name": "stdout",
     "output_type": "stream",
     "text": [
      "year\n",
      "2013    20.312285\n",
      "dtype: float64\n"
     ]
    }
   ],
   "source": [
    "# Get the worldwide mean temp by year\n",
    "mean_temp_by_year = temp_by_country_city_vs_year.mean(axis=\"index\")\n",
    "\n",
    "# Filter for the year that had the highest mean temp\n",
    "print(mean_temp_by_year[mean_temp_by_year == max(mean_temp_by_year)])"
   ]
  },
  {
   "cell_type": "code",
   "execution_count": 42,
   "id": "4ae2e538-9f7a-4398-bb62-69fb65c6b092",
   "metadata": {},
   "outputs": [
    {
     "name": "stdout",
     "output_type": "stream",
     "text": [
      "country  city  \n",
      "China    Harbin    4.876551\n",
      "dtype: float64\n"
     ]
    }
   ],
   "source": [
    "# Get the mean temp by city\n",
    "mean_temp_by_city = temp_by_country_city_vs_year.mean(axis=\"columns\")\n",
    "\n",
    "# Filter for the city that had the lowest mean temp\n",
    "print(mean_temp_by_city[mean_temp_by_city == min(mean_temp_by_city)])"
   ]
  },
  {
   "cell_type": "markdown",
   "id": "1895692d-fcac-441c-bb04-bc34a24b704e",
   "metadata": {},
   "source": [
    "## Creating and Visualizing DataFrames"
   ]
  },
  {
   "cell_type": "markdown",
   "id": "135f4282-1324-4cf6-8bfc-7bc0f3bd0210",
   "metadata": {},
   "source": [
    "### Visualizing Data"
   ]
  },
  {
   "cell_type": "markdown",
   "id": "85876c2a-8603-432f-9ee0-1fd91af0f9c0",
   "metadata": {},
   "source": [
    "#### Dataset Description"
   ]
  },
  {
   "cell_type": "markdown",
   "id": "84cc68da-3981-4682-8ee0-46e7c80d035d",
   "metadata": {},
   "source": [
    "- The **Hass Avocado Board** keeps track of avocado **supply and demand** across the **USA**, including the sales of three different sizes of avocado."
   ]
  },
  {
   "cell_type": "code",
   "execution_count": 1,
   "id": "d67342ae-4164-4bae-aa5a-89ecc0b4a2dd",
   "metadata": {},
   "outputs": [],
   "source": [
    "# Import required packages\n",
    "import pickle\n",
    "\n",
    "# Store the dataset file path\n",
    "avoplotto_file_path = '/Users/luismoreno/Documents/Python/python-datacamp/pandas/datasets/avoplotto.pkl'\n",
    "\n",
    "# Read the pickle file in binary mode\n",
    "avoplotto = open(avoplotto_file_path, \"rb\")\n",
    "\n",
    "# Assign the content of the \"pkl\" file to a variable\n",
    "avocados = pickle.load(avoplotto)\n",
    "\n",
    "# Close the file\n",
    "avoplotto.close()"
   ]
  },
  {
   "cell_type": "markdown",
   "id": "1143d986-1def-49f7-b942-7dc3f290374b",
   "metadata": {},
   "source": [
    "- **Bar plots** are great for revealing **relationships between categorical** (size) **and numeric** (number sold) **variables**, but you'll often have to manipulate your data first in order to get the numbers you need for plotting."
   ]
  },
  {
   "cell_type": "code",
   "execution_count": 3,
   "id": "32d3a2fa-3cc6-4cc9-808d-f05e8220ad8d",
   "metadata": {},
   "outputs": [],
   "source": [
    "# Import matplotlib.pyplot with alias plt\n",
    "import matplotlib.pyplot as plt"
   ]
  },
  {
   "cell_type": "code",
   "execution_count": 4,
   "id": "04e61b05-01d9-429f-8867-44e72b0098d6",
   "metadata": {},
   "outputs": [
    {
     "name": "stdout",
     "output_type": "stream",
     "text": [
      "         date          type  year  avg_price   size     nb_sold\n",
      "0  2015-12-27  conventional  2015       0.95  small  9626901.09\n",
      "1  2015-12-20  conventional  2015       0.98  small  8710021.76\n",
      "2  2015-12-13  conventional  2015       0.93  small  9855053.66\n",
      "3  2015-12-06  conventional  2015       0.89  small  9405464.36\n",
      "4  2015-11-29  conventional  2015       0.99  small  8094803.56\n"
     ]
    }
   ],
   "source": [
    "# Look at the first few rows of data\n",
    "print(avocados.head())"
   ]
  },
  {
   "cell_type": "markdown",
   "id": "95869aa8-e286-4514-9d4c-8656acd98cc0",
   "metadata": {},
   "source": [
    "#### Bar Plots"
   ]
  },
  {
   "cell_type": "code",
   "execution_count": 5,
   "id": "c0f92729-e25e-4cbb-9431-24a1fdf7cd48",
   "metadata": {},
   "outputs": [
    {
     "data": {
      "image/png": "[encoded data removed]",
      "text/plain": [
       "<Figure size 432x288 with 1 Axes>"
      ]
     },
     "metadata": {
      "needs_background": "light"
     },
     "output_type": "display_data"
    }
   ],
   "source": [
    "# Get the total number of avocados sold of each size\n",
    "nb_sold_by_size = avocados.groupby(\"size\").sum()[\"nb_sold\"]\n",
    "\n",
    "# Create a bar plot of the number of avocados sold by size\n",
    "nb_sold_by_size.plot(kind=\"bar\")\n",
    "\n",
    "# Show the plot\n",
    "plt.show()"
   ]
  },
  {
   "cell_type": "markdown",
   "id": "0c6056e9-314c-4bc3-8063-19c0c1ed936c",
   "metadata": {},
   "source": [
    "#### Line Plots"
   ]
  },
  {
   "cell_type": "markdown",
   "id": "299ff3cf-785f-453b-93f8-0961f51431a2",
   "metadata": {},
   "source": [
    "- **Line plots** are designed to **visualize** the **relationship** between **two numeric variables**, where each data values is connected to the next one.\n",
    "\n",
    "- They are especially **useful for visualizing the change** in a number **over time** since each time point is naturally connected to the next time point."
   ]
  },
  {
   "cell_type": "code",
   "execution_count": 6,
   "id": "33ad0668-b9d8-4f0a-b5b5-c312c46cfbbf",
   "metadata": {},
   "outputs": [
    {
     "data": {
      "image/png": "[encoded data removed]",
      "text/plain": [
       "<Figure size 432x288 with 1 Axes>"
      ]
     },
     "metadata": {
      "needs_background": "light"
     },
     "output_type": "display_data"
    }
   ],
   "source": [
    "# Get the total number of avocados sold on each date\n",
    "nb_sold_by_date = avocados.groupby(\"date\").sum()[\"nb_sold\"]\n",
    "\n",
    "# Create a line plot of the number of avocados sold by date\n",
    "nb_sold_by_date.plot(kind=\"line\")\n",
    "\n",
    "# Show the plot\n",
    "plt.show()"
   ]
  },
  {
   "cell_type": "markdown",
   "id": "24a52dd5-2b3b-4573-a1dc-f187fe28421b",
   "metadata": {},
   "source": [
    "#### Scatter Plots"
   ]
  },
  {
   "cell_type": "markdown",
   "id": "11f618a0-0f7f-48d7-9c6c-20c80eee25ef",
   "metadata": {},
   "source": [
    "- **Scatter plots** are ideal for **visualizing relationships** between **numerical variables**. "
   ]
  },
  {
   "cell_type": "code",
   "execution_count": 7,
   "id": "44e3a232-cd17-416f-b981-566281cebb6e",
   "metadata": {},
   "outputs": [
    {
     "data": {
      "image/png": "[encoded data removed]",
      "text/plain": [
       "<Figure size 432x288 with 1 Axes>"
      ]
     },
     "metadata": {
      "needs_background": "light"
     },
     "output_type": "display_data"
    }
   ],
   "source": [
    "# Scatter plot of nb_sold vs avg_price with title\n",
    "avocados.plot(x=\"nb_sold\", y=\"avg_price\", kind=\"scatter\", title=\"Number of avocados sold vs. average price\")\n",
    "\n",
    "# Show the plot\n",
    "plt.show()"
   ]
  },
  {
   "cell_type": "markdown",
   "id": "e1f1e39a-664d-43e1-9b62-831e75931843",
   "metadata": {},
   "source": [
    "#### Histograms"
   ]
  },
  {
   "cell_type": "code",
   "execution_count": 4,
   "id": "3aec21ca-295f-42fb-b88f-1cbbdaf34343",
   "metadata": {},
   "outputs": [
    {
     "data": {
      "image/png": "[encoded data removed]",
      "text/plain": [
       "<Figure size 432x288 with 1 Axes>"
      ]
     },
     "metadata": {
      "needs_background": "light"
     },
     "output_type": "display_data"
    }
   ],
   "source": [
    "# Histogram of conventional avg_price \n",
    "avocados[avocados[\"type\"] == \"conventional\"][\"avg_price\"].hist(alpha=0.5, bins=20)\n",
    "\n",
    "# Histogram of organic avg_price\n",
    "avocados[avocados[\"type\"] == \"organic\"][\"avg_price\"].hist(alpha=0.5, bins=20)\n",
    "\n",
    "# Add a legend\n",
    "plt.legend([\"conventional\",\"organic\"])\n",
    "\n",
    "# Show the plot\n",
    "plt.show()"
   ]
  },
  {
   "cell_type": "markdown",
   "id": "da012b2d-4fa0-4754-a858-b01ec734d427",
   "metadata": {},
   "source": [
    "### Handling Missing Values"
   ]
  },
  {
   "cell_type": "code",
   "execution_count": 10,
   "id": "907e05e0-93f9-4333-b622-af0756c200ff",
   "metadata": {},
   "outputs": [
    {
     "name": "stdout",
     "output_type": "stream",
     "text": [
      "     date   type   year  avg_price   size  nb_sold\n",
      "52  False  False  False      False  False    False\n",
      "53  False  False  False      False  False    False\n",
      "54  False  False  False      False  False    False\n",
      "55  False  False  False      False  False    False\n",
      "56  False  False  False      False  False    False\n"
     ]
    }
   ],
   "source": [
    "avocados_2016 = avocados[avocados[\"year\"] == 2016]\n",
    "\n",
    "# Check individual values for missing values\n",
    "print(avocados_2016.isna().head(5))"
   ]
  },
  {
   "cell_type": "code",
   "execution_count": 11,
   "id": "55ccba2f-fc35-48ad-b0d0-ed4f561dd5ee",
   "metadata": {},
   "outputs": [
    {
     "name": "stdout",
     "output_type": "stream",
     "text": [
      "date         False\n",
      "type         False\n",
      "year         False\n",
      "avg_price    False\n",
      "size         False\n",
      "nb_sold      False\n",
      "dtype: bool\n"
     ]
    }
   ],
   "source": [
    "# Check each column for missing values\n",
    "print(avocados_2016.isna().any())"
   ]
  },
  {
   "cell_type": "code",
   "execution_count": 12,
   "id": "f0c8b726-7c39-48e1-805f-809c4b8b8f4b",
   "metadata": {},
   "outputs": [
    {
     "data": {
      "image/png": "[encoded data removed]",
      "text/plain": [
       "<Figure size 432x288 with 1 Axes>"
      ]
     },
     "metadata": {
      "needs_background": "light"
     },
     "output_type": "display_data"
    }
   ],
   "source": [
    "# Bar plot of missing values by variable\n",
    "avocados_2016.isna().sum().plot(kind=\"bar\")\n",
    "\n",
    "# Show plot\n",
    "plt.show()"
   ]
  },
  {
   "cell_type": "code",
   "execution_count": 13,
   "id": "6a731af0-6d70-4571-8fc4-802cb2f2de75",
   "metadata": {},
   "outputs": [
    {
     "name": "stdout",
     "output_type": "stream",
     "text": [
      "date         False\n",
      "type         False\n",
      "year         False\n",
      "avg_price    False\n",
      "size         False\n",
      "nb_sold      False\n",
      "dtype: bool\n"
     ]
    }
   ],
   "source": [
    "# Remove rows with missing values\n",
    "avocados_complete = avocados_2016.dropna()\n",
    "\n",
    "# Check if any columns contain missing values\n",
    "print(avocados_complete.isna().any())"
   ]
  },
  {
   "cell_type": "markdown",
   "id": "de9a0a87-4dfd-43b8-b890-62689577c6ae",
   "metadata": {},
   "source": [
    "#### Replacing Missing Values"
   ]
  },
  {
   "cell_type": "markdown",
   "id": "9596bd23-0260-4dd7-9997-a273528f868f",
   "metadata": {},
   "source": [
    "- Use [**`.fillna()`**](https://pandas.pydata.org/pandas-docs/stable/reference/api/pandas.DataFrame.fillna.html) to replace the missing values of a `DataFrame`."
   ]
  },
  {
   "cell_type": "markdown",
   "id": "f5b569c9-246a-4061-8102-6bdcf586330a",
   "metadata": {},
   "source": [
    "### Creating DataFrames"
   ]
  },
  {
   "cell_type": "markdown",
   "id": "af7f703d-410c-453a-9ca9-860cc957c8df",
   "metadata": {},
   "source": [
    "#### List of Dictionaries"
   ]
  },
  {
   "cell_type": "markdown",
   "id": "91d36ba2-764d-4bbd-b98d-62d6bace3e3b",
   "metadata": {},
   "source": [
    "- If you create a `DataFrame` using the **list of dictionaries method** you will go through the data **row by row**"
   ]
  },
  {
   "cell_type": "code",
   "execution_count": 2,
   "id": "7b4bcc5c-a3ee-43f2-9984-c1ac26d320c7",
   "metadata": {},
   "outputs": [
    {
     "name": "stdout",
     "output_type": "stream",
     "text": [
      "         date  small_sold  large_sold\n",
      "0  2019-11-03    10376832     7835071\n",
      "1  2019-11-10    10717154     8561348\n"
     ]
    }
   ],
   "source": [
    "import pandas as pd\n",
    "\n",
    "# Create a list of dictionaries with new data\n",
    "avocados_list = [\n",
    "    {\"date\": \"2019-11-03\", \"small_sold\": 10376832, \"large_sold\": 7835071},\n",
    "    {\"date\": \"2019-11-10\", \"small_sold\": 10717154, \"large_sold\": 8561348},\n",
    "]\n",
    "\n",
    "# Convert list into DataFrame\n",
    "avocados_2019 = pd.DataFrame(avocados_list)\n",
    "\n",
    "# Print the new DataFrame\n",
    "print(avocados_2019)"
   ]
  },
  {
   "cell_type": "markdown",
   "id": "a0e2a15e-e986-4a72-8c68-21198334d2f0",
   "metadata": {},
   "source": [
    "#### Dictionary of Lists"
   ]
  },
  {
   "cell_type": "markdown",
   "id": "4a220c93-f790-49ca-82a0-572b69837ca8",
   "metadata": {},
   "source": [
    "- If you create a `DataFrame` using the **dictionary of lists method** you will go through the data **column by column**"
   ]
  },
  {
   "cell_type": "code",
   "execution_count": 3,
   "id": "3bf6b4e0-c17f-4dbb-b9a0-ca750932dfc1",
   "metadata": {},
   "outputs": [
    {
     "name": "stdout",
     "output_type": "stream",
     "text": [
      "         date  small_sold  large_sold\n",
      "0  2019-11-17    10859987     7674135\n",
      "1  2019-12-01     9291631     6238096\n"
     ]
    }
   ],
   "source": [
    "import pandas as pd\n",
    "\n",
    "# Create a dictionary of lists with new data\n",
    "avocados_dict = {\n",
    "  \"date\": [\"2019-11-17\",\"2019-12-01\"],\n",
    "  \"small_sold\": [10859987,9291631],\n",
    "  \"large_sold\": [7674135,6238096]\n",
    "}\n",
    "\n",
    "# Convert dictionary into DataFrame\n",
    "avocados_2019 = pd.DataFrame(avocados_dict)\n",
    "\n",
    "# Print the new DataFrame\n",
    "print(avocados_2019)"
   ]
  },
  {
   "cell_type": "markdown",
   "id": "6feb2de4-f81c-4cfb-a036-636ffbc5251c",
   "metadata": {},
   "source": [
    "#### From CSV to DataFrame"
   ]
  },
  {
   "cell_type": "code",
   "execution_count": null,
   "id": "67e3d55e-55fe-481b-a27f-2265c4027d3b",
   "metadata": {},
   "outputs": [],
   "source": [
    "# From previous steps\n",
    "airline_bumping = pd.read_csv(\"airline_bumping.csv\")\n",
    "print(airline_bumping.head())\n",
    "\n",
    "# For each airline, select nb_bumped and total_passengers and sum\n",
    "airline_totals = airline_bumping.groupby(\"airline\")[[\"nb_bumped\", \"total_passengers\"]].sum()\n",
    "\n",
    "# Create new col, bumps_per_10k: no. of bumps per 10k passengers for each airline\n",
    "airline_totals[\"bumps_per_10k\"] = airline_totals[\"nb_bumped\"] / airline_totals[\"total_passengers\"] * 10000\n",
    "\n",
    "# Print airline_totals\n",
    "print(airline_totals.head())"
   ]
  },
  {
   "cell_type": "markdown",
   "id": "0fa7b3c2-b43b-431f-a7fa-e66ac6f856ff",
   "metadata": {},
   "source": [
    "#### From DataFrame to CSV"
   ]
  },
  {
   "cell_type": "code",
   "execution_count": null,
   "id": "8c865295-2011-4bcf-8f97-730385a5d01f",
   "metadata": {},
   "outputs": [],
   "source": [
    "# Create airline_totals_sorted\n",
    "airline_totals_sorted = airline_totals.sort_values(\"bumps_per_10k\", ascending=False)\n",
    "\n",
    "# Print airline_totals_sorted\n",
    "print(airline_totals_sorted)\n",
    "\n",
    "# Save as airline_totals_sorted.csv\n",
    "airline_totals_sorted.to_csv(\"airline_totals_sorted.csv\")"
   ]
  }
 ],
 "metadata": {
  "kernelspec": {
   "display_name": "Python 3",
   "language": "python",
   "name": "python3"
  },
  "language_info": {
   "codemirror_mode": {
    "name": "ipython",
    "version": 3
   },
   "file_extension": ".py",
   "mimetype": "text/x-python",
   "name": "python",
   "nbconvert_exporter": "python",
   "pygments_lexer": "ipython3",
   "version": "3.8.8"
  },
  "toc-autonumbering": true,
  "toc-showcode": false,
  "toc-showmarkdowntxt": false,
  "toc-showtags": false
 },
 "nbformat": 4,
 "nbformat_minor": 5
}
