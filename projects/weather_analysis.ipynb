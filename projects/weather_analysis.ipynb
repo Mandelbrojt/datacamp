{
 "cells": [
  {
   "cell_type": "markdown",
   "id": "dc60ae4d-9f4a-44b5-96d1-1ab6b1946788",
   "metadata": {},
   "source": [
    "### DATABASE URL's"
   ]
  },
  {
   "cell_type": "markdown",
   "id": "364a2cdc-1663-4cea-9ae2-f481bbdc476f",
   "metadata": {},
   "source": [
    "#### **MAIN SOURCE** -> [Weather Station Information](https://smn.conagua.gob.mx/es/climatologia/informacion-climatologica/informacion-estadistica-climatologica)"
   ]
  },
  {
   "cell_type": "markdown",
   "id": "23561f40-adfd-410e-b778-757608bd3a72",
   "metadata": {},
   "source": [
    "### IMPORT REQUIRED PACKAGES"
   ]
  },
  {
   "cell_type": "code",
   "execution_count": 2,
   "id": "934f928f-865a-4830-a378-afff170befea",
   "metadata": {},
   "outputs": [],
   "source": [
    "import pandas as pd\n",
    "import requests\n",
    "import csv\n",
    "from collections import defaultdict"
   ]
  },
  {
   "cell_type": "code",
   "execution_count": 3,
   "id": "f760a1da-31bd-414a-8ebc-33ab177df6e1",
   "metadata": {},
   "outputs": [],
   "source": [
    "# Climatological database from Cancun\n",
    "cun_smn_url = 'https://smn.conagua.gob.mx/tools/RESOURCES/Diarios/23155.txt'\n",
    "\n",
    "# Climatological database from Playa del Carmen\n",
    "cme_smn_url = 'https://smn.conagua.gob.mx/tools/RESOURCES/Diarios/23163.txt'\n",
    "\n",
    "# Climatological database from Tulum\n",
    "tuy_smn_url = 'https://smn.conagua.gob.mx/tools/RESOURCES/Diarios/23025.txt'"
   ]
  },
  {
   "cell_type": "code",
   "execution_count": 25,
   "id": "b5639f70-8304-479d-8266-df12299e7e89",
   "metadata": {},
   "outputs": [
    {
     "name": "stdout",
     "output_type": "stream",
     "text": [
      "First radar request code is: 200\n",
      "Second radar request code is: 200\n",
      "Third radar request code is: 200\n"
     ]
    }
   ],
   "source": [
    "get_cun_smn = requests.get(cun_smn_url)\n",
    "print(\"First radar request code is: \" + str(get_cun_smn.status_code))\n",
    "\n",
    "get_cme_smn = requests.get(cme_smn_url)\n",
    "print(\"Second radar request code is: \" + str(get_cme_smn.status_code))\n",
    "\n",
    "get_tuy_smn = requests.get(tuy_smn_url)\n",
    "print(\"Third radar request code is: \" + str(get_tuy_smn.status_code))"
   ]
  },
  {
   "cell_type": "code",
   "execution_count": 30,
   "id": "d54bf985-5171-44d9-bf9a-3ea9d717a813",
   "metadata": {},
   "outputs": [],
   "source": [
    "# Read the content of the server’s response.\n",
    "server_resp_cun = get_cun_smn.text\n",
    "server_resp_cme = get_cme_smn.text\n",
    "server_resp_tuy = get_tuy_smn.text"
   ]
  },
  {
   "cell_type": "code",
   "execution_count": 46,
   "id": "277c0f08-0b4a-4ecf-98e5-01ba84db5284",
   "metadata": {},
   "outputs": [
    {
     "name": "stdout",
     "output_type": "stream",
     "text": [
      "First weather radar is in: CANCUN\n",
      "\n",
      "Second weather radar is in: PLAYA DEL CARMEN\n",
      "\n",
      "Third weather radar is in: TULUM\n",
      "\n"
     ]
    }
   ],
   "source": [
    "# Store radars locations\n",
    "first_radar_name = server_resp_cun[204:210]\n",
    "second_radar_name = server_resp_cme[204:220]\n",
    "third_radar_name = server_resp_tuy[204:210]\n",
    "# Print the first \"200\" lines of text\n",
    "print(\"First weather radar is in: \" + first_radar_name)\n",
    "print()\n",
    "print(\"Second weather radar is in: \" + second_radar_name)\n",
    "print()\n",
    "print(\"Third weather radar is in: \" + third_radar_name)"
   ]
  },
  {
   "cell_type": "code",
   "execution_count": 47,
   "id": "aba6b389-6cc0-4c0f-8c4a-02ae4f24cd2d",
   "metadata": {},
   "outputs": [
    {
     "name": "stdout",
     "output_type": "stream",
     "text": [
      "CANCUN ---> 311506 lines of text\n",
      "PLAYA DEL CARMEN ---> 176068 lines of text\n",
      "TULUM\n",
      " ---> 583059 lines of text\n"
     ]
    }
   ],
   "source": [
    "# Store the number of lines of text on each response\n",
    "first_radar_len = int(len(server_resp_cun))\n",
    "second_radar_len = int(len(server_resp_cme))\n",
    "third_radar_len = int(len(server_resp_tuy))\n",
    "\n",
    "print(first_radar_name + \" ---> \" + str(first_radar_len) + \" lines of text\")\n",
    "print(second_radar_name + \" ---> \" + str(second_radar_len) + \" lines of text\")\n",
    "print(third_radar_name + \" ---> \" + str(third_radar_len) + \" lines of text\")"
   ]
  },
  {
   "cell_type": "code",
   "execution_count": 96,
   "id": "e209d36f-1a00-464c-8885-ae01050049b9",
   "metadata": {},
   "outputs": [],
   "source": [
    "cancun_radar = server_resp_cun[451:first_radar_len]\n",
    "playa_radar = server_resp_cun[458:second_radar_len]\n",
    "tulum_radar = server_resp_cun[451:third_radar_len]"
   ]
  },
  {
   "cell_type": "code",
   "execution_count": 87,
   "id": "61e64544-dba9-4077-923f-efa06b317fcc",
   "metadata": {},
   "outputs": [
    {
     "name": "stdout",
     "output_type": "stream",
     "text": [
      "Content encoding is: gzip\n"
     ]
    }
   ],
   "source": [
    "print(\"Content encoding is: \" + str(get_cun_smn.headers['Content-Encoding']))"
   ]
  },
  {
   "cell_type": "code",
   "execution_count": 88,
   "id": "3dae5deb-cc1e-470c-baa1-1f207b19eb11",
   "metadata": {},
   "outputs": [
    {
     "name": "stdout",
     "output_type": "stream",
     "text": [
      "Content type is: text/plain; charset=UTF-8\n"
     ]
    }
   ],
   "source": [
    "print(\"Content type is: \" + str(get_cun_smn.headers['Content-Type']))"
   ]
  },
  {
   "cell_type": "code",
   "execution_count": 121,
   "id": "51152a42-8e51-4fad-b42c-219539691aaa",
   "metadata": {},
   "outputs": [
    {
     "name": "stdout",
     "output_type": "stream",
     "text": [
      "01/04/1988  0     Nulo    33     26 \n",
      "02/04/1988  0     Nulo    33.6   25\n"
     ]
    }
   ],
   "source": [
    "print(cancun_radar[39:111])"
   ]
  },
  {
   "cell_type": "code",
   "execution_count": 132,
   "id": "91e19bce-d7e5-46b7-a89d-85d767192a19",
   "metadata": {},
   "outputs": [
    {
     "name": "stdout",
     "output_type": "stream",
     "text": [
      "01/04/1988\n",
      " \n",
      "02/04/1988  \n",
      "\n",
      "03/04/1988\n",
      "6 \n",
      "04/04/1\n"
     ]
    }
   ],
   "source": [
    "print(cancun_radar[39:49])\n",
    "print(cancun_radar[74:88])\n",
    "print(cancun_radar[112:123])\n",
    "print(cancun_radar[147:157])"
   ]
  },
  {
   "cell_type": "code",
   "execution_count": null,
   "id": "a3af4bc6-aebd-4206-9c56-8b987898ccaa",
   "metadata": {},
   "outputs": [],
   "source": []
  }
 ],
 "metadata": {
  "kernelspec": {
   "display_name": "Python 3",
   "language": "python",
   "name": "python3"
  },
  "language_info": {
   "codemirror_mode": {
    "name": "ipython",
    "version": 3
   },
   "file_extension": ".py",
   "mimetype": "text/x-python",
   "name": "python",
   "nbconvert_exporter": "python",
   "pygments_lexer": "ipython3",
   "version": "3.8.8"
  }
 },
 "nbformat": 4,
 "nbformat_minor": 5
}
