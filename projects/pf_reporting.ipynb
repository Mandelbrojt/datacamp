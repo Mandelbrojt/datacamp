{
 "cells": [
  {
   "cell_type": "markdown",
   "id": "2713fd64-54fe-4f11-b778-96b46c26781c",
   "metadata": {},
   "source": [
    "### Setting Up Files and Directories"
   ]
  },
  {
   "cell_type": "markdown",
   "id": "be17e8b4-a33c-4ee0-a431-e432c813176b",
   "metadata": {},
   "source": [
    "**NOTE**: the following steps help to automate file name that is used as the data source."
   ]
  },
  {
   "cell_type": "code",
   "execution_count": 1,
   "id": "7818b4db-9d99-4b6c-af3d-b7df45615ab6",
   "metadata": {},
   "outputs": [
    {
     "name": "stdout",
     "output_type": "stream",
     "text": [
      "The current working directory is: /Users/luismoreno/Documents/Python/python-datacamp/pandas/projects\n"
     ]
    }
   ],
   "source": [
    "import os\n",
    "print('The current working directory is:' + ' ' + os.getcwd())"
   ]
  },
  {
   "cell_type": "markdown",
   "id": "54db3ca6-8c67-4f1d-83b7-65a17d35fd9a",
   "metadata": {},
   "source": [
    "#### Automate file name"
   ]
  },
  {
   "cell_type": "code",
   "execution_count": 2,
   "id": "544578a1-610e-483d-87b7-0df857dd2ac5",
   "metadata": {},
   "outputs": [],
   "source": [
    "# Import datetime library\n",
    "from datetime import datetime\n",
    "\n",
    "# Store todays date into \"today_is\"\n",
    "today_is = datetime.today()\n",
    "\n",
    "# Convert datetime objecto into a string\n",
    "today_is_str = datetime.strftime(today_is, '%d-%m-%y')"
   ]
  },
  {
   "cell_type": "code",
   "execution_count": 7,
   "id": "b5f86c7d-2a82-448e-a638-8c94cd1965dd",
   "metadata": {},
   "outputs": [
    {
     "name": "stdout",
     "output_type": "stream",
     "text": [
      "The file is located at: /Users/luismoreno/Documents/Python/python-datacamp/pandas/datasets/Monefy.Data.26-09-21.csv\n"
     ]
    }
   ],
   "source": [
    "file_path = str('/Users/luismoreno/Documents/Python/python-datacamp/pandas/datasets/Monefy.Data.' + str(today_is_str) + '.csv')\n",
    "print('The file is located at: ' + file_path)"
   ]
  },
  {
   "cell_type": "code",
   "execution_count": 12,
   "id": "359798ba-2aa5-4429-8bf4-30038011805d",
   "metadata": {},
   "outputs": [],
   "source": [
    "# Import pandas package with alias \"pd\"\n",
    "import pandas as pd\n",
    "\n",
    "# Read CSV file\n",
    "cash_flow = pd.read_csv(file_path)"
   ]
  },
  {
   "cell_type": "markdown",
   "id": "43517252-a70f-4b1f-9c2c-b6b8867f8aca",
   "metadata": {},
   "source": [
    "#### DATAFRAME STRUCTURE"
   ]
  },
  {
   "cell_type": "code",
   "execution_count": 13,
   "id": "1538c24e-7089-4ef9-a353-6ffe016984e8",
   "metadata": {},
   "outputs": [
    {
     "name": "stdout",
     "output_type": "stream",
     "text": [
      "<class 'pandas.core.frame.DataFrame'>\n",
      "RangeIndex: 111 entries, 0 to 110\n",
      "Data columns (total 8 columns):\n",
      " #   Column            Non-Null Count  Dtype \n",
      "---  ------            --------------  ----- \n",
      " 0   date              111 non-null    object\n",
      " 1   account           111 non-null    object\n",
      " 2   category          111 non-null    object\n",
      " 3   amount            111 non-null    object\n",
      " 4   currency          111 non-null    object\n",
      " 5   converted amount  111 non-null    object\n",
      " 6   currency.1        111 non-null    object\n",
      " 7   description       109 non-null    object\n",
      "dtypes: object(8)\n",
      "memory usage: 7.1+ KB\n",
      "None\n"
     ]
    }
   ],
   "source": [
    "print(cash_flow.info())"
   ]
  },
  {
   "cell_type": "code",
   "execution_count": 14,
   "id": "29c2e25f-9870-4d06-b276-e8089e71e9b7",
   "metadata": {},
   "outputs": [
    {
     "name": "stdout",
     "output_type": "stream",
     "text": [
      "111 ROWS\n",
      "8 COLUMNS\n"
     ]
    }
   ],
   "source": [
    "print(str(cash_flow.shape[0]) + ' ROWS')\n",
    "print(str(cash_flow.shape[1]) + ' COLUMNS')"
   ]
  },
  {
   "cell_type": "markdown",
   "id": "f23d3db1-642e-483e-b0f3-03c9d4375355",
   "metadata": {},
   "source": [
    "#### COLUMN NAMES"
   ]
  },
  {
   "cell_type": "code",
   "execution_count": 15,
   "id": "ec47506d-984b-4a5d-9e6f-9bac830e8019",
   "metadata": {},
   "outputs": [
    {
     "name": "stdout",
     "output_type": "stream",
     "text": [
      "<class 'pandas.core.indexes.base.Index'>\n",
      "Index(['date', 'account', 'category', 'amount', 'currency', 'converted amount',\n",
      "       'currency.1', 'description'],\n",
      "      dtype='object')\n"
     ]
    }
   ],
   "source": [
    "print(type(cash_flow.columns))\n",
    "print(cash_flow.columns)\n"
   ]
  },
  {
   "cell_type": "markdown",
   "id": "322c0852-75aa-4144-af66-7051b972f158",
   "metadata": {},
   "source": [
    "#### DATAFRAME DIMENSION"
   ]
  },
  {
   "cell_type": "code",
   "execution_count": 16,
   "id": "e3b1e8ab-3224-45a4-b6e5-02c02391d63c",
   "metadata": {},
   "outputs": [
    {
     "name": "stdout",
     "output_type": "stream",
     "text": [
      "        date   account         category  amount currency converted amount  \\\n",
      "0 2021-09-27  Ingresos         Despensa     -15      MXN              -15   \n",
      "1 2021-09-27  Ingresos  Restaurante/Bar     -50      MXN              -50   \n",
      "2 2021-09-27  Ingresos        Depósitos  610.02      MXN           610.02   \n",
      "\n",
      "  currency.1      description  \n",
      "0        MXN    Fruta cortada  \n",
      "1        MXN  1 Mazapán latte  \n",
      "2        MXN         Reservas  \n"
     ]
    }
   ],
   "source": [
    "# Select only the 'date' column\n",
    "cf_date_col = cash_flow['date'].values   \n",
    "\n",
    "# Parse string into date type\n",
    "for value in cf_date_col:\n",
    "    cash_flow['date'] = datetime.strptime(value, '%d/%m/%Y')\n",
    "    \n",
    "print(cash_flow.head(3))"
   ]
  },
  {
   "cell_type": "code",
   "execution_count": 17,
   "id": "08872003-e36a-417d-be43-951678a61cd1",
   "metadata": {},
   "outputs": [],
   "source": [
    "# Parse string into float type\n",
    "for amount in cash_flow['converted amount']:\n",
    "    # Delete commas of the string 'converted amount'\n",
    "    no_comma_amount = amount.replace(',',\"\")\n",
    "    cash_flow['amount_num'] = float(no_comma_amount)"
   ]
  },
  {
   "cell_type": "code",
   "execution_count": 18,
   "id": "aba8e690-5ade-48f5-b7e5-6ed9269f68bd",
   "metadata": {},
   "outputs": [
    {
     "name": "stdout",
     "output_type": "stream",
     "text": [
      "        date   account                    category  amount currency  \\\n",
      "0 2021-09-27  Ingresos                    Despensa     -15      MXN   \n",
      "1 2021-09-27  Ingresos             Restaurante/Bar     -50      MXN   \n",
      "2 2021-09-27  Ingresos                   Depósitos  610.02      MXN   \n",
      "3 2021-09-27  Ingresos  Initial balance 'Ingresos'   6,000      MXN   \n",
      "4 2021-09-27  Ingresos             Restaurante/Bar     -49      MXN   \n",
      "\n",
      "  converted amount currency.1      description  amount_num  \n",
      "0              -15        MXN    Fruta cortada     -1500.0  \n",
      "1              -50        MXN  1 Mazapán latte     -1500.0  \n",
      "2           610.02        MXN         Reservas     -1500.0  \n",
      "3            6,000        MXN              NaN     -1500.0  \n",
      "4              -49        MXN          Bionico     -1500.0  \n"
     ]
    }
   ],
   "source": [
    "print(cash_flow.head(5))"
   ]
  },
  {
   "cell_type": "code",
   "execution_count": 24,
   "id": "876f5293-ff40-4f37-bdbc-e5b7a81cb26a",
   "metadata": {},
   "outputs": [
    {
     "ename": "KeyError",
     "evalue": "Timestamp('2021-09-27 00:00:00')",
     "output_type": "error",
     "traceback": [
      "\u001b[0;31m---------------------------------------------------------------------------\u001b[0m",
      "\u001b[0;31mKeyError\u001b[0m                                  Traceback (most recent call last)",
      "\u001b[0;32m~/opt/anaconda3/lib/python3.8/site-packages/pandas/core/indexes/base.py\u001b[0m in \u001b[0;36mget_loc\u001b[0;34m(self, key, method, tolerance)\u001b[0m\n\u001b[1;32m   3079\u001b[0m             \u001b[0;32mtry\u001b[0m\u001b[0;34m:\u001b[0m\u001b[0;34m\u001b[0m\u001b[0;34m\u001b[0m\u001b[0m\n\u001b[0;32m-> 3080\u001b[0;31m                 \u001b[0;32mreturn\u001b[0m \u001b[0mself\u001b[0m\u001b[0;34m.\u001b[0m\u001b[0m_engine\u001b[0m\u001b[0;34m.\u001b[0m\u001b[0mget_loc\u001b[0m\u001b[0;34m(\u001b[0m\u001b[0mcasted_key\u001b[0m\u001b[0;34m)\u001b[0m\u001b[0;34m\u001b[0m\u001b[0;34m\u001b[0m\u001b[0m\n\u001b[0m\u001b[1;32m   3081\u001b[0m             \u001b[0;32mexcept\u001b[0m \u001b[0mKeyError\u001b[0m \u001b[0;32mas\u001b[0m \u001b[0merr\u001b[0m\u001b[0;34m:\u001b[0m\u001b[0;34m\u001b[0m\u001b[0;34m\u001b[0m\u001b[0m\n",
      "\u001b[0;32mpandas/_libs/index.pyx\u001b[0m in \u001b[0;36mpandas._libs.index.IndexEngine.get_loc\u001b[0;34m()\u001b[0m\n",
      "\u001b[0;32mpandas/_libs/index.pyx\u001b[0m in \u001b[0;36mpandas._libs.index.IndexEngine.get_loc\u001b[0;34m()\u001b[0m\n",
      "\u001b[0;32mpandas/_libs/hashtable_class_helper.pxi\u001b[0m in \u001b[0;36mpandas._libs.hashtable.PyObjectHashTable.get_item\u001b[0;34m()\u001b[0m\n",
      "\u001b[0;32mpandas/_libs/hashtable_class_helper.pxi\u001b[0m in \u001b[0;36mpandas._libs.hashtable.PyObjectHashTable.get_item\u001b[0;34m()\u001b[0m\n",
      "\u001b[0;31mKeyError\u001b[0m: Timestamp('2021-09-27 00:00:00')",
      "\nThe above exception was the direct cause of the following exception:\n",
      "\u001b[0;31mKeyError\u001b[0m                                  Traceback (most recent call last)",
      "\u001b[0;32m<ipython-input-24-10e69b2f9d3e>\u001b[0m in \u001b[0;36m<module>\u001b[0;34m\u001b[0m\n\u001b[1;32m      1\u001b[0m \u001b[0;32mfor\u001b[0m \u001b[0mdate\u001b[0m \u001b[0;32min\u001b[0m \u001b[0mcash_flow\u001b[0m\u001b[0;34m[\u001b[0m\u001b[0;34m\"date\"\u001b[0m\u001b[0;34m]\u001b[0m\u001b[0;34m:\u001b[0m\u001b[0;34m\u001b[0m\u001b[0;34m\u001b[0m\u001b[0m\n\u001b[0;32m----> 2\u001b[0;31m     \u001b[0mmonth\u001b[0m \u001b[0;34m=\u001b[0m \u001b[0mcash_flow\u001b[0m\u001b[0;34m[\u001b[0m\u001b[0mdate\u001b[0m\u001b[0;34m]\u001b[0m\u001b[0;34m.\u001b[0m\u001b[0mstrftime\u001b[0m\u001b[0;34m(\u001b[0m\u001b[0;34m\"%d-%B\"\u001b[0m\u001b[0;34m)\u001b[0m\u001b[0;34m\u001b[0m\u001b[0;34m\u001b[0m\u001b[0m\n\u001b[0m\u001b[1;32m      3\u001b[0m \u001b[0mprint\u001b[0m\u001b[0;34m(\u001b[0m\u001b[0mcash_flow\u001b[0m\u001b[0;34m.\u001b[0m\u001b[0mhead\u001b[0m\u001b[0;34m(\u001b[0m\u001b[0;36m5\u001b[0m\u001b[0;34m)\u001b[0m\u001b[0;34m)\u001b[0m\u001b[0;34m\u001b[0m\u001b[0;34m\u001b[0m\u001b[0m\n",
      "\u001b[0;32m~/opt/anaconda3/lib/python3.8/site-packages/pandas/core/frame.py\u001b[0m in \u001b[0;36m__getitem__\u001b[0;34m(self, key)\u001b[0m\n\u001b[1;32m   3022\u001b[0m             \u001b[0;32mif\u001b[0m \u001b[0mself\u001b[0m\u001b[0;34m.\u001b[0m\u001b[0mcolumns\u001b[0m\u001b[0;34m.\u001b[0m\u001b[0mnlevels\u001b[0m \u001b[0;34m>\u001b[0m \u001b[0;36m1\u001b[0m\u001b[0;34m:\u001b[0m\u001b[0;34m\u001b[0m\u001b[0;34m\u001b[0m\u001b[0m\n\u001b[1;32m   3023\u001b[0m                 \u001b[0;32mreturn\u001b[0m \u001b[0mself\u001b[0m\u001b[0;34m.\u001b[0m\u001b[0m_getitem_multilevel\u001b[0m\u001b[0;34m(\u001b[0m\u001b[0mkey\u001b[0m\u001b[0;34m)\u001b[0m\u001b[0;34m\u001b[0m\u001b[0;34m\u001b[0m\u001b[0m\n\u001b[0;32m-> 3024\u001b[0;31m             \u001b[0mindexer\u001b[0m \u001b[0;34m=\u001b[0m \u001b[0mself\u001b[0m\u001b[0;34m.\u001b[0m\u001b[0mcolumns\u001b[0m\u001b[0;34m.\u001b[0m\u001b[0mget_loc\u001b[0m\u001b[0;34m(\u001b[0m\u001b[0mkey\u001b[0m\u001b[0;34m)\u001b[0m\u001b[0;34m\u001b[0m\u001b[0;34m\u001b[0m\u001b[0m\n\u001b[0m\u001b[1;32m   3025\u001b[0m             \u001b[0;32mif\u001b[0m \u001b[0mis_integer\u001b[0m\u001b[0;34m(\u001b[0m\u001b[0mindexer\u001b[0m\u001b[0;34m)\u001b[0m\u001b[0;34m:\u001b[0m\u001b[0;34m\u001b[0m\u001b[0;34m\u001b[0m\u001b[0m\n\u001b[1;32m   3026\u001b[0m                 \u001b[0mindexer\u001b[0m \u001b[0;34m=\u001b[0m \u001b[0;34m[\u001b[0m\u001b[0mindexer\u001b[0m\u001b[0;34m]\u001b[0m\u001b[0;34m\u001b[0m\u001b[0;34m\u001b[0m\u001b[0m\n",
      "\u001b[0;32m~/opt/anaconda3/lib/python3.8/site-packages/pandas/core/indexes/base.py\u001b[0m in \u001b[0;36mget_loc\u001b[0;34m(self, key, method, tolerance)\u001b[0m\n\u001b[1;32m   3080\u001b[0m                 \u001b[0;32mreturn\u001b[0m \u001b[0mself\u001b[0m\u001b[0;34m.\u001b[0m\u001b[0m_engine\u001b[0m\u001b[0;34m.\u001b[0m\u001b[0mget_loc\u001b[0m\u001b[0;34m(\u001b[0m\u001b[0mcasted_key\u001b[0m\u001b[0;34m)\u001b[0m\u001b[0;34m\u001b[0m\u001b[0;34m\u001b[0m\u001b[0m\n\u001b[1;32m   3081\u001b[0m             \u001b[0;32mexcept\u001b[0m \u001b[0mKeyError\u001b[0m \u001b[0;32mas\u001b[0m \u001b[0merr\u001b[0m\u001b[0;34m:\u001b[0m\u001b[0;34m\u001b[0m\u001b[0;34m\u001b[0m\u001b[0m\n\u001b[0;32m-> 3082\u001b[0;31m                 \u001b[0;32mraise\u001b[0m \u001b[0mKeyError\u001b[0m\u001b[0;34m(\u001b[0m\u001b[0mkey\u001b[0m\u001b[0;34m)\u001b[0m \u001b[0;32mfrom\u001b[0m \u001b[0merr\u001b[0m\u001b[0;34m\u001b[0m\u001b[0;34m\u001b[0m\u001b[0m\n\u001b[0m\u001b[1;32m   3083\u001b[0m \u001b[0;34m\u001b[0m\u001b[0m\n\u001b[1;32m   3084\u001b[0m         \u001b[0;32mif\u001b[0m \u001b[0mtolerance\u001b[0m \u001b[0;32mis\u001b[0m \u001b[0;32mnot\u001b[0m \u001b[0;32mNone\u001b[0m\u001b[0;34m:\u001b[0m\u001b[0;34m\u001b[0m\u001b[0;34m\u001b[0m\u001b[0m\n",
      "\u001b[0;31mKeyError\u001b[0m: Timestamp('2021-09-27 00:00:00')"
     ]
    }
   ],
   "source": [
    "for date in cash_flow[\"date\"]:\n",
    "    month = cash_flow[date].strftime(\"%d-%B\")\n",
    "print(cash_flow.head(5))"
   ]
  },
  {
   "cell_type": "code",
   "execution_count": 20,
   "id": "915b7959-dfe4-44ec-90eb-e8baaa63cb9b",
   "metadata": {},
   "outputs": [
    {
     "data": {
      "image/png": "[encoded data removed]",
      "text/plain": [
       "<Figure size 432x288 with 1 Axes>"
      ]
     },
     "metadata": {
      "needs_background": "light"
     },
     "output_type": "display_data"
    }
   ],
   "source": [
    "plt.plot(cash_flow[\"date\"], cash_flow[\"amount_num\"])\n",
    "plt.show()"
   ]
  }
 ],
 "metadata": {
  "kernelspec": {
   "display_name": "Python 3",
   "language": "python",
   "name": "python3"
  },
  "language_info": {
   "codemirror_mode": {
    "name": "ipython",
    "version": 3
   },
   "file_extension": ".py",
   "mimetype": "text/x-python",
   "name": "python",
   "nbconvert_exporter": "python",
   "pygments_lexer": "ipython3",
   "version": "3.8.8"
  }
 },
 "nbformat": 4,
 "nbformat_minor": 5
}
